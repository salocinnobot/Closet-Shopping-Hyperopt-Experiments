{
  "nbformat": 4,
  "nbformat_minor": 0,
  "metadata": {
    "colab": {
      "name": "Fashion-MNIST.ipynb",
      "provenance": [],
      "collapsed_sections": [],
      "toc_visible": true,
      "authorship_tag": "ABX9TyMsBw9Cfn7vQylRRFQVr4kK",
      "include_colab_link": true
    },
    "kernelspec": {
      "name": "python3",
      "display_name": "Python 3"
    },
    "language_info": {
      "name": "python"
    }
  },
  "cells": [
    {
      "cell_type": "markdown",
      "metadata": {
        "id": "view-in-github",
        "colab_type": "text"
      },
      "source": [
        "<a href=\"https://colab.research.google.com/github/salocinnobot/Fashion-MNIST/blob/main/Fashion-MNIST.ipynb\" target=\"_parent\"><img src=\"https://colab.research.google.com/assets/colab-badge.svg\" alt=\"Open In Colab\"/></a>"
      ]
    },
    {
      "cell_type": "markdown",
      "source": [
        "# Initialization of notebook to work with Kaggle Dataset\n",
        "# **SKIP if working with keras package**"
      ],
      "metadata": {
        "id": "IKIrZyrHAmdN"
      }
    },
    {
      "cell_type": "code",
      "execution_count": 8,
      "metadata": {
        "colab": {
          "base_uri": "https://localhost:8080/"
        },
        "outputId": "fa222c59-90b3-4ac9-f6d3-d3117f46c341",
        "id": "tOTQ02WWAmdO"
      },
      "outputs": [
        {
          "output_type": "stream",
          "name": "stdout",
          "text": [
            "Requirement already satisfied: kaggle in /usr/local/lib/python3.7/dist-packages (1.5.12)\n",
            "Requirement already satisfied: python-dateutil in /usr/local/lib/python3.7/dist-packages (from kaggle) (2.8.2)\n",
            "Requirement already satisfied: python-slugify in /usr/local/lib/python3.7/dist-packages (from kaggle) (6.1.1)\n",
            "Requirement already satisfied: requests in /usr/local/lib/python3.7/dist-packages (from kaggle) (2.23.0)\n",
            "Requirement already satisfied: tqdm in /usr/local/lib/python3.7/dist-packages (from kaggle) (4.64.0)\n",
            "Requirement already satisfied: urllib3 in /usr/local/lib/python3.7/dist-packages (from kaggle) (1.24.3)\n",
            "Requirement already satisfied: six>=1.10 in /usr/local/lib/python3.7/dist-packages (from kaggle) (1.15.0)\n",
            "Requirement already satisfied: certifi in /usr/local/lib/python3.7/dist-packages (from kaggle) (2021.10.8)\n",
            "Requirement already satisfied: text-unidecode>=1.3 in /usr/local/lib/python3.7/dist-packages (from python-slugify->kaggle) (1.3)\n",
            "Requirement already satisfied: idna<3,>=2.5 in /usr/local/lib/python3.7/dist-packages (from requests->kaggle) (2.10)\n",
            "Requirement already satisfied: chardet<4,>=3.0.2 in /usr/local/lib/python3.7/dist-packages (from requests->kaggle) (3.0.4)\n"
          ]
        }
      ],
      "source": [
        "!pip install kaggle"
      ]
    },
    {
      "cell_type": "code",
      "source": [
        "! cd ~/.kaggle"
      ],
      "metadata": {
        "id": "dUGDUITiAmdO"
      },
      "execution_count": 10,
      "outputs": []
    },
    {
      "cell_type": "code",
      "source": [
        "! cp kaggle.json ~/.kaggle/"
      ],
      "metadata": {
        "id": "D3IZSeCSAmdP"
      },
      "execution_count": 11,
      "outputs": []
    },
    {
      "cell_type": "code",
      "source": [
        "! chmod 600 ~/.kaggle/kaggle.json"
      ],
      "metadata": {
        "id": "TtMXoZeNAmdP"
      },
      "execution_count": 12,
      "outputs": []
    },
    {
      "cell_type": "code",
      "source": [
        "! kaggle datasets download -d zalando-research/fashionmnist"
      ],
      "metadata": {
        "colab": {
          "base_uri": "https://localhost:8080/"
        },
        "outputId": "2b068d15-4753-41c5-b253-12995ea880da",
        "id": "WdIxInq9AmdP"
      },
      "execution_count": 13,
      "outputs": [
        {
          "output_type": "stream",
          "name": "stdout",
          "text": [
            "Downloading fashionmnist.zip to /content\n",
            " 92% 63.0M/68.8M [00:00<00:00, 173MB/s]\n",
            "100% 68.8M/68.8M [00:00<00:00, 165MB/s]\n"
          ]
        }
      ]
    },
    {
      "cell_type": "code",
      "source": [
        "! unzip fashionmnist"
      ],
      "metadata": {
        "colab": {
          "base_uri": "https://localhost:8080/"
        },
        "outputId": "247ac374-b721-4a9d-8f69-81c6793485e3",
        "id": "TMw4DNaiAmdP"
      },
      "execution_count": 14,
      "outputs": [
        {
          "output_type": "stream",
          "name": "stdout",
          "text": [
            "Archive:  fashionmnist.zip\n",
            "  inflating: fashion-mnist_test.csv  \n",
            "  inflating: fashion-mnist_train.csv  \n",
            "  inflating: t10k-images-idx3-ubyte  \n",
            "  inflating: t10k-labels-idx1-ubyte  \n",
            "  inflating: train-images-idx3-ubyte  \n",
            "  inflating: train-labels-idx1-ubyte  \n"
          ]
        }
      ]
    },
    {
      "cell_type": "code",
      "source": [
        "## We see here, that Google Colab provide a LINUX directory from which we can access our data\n",
        "!ls"
      ],
      "metadata": {
        "colab": {
          "base_uri": "https://localhost:8080/"
        },
        "outputId": "bd19a4cc-14b5-4573-925f-f58d85e35759",
        "id": "2cCBi90bAmdP"
      },
      "execution_count": 15,
      "outputs": [
        {
          "output_type": "stream",
          "name": "stdout",
          "text": [
            "fashion-mnist_test.csv\t kaggle.json\t\t t10k-labels-idx1-ubyte\n",
            "fashion-mnist_train.csv  sample_data\t\t train-images-idx3-ubyte\n",
            "fashionmnist.zip\t t10k-images-idx3-ubyte  train-labels-idx1-ubyte\n"
          ]
        }
      ]
    },
    {
      "cell_type": "code",
      "source": [
        "## Imports Colab Notebooks as a folder from Google Drive into Google Colab Directory. \n",
        "## Folder can be found under gdrive/MyDrive/Colab Notebooks/colab.ipynb\n",
        "## Utilized by hyperas to run optimization (notebook_name = 'notebook')\n",
        "## Please see https://github.com/maxpumperla/hyperas/issues/83 for more information\n",
        "\n",
        "\n",
        "from google.colab import drive\n",
        "drive.mount('/gdrive')\n",
        "%ls /gdrive"
      ],
      "metadata": {
        "colab": {
          "base_uri": "https://localhost:8080/"
        },
        "id": "_Q9kVX9DrOR-",
        "outputId": "0a6717c6-8a86-4ee2-9d56-e5954dce9798"
      },
      "execution_count": 16,
      "outputs": [
        {
          "output_type": "stream",
          "name": "stdout",
          "text": [
            "Mounted at /gdrive\n",
            "\u001b[0m\u001b[01;34mMyDrive\u001b[0m/\n"
          ]
        }
      ]
    },
    {
      "cell_type": "markdown",
      "source": [
        "# **A guide to this workbook**\n",
        "\n",
        "\n",
        "- Section 1: Separating our training/test data, along with further splitting our training data into validation data\n",
        "\n",
        "- Section 2: Encoding our y_values into one-hot-encoded vectors using to_categorical\n",
        "\n",
        "- Section 3: Reviewing important terms necessary for understanding convolutional neural networks (convolutions, kernels, filters)\n",
        "\n",
        "- Section 4: Applying convolutions (edge detection, blur, upsampling) to our training images\n",
        "\n",
        "- Section 5: Applying our first CNN using hyperas\n",
        "\n",
        "\n"
      ],
      "metadata": {
        "id": "y9a95YmdRYAw"
      }
    },
    {
      "cell_type": "markdown",
      "source": [
        "## **Section 1:**\n",
        "\n",
        "Let's separate our training/test data"
      ],
      "metadata": {
        "id": "O_WKXqBNAmdQ"
      }
    },
    {
      "cell_type": "code",
      "source": [
        "!pip install hyperopt\n",
        "!pip install hyperas"
      ],
      "metadata": {
        "colab": {
          "base_uri": "https://localhost:8080/"
        },
        "id": "oslUHZqxY9se",
        "outputId": "b5f5e8e6-4b9a-46e2-ccf3-b119ecf0c76d"
      },
      "execution_count": 17,
      "outputs": [
        {
          "output_type": "stream",
          "name": "stdout",
          "text": [
            "Requirement already satisfied: hyperopt in /usr/local/lib/python3.7/dist-packages (0.1.2)\n",
            "Requirement already satisfied: scipy in /usr/local/lib/python3.7/dist-packages (from hyperopt) (1.4.1)\n",
            "Requirement already satisfied: numpy in /usr/local/lib/python3.7/dist-packages (from hyperopt) (1.21.6)\n",
            "Requirement already satisfied: tqdm in /usr/local/lib/python3.7/dist-packages (from hyperopt) (4.64.0)\n",
            "Requirement already satisfied: networkx in /usr/local/lib/python3.7/dist-packages (from hyperopt) (2.6.3)\n",
            "Requirement already satisfied: future in /usr/local/lib/python3.7/dist-packages (from hyperopt) (0.16.0)\n",
            "Requirement already satisfied: pymongo in /usr/local/lib/python3.7/dist-packages (from hyperopt) (4.1.1)\n",
            "Requirement already satisfied: six in /usr/local/lib/python3.7/dist-packages (from hyperopt) (1.15.0)\n",
            "Collecting hyperas\n",
            "  Downloading hyperas-0.4.1-py3-none-any.whl (9.1 kB)\n",
            "Requirement already satisfied: nbformat in /usr/local/lib/python3.7/dist-packages (from hyperas) (5.3.0)\n",
            "Requirement already satisfied: keras in /usr/local/lib/python3.7/dist-packages (from hyperas) (2.8.0)\n",
            "Requirement already satisfied: jupyter in /usr/local/lib/python3.7/dist-packages (from hyperas) (1.0.0)\n",
            "Requirement already satisfied: entrypoints in /usr/local/lib/python3.7/dist-packages (from hyperas) (0.4)\n",
            "Requirement already satisfied: nbconvert in /usr/local/lib/python3.7/dist-packages (from hyperas) (5.6.1)\n",
            "Requirement already satisfied: hyperopt in /usr/local/lib/python3.7/dist-packages (from hyperas) (0.1.2)\n",
            "Requirement already satisfied: pymongo in /usr/local/lib/python3.7/dist-packages (from hyperopt->hyperas) (4.1.1)\n",
            "Requirement already satisfied: tqdm in /usr/local/lib/python3.7/dist-packages (from hyperopt->hyperas) (4.64.0)\n",
            "Requirement already satisfied: scipy in /usr/local/lib/python3.7/dist-packages (from hyperopt->hyperas) (1.4.1)\n",
            "Requirement already satisfied: networkx in /usr/local/lib/python3.7/dist-packages (from hyperopt->hyperas) (2.6.3)\n",
            "Requirement already satisfied: future in /usr/local/lib/python3.7/dist-packages (from hyperopt->hyperas) (0.16.0)\n",
            "Requirement already satisfied: numpy in /usr/local/lib/python3.7/dist-packages (from hyperopt->hyperas) (1.21.6)\n",
            "Requirement already satisfied: six in /usr/local/lib/python3.7/dist-packages (from hyperopt->hyperas) (1.15.0)\n",
            "Requirement already satisfied: qtconsole in /usr/local/lib/python3.7/dist-packages (from jupyter->hyperas) (5.3.0)\n",
            "Requirement already satisfied: jupyter-console in /usr/local/lib/python3.7/dist-packages (from jupyter->hyperas) (5.2.0)\n",
            "Requirement already satisfied: notebook in /usr/local/lib/python3.7/dist-packages (from jupyter->hyperas) (5.3.1)\n",
            "Requirement already satisfied: ipywidgets in /usr/local/lib/python3.7/dist-packages (from jupyter->hyperas) (7.7.0)\n",
            "Requirement already satisfied: ipykernel in /usr/local/lib/python3.7/dist-packages (from jupyter->hyperas) (4.10.1)\n",
            "Requirement already satisfied: jupyter-client in /usr/local/lib/python3.7/dist-packages (from ipykernel->jupyter->hyperas) (5.3.5)\n",
            "Requirement already satisfied: traitlets>=4.1.0 in /usr/local/lib/python3.7/dist-packages (from ipykernel->jupyter->hyperas) (5.1.1)\n",
            "Requirement already satisfied: ipython>=4.0.0 in /usr/local/lib/python3.7/dist-packages (from ipykernel->jupyter->hyperas) (5.5.0)\n",
            "Requirement already satisfied: tornado>=4.0 in /usr/local/lib/python3.7/dist-packages (from ipykernel->jupyter->hyperas) (5.1.1)\n",
            "Requirement already satisfied: decorator in /usr/local/lib/python3.7/dist-packages (from ipython>=4.0.0->ipykernel->jupyter->hyperas) (4.4.2)\n",
            "Requirement already satisfied: pexpect in /usr/local/lib/python3.7/dist-packages (from ipython>=4.0.0->ipykernel->jupyter->hyperas) (4.8.0)\n",
            "Requirement already satisfied: prompt-toolkit<2.0.0,>=1.0.4 in /usr/local/lib/python3.7/dist-packages (from ipython>=4.0.0->ipykernel->jupyter->hyperas) (1.0.18)\n",
            "Requirement already satisfied: simplegeneric>0.8 in /usr/local/lib/python3.7/dist-packages (from ipython>=4.0.0->ipykernel->jupyter->hyperas) (0.8.1)\n",
            "Requirement already satisfied: setuptools>=18.5 in /usr/local/lib/python3.7/dist-packages (from ipython>=4.0.0->ipykernel->jupyter->hyperas) (57.4.0)\n",
            "Requirement already satisfied: pickleshare in /usr/local/lib/python3.7/dist-packages (from ipython>=4.0.0->ipykernel->jupyter->hyperas) (0.7.5)\n",
            "Requirement already satisfied: pygments in /usr/local/lib/python3.7/dist-packages (from ipython>=4.0.0->ipykernel->jupyter->hyperas) (2.6.1)\n",
            "Requirement already satisfied: wcwidth in /usr/local/lib/python3.7/dist-packages (from prompt-toolkit<2.0.0,>=1.0.4->ipython>=4.0.0->ipykernel->jupyter->hyperas) (0.2.5)\n",
            "Requirement already satisfied: ipython-genutils~=0.2.0 in /usr/local/lib/python3.7/dist-packages (from ipywidgets->jupyter->hyperas) (0.2.0)\n",
            "Requirement already satisfied: widgetsnbextension~=3.6.0 in /usr/local/lib/python3.7/dist-packages (from ipywidgets->jupyter->hyperas) (3.6.0)\n",
            "Requirement already satisfied: jupyterlab-widgets>=1.0.0 in /usr/local/lib/python3.7/dist-packages (from ipywidgets->jupyter->hyperas) (1.1.0)\n",
            "Requirement already satisfied: fastjsonschema in /usr/local/lib/python3.7/dist-packages (from nbformat->hyperas) (2.15.3)\n",
            "Requirement already satisfied: jsonschema>=2.6 in /usr/local/lib/python3.7/dist-packages (from nbformat->hyperas) (4.3.3)\n",
            "Requirement already satisfied: jupyter-core in /usr/local/lib/python3.7/dist-packages (from nbformat->hyperas) (4.9.2)\n",
            "Requirement already satisfied: importlib-metadata in /usr/local/lib/python3.7/dist-packages (from jsonschema>=2.6->nbformat->hyperas) (4.11.3)\n",
            "Requirement already satisfied: attrs>=17.4.0 in /usr/local/lib/python3.7/dist-packages (from jsonschema>=2.6->nbformat->hyperas) (21.4.0)\n",
            "Requirement already satisfied: typing-extensions in /usr/local/lib/python3.7/dist-packages (from jsonschema>=2.6->nbformat->hyperas) (4.1.1)\n",
            "Requirement already satisfied: importlib-resources>=1.4.0 in /usr/local/lib/python3.7/dist-packages (from jsonschema>=2.6->nbformat->hyperas) (5.7.0)\n",
            "Requirement already satisfied: pyrsistent!=0.17.0,!=0.17.1,!=0.17.2,>=0.14.0 in /usr/local/lib/python3.7/dist-packages (from jsonschema>=2.6->nbformat->hyperas) (0.18.1)\n",
            "Requirement already satisfied: zipp>=3.1.0 in /usr/local/lib/python3.7/dist-packages (from importlib-resources>=1.4.0->jsonschema>=2.6->nbformat->hyperas) (3.8.0)\n",
            "Requirement already satisfied: jinja2 in /usr/local/lib/python3.7/dist-packages (from notebook->jupyter->hyperas) (2.11.3)\n",
            "Requirement already satisfied: Send2Trash in /usr/local/lib/python3.7/dist-packages (from notebook->jupyter->hyperas) (1.8.0)\n",
            "Requirement already satisfied: terminado>=0.8.1 in /usr/local/lib/python3.7/dist-packages (from notebook->jupyter->hyperas) (0.13.3)\n",
            "Requirement already satisfied: pyzmq>=13 in /usr/local/lib/python3.7/dist-packages (from jupyter-client->ipykernel->jupyter->hyperas) (22.3.0)\n",
            "Requirement already satisfied: python-dateutil>=2.1 in /usr/local/lib/python3.7/dist-packages (from jupyter-client->ipykernel->jupyter->hyperas) (2.8.2)\n",
            "Requirement already satisfied: ptyprocess in /usr/local/lib/python3.7/dist-packages (from terminado>=0.8.1->notebook->jupyter->hyperas) (0.7.0)\n",
            "Requirement already satisfied: MarkupSafe>=0.23 in /usr/local/lib/python3.7/dist-packages (from jinja2->notebook->jupyter->hyperas) (2.0.1)\n",
            "Requirement already satisfied: mistune<2,>=0.8.1 in /usr/local/lib/python3.7/dist-packages (from nbconvert->hyperas) (0.8.4)\n",
            "Requirement already satisfied: testpath in /usr/local/lib/python3.7/dist-packages (from nbconvert->hyperas) (0.6.0)\n",
            "Requirement already satisfied: pandocfilters>=1.4.1 in /usr/local/lib/python3.7/dist-packages (from nbconvert->hyperas) (1.5.0)\n",
            "Requirement already satisfied: defusedxml in /usr/local/lib/python3.7/dist-packages (from nbconvert->hyperas) (0.7.1)\n",
            "Requirement already satisfied: bleach in /usr/local/lib/python3.7/dist-packages (from nbconvert->hyperas) (5.0.0)\n",
            "Requirement already satisfied: webencodings in /usr/local/lib/python3.7/dist-packages (from bleach->nbconvert->hyperas) (0.5.1)\n",
            "Requirement already satisfied: qtpy>=2.0.1 in /usr/local/lib/python3.7/dist-packages (from qtconsole->jupyter->hyperas) (2.0.1)\n",
            "Requirement already satisfied: packaging in /usr/local/lib/python3.7/dist-packages (from qtpy>=2.0.1->qtconsole->jupyter->hyperas) (21.3)\n",
            "Requirement already satisfied: pyparsing!=3.0.5,>=2.0.2 in /usr/local/lib/python3.7/dist-packages (from packaging->qtpy>=2.0.1->qtconsole->jupyter->hyperas) (3.0.8)\n",
            "Installing collected packages: hyperas\n",
            "Successfully installed hyperas-0.4.1\n"
          ]
        }
      ]
    },
    {
      "cell_type": "code",
      "source": [
        "import numpy as np\n",
        "import pandas as pd\n",
        "import matplotlib.pyplot as plt\n",
        "import os\n",
        "from tensorflow import keras\n",
        "from sklearn.model_selection import train_test_split\n",
        "from tensorflow.keras.utils import to_categorical\n",
        "from skimage.measure import block_reduce\n",
        "from scipy.signal import convolve2d\n",
        "from hyperopt import Trials, STATUS_OK, tpe\n",
        "from hyperas import optim\n",
        "from hyperas.distributions import choice, uniform"
      ],
      "metadata": {
        "id": "n6ydM1qwAmdQ"
      },
      "execution_count": 18,
      "outputs": []
    },
    {
      "cell_type": "code",
      "source": [
        "from keras.datasets import fashion_mnist\n",
        "## If using Keras Package\n",
        "training_data = fashion_mnist"
      ],
      "metadata": {
        "id": "ukPq7v2FydSs"
      },
      "execution_count": null,
      "outputs": []
    },
    {
      "cell_type": "code",
      "source": [
        "training_data = pd.read_csv(\"fashion-mnist_train.csv\")\n",
        "test_data = pd.read_csv(\"fashion-mnist_test.csv\")"
      ],
      "metadata": {
        "id": "MKeCTEUwAmdQ"
      },
      "execution_count": 55,
      "outputs": []
    },
    {
      "cell_type": "code",
      "source": [
        "test_data"
      ],
      "metadata": {
        "colab": {
          "base_uri": "https://localhost:8080/",
          "height": 423
        },
        "outputId": "0d861a1a-0b92-4f53-adc2-6f38e95de143",
        "id": "6Pg6KzBFAmdQ"
      },
      "execution_count": 56,
      "outputs": [
        {
          "output_type": "execute_result",
          "data": {
            "text/plain": [
              "      label  pixel1  pixel2  pixel3  pixel4  pixel5  pixel6  pixel7  pixel8  \\\n",
              "0         0       0       0       0       0       0       0       0       9   \n",
              "1         1       0       0       0       0       0       0       0       0   \n",
              "2         2       0       0       0       0       0       0      14      53   \n",
              "3         2       0       0       0       0       0       0       0       0   \n",
              "4         3       0       0       0       0       0       0       0       0   \n",
              "...     ...     ...     ...     ...     ...     ...     ...     ...     ...   \n",
              "9995      0       0       0       0       0       0       0       0       0   \n",
              "9996      6       0       0       0       0       0       0       0       0   \n",
              "9997      8       0       0       0       0       0       0       0       0   \n",
              "9998      8       0       1       3       0       0       0       0       0   \n",
              "9999      1       0       0       0       0       0       0       0     140   \n",
              "\n",
              "      pixel9  ...  pixel775  pixel776  pixel777  pixel778  pixel779  pixel780  \\\n",
              "0          8  ...       103        87        56         0         0         0   \n",
              "1          0  ...        34         0         0         0         0         0   \n",
              "2         99  ...         0         0         0         0        63        53   \n",
              "3          0  ...       137       126       140         0       133       224   \n",
              "4          0  ...         0         0         0         0         0         0   \n",
              "...      ...  ...       ...       ...       ...       ...       ...       ...   \n",
              "9995       0  ...        32        23        14        20         0         0   \n",
              "9996       0  ...         0         0         0         2        52        23   \n",
              "9997       0  ...       175       172       172       182       199       222   \n",
              "9998       0  ...         0         0         0         0         0         1   \n",
              "9999     119  ...       111        95        75        44         1         0   \n",
              "\n",
              "      pixel781  pixel782  pixel783  pixel784  \n",
              "0            0         0         0         0  \n",
              "1            0         0         0         0  \n",
              "2           31         0         0         0  \n",
              "3          222        56         0         0  \n",
              "4            0         0         0         0  \n",
              "...        ...       ...       ...       ...  \n",
              "9995         1         0         0         0  \n",
              "9996        28         0         0         0  \n",
              "9997        42         0         1         0  \n",
              "9998         0         0         0         0  \n",
              "9999         0         0         0         0  \n",
              "\n",
              "[10000 rows x 785 columns]"
            ],
            "text/html": [
              "\n",
              "  <div id=\"df-9d7b5e84-81ce-4a26-841c-21d6b19aab35\">\n",
              "    <div class=\"colab-df-container\">\n",
              "      <div>\n",
              "<style scoped>\n",
              "    .dataframe tbody tr th:only-of-type {\n",
              "        vertical-align: middle;\n",
              "    }\n",
              "\n",
              "    .dataframe tbody tr th {\n",
              "        vertical-align: top;\n",
              "    }\n",
              "\n",
              "    .dataframe thead th {\n",
              "        text-align: right;\n",
              "    }\n",
              "</style>\n",
              "<table border=\"1\" class=\"dataframe\">\n",
              "  <thead>\n",
              "    <tr style=\"text-align: right;\">\n",
              "      <th></th>\n",
              "      <th>label</th>\n",
              "      <th>pixel1</th>\n",
              "      <th>pixel2</th>\n",
              "      <th>pixel3</th>\n",
              "      <th>pixel4</th>\n",
              "      <th>pixel5</th>\n",
              "      <th>pixel6</th>\n",
              "      <th>pixel7</th>\n",
              "      <th>pixel8</th>\n",
              "      <th>pixel9</th>\n",
              "      <th>...</th>\n",
              "      <th>pixel775</th>\n",
              "      <th>pixel776</th>\n",
              "      <th>pixel777</th>\n",
              "      <th>pixel778</th>\n",
              "      <th>pixel779</th>\n",
              "      <th>pixel780</th>\n",
              "      <th>pixel781</th>\n",
              "      <th>pixel782</th>\n",
              "      <th>pixel783</th>\n",
              "      <th>pixel784</th>\n",
              "    </tr>\n",
              "  </thead>\n",
              "  <tbody>\n",
              "    <tr>\n",
              "      <th>0</th>\n",
              "      <td>0</td>\n",
              "      <td>0</td>\n",
              "      <td>0</td>\n",
              "      <td>0</td>\n",
              "      <td>0</td>\n",
              "      <td>0</td>\n",
              "      <td>0</td>\n",
              "      <td>0</td>\n",
              "      <td>9</td>\n",
              "      <td>8</td>\n",
              "      <td>...</td>\n",
              "      <td>103</td>\n",
              "      <td>87</td>\n",
              "      <td>56</td>\n",
              "      <td>0</td>\n",
              "      <td>0</td>\n",
              "      <td>0</td>\n",
              "      <td>0</td>\n",
              "      <td>0</td>\n",
              "      <td>0</td>\n",
              "      <td>0</td>\n",
              "    </tr>\n",
              "    <tr>\n",
              "      <th>1</th>\n",
              "      <td>1</td>\n",
              "      <td>0</td>\n",
              "      <td>0</td>\n",
              "      <td>0</td>\n",
              "      <td>0</td>\n",
              "      <td>0</td>\n",
              "      <td>0</td>\n",
              "      <td>0</td>\n",
              "      <td>0</td>\n",
              "      <td>0</td>\n",
              "      <td>...</td>\n",
              "      <td>34</td>\n",
              "      <td>0</td>\n",
              "      <td>0</td>\n",
              "      <td>0</td>\n",
              "      <td>0</td>\n",
              "      <td>0</td>\n",
              "      <td>0</td>\n",
              "      <td>0</td>\n",
              "      <td>0</td>\n",
              "      <td>0</td>\n",
              "    </tr>\n",
              "    <tr>\n",
              "      <th>2</th>\n",
              "      <td>2</td>\n",
              "      <td>0</td>\n",
              "      <td>0</td>\n",
              "      <td>0</td>\n",
              "      <td>0</td>\n",
              "      <td>0</td>\n",
              "      <td>0</td>\n",
              "      <td>14</td>\n",
              "      <td>53</td>\n",
              "      <td>99</td>\n",
              "      <td>...</td>\n",
              "      <td>0</td>\n",
              "      <td>0</td>\n",
              "      <td>0</td>\n",
              "      <td>0</td>\n",
              "      <td>63</td>\n",
              "      <td>53</td>\n",
              "      <td>31</td>\n",
              "      <td>0</td>\n",
              "      <td>0</td>\n",
              "      <td>0</td>\n",
              "    </tr>\n",
              "    <tr>\n",
              "      <th>3</th>\n",
              "      <td>2</td>\n",
              "      <td>0</td>\n",
              "      <td>0</td>\n",
              "      <td>0</td>\n",
              "      <td>0</td>\n",
              "      <td>0</td>\n",
              "      <td>0</td>\n",
              "      <td>0</td>\n",
              "      <td>0</td>\n",
              "      <td>0</td>\n",
              "      <td>...</td>\n",
              "      <td>137</td>\n",
              "      <td>126</td>\n",
              "      <td>140</td>\n",
              "      <td>0</td>\n",
              "      <td>133</td>\n",
              "      <td>224</td>\n",
              "      <td>222</td>\n",
              "      <td>56</td>\n",
              "      <td>0</td>\n",
              "      <td>0</td>\n",
              "    </tr>\n",
              "    <tr>\n",
              "      <th>4</th>\n",
              "      <td>3</td>\n",
              "      <td>0</td>\n",
              "      <td>0</td>\n",
              "      <td>0</td>\n",
              "      <td>0</td>\n",
              "      <td>0</td>\n",
              "      <td>0</td>\n",
              "      <td>0</td>\n",
              "      <td>0</td>\n",
              "      <td>0</td>\n",
              "      <td>...</td>\n",
              "      <td>0</td>\n",
              "      <td>0</td>\n",
              "      <td>0</td>\n",
              "      <td>0</td>\n",
              "      <td>0</td>\n",
              "      <td>0</td>\n",
              "      <td>0</td>\n",
              "      <td>0</td>\n",
              "      <td>0</td>\n",
              "      <td>0</td>\n",
              "    </tr>\n",
              "    <tr>\n",
              "      <th>...</th>\n",
              "      <td>...</td>\n",
              "      <td>...</td>\n",
              "      <td>...</td>\n",
              "      <td>...</td>\n",
              "      <td>...</td>\n",
              "      <td>...</td>\n",
              "      <td>...</td>\n",
              "      <td>...</td>\n",
              "      <td>...</td>\n",
              "      <td>...</td>\n",
              "      <td>...</td>\n",
              "      <td>...</td>\n",
              "      <td>...</td>\n",
              "      <td>...</td>\n",
              "      <td>...</td>\n",
              "      <td>...</td>\n",
              "      <td>...</td>\n",
              "      <td>...</td>\n",
              "      <td>...</td>\n",
              "      <td>...</td>\n",
              "      <td>...</td>\n",
              "    </tr>\n",
              "    <tr>\n",
              "      <th>9995</th>\n",
              "      <td>0</td>\n",
              "      <td>0</td>\n",
              "      <td>0</td>\n",
              "      <td>0</td>\n",
              "      <td>0</td>\n",
              "      <td>0</td>\n",
              "      <td>0</td>\n",
              "      <td>0</td>\n",
              "      <td>0</td>\n",
              "      <td>0</td>\n",
              "      <td>...</td>\n",
              "      <td>32</td>\n",
              "      <td>23</td>\n",
              "      <td>14</td>\n",
              "      <td>20</td>\n",
              "      <td>0</td>\n",
              "      <td>0</td>\n",
              "      <td>1</td>\n",
              "      <td>0</td>\n",
              "      <td>0</td>\n",
              "      <td>0</td>\n",
              "    </tr>\n",
              "    <tr>\n",
              "      <th>9996</th>\n",
              "      <td>6</td>\n",
              "      <td>0</td>\n",
              "      <td>0</td>\n",
              "      <td>0</td>\n",
              "      <td>0</td>\n",
              "      <td>0</td>\n",
              "      <td>0</td>\n",
              "      <td>0</td>\n",
              "      <td>0</td>\n",
              "      <td>0</td>\n",
              "      <td>...</td>\n",
              "      <td>0</td>\n",
              "      <td>0</td>\n",
              "      <td>0</td>\n",
              "      <td>2</td>\n",
              "      <td>52</td>\n",
              "      <td>23</td>\n",
              "      <td>28</td>\n",
              "      <td>0</td>\n",
              "      <td>0</td>\n",
              "      <td>0</td>\n",
              "    </tr>\n",
              "    <tr>\n",
              "      <th>9997</th>\n",
              "      <td>8</td>\n",
              "      <td>0</td>\n",
              "      <td>0</td>\n",
              "      <td>0</td>\n",
              "      <td>0</td>\n",
              "      <td>0</td>\n",
              "      <td>0</td>\n",
              "      <td>0</td>\n",
              "      <td>0</td>\n",
              "      <td>0</td>\n",
              "      <td>...</td>\n",
              "      <td>175</td>\n",
              "      <td>172</td>\n",
              "      <td>172</td>\n",
              "      <td>182</td>\n",
              "      <td>199</td>\n",
              "      <td>222</td>\n",
              "      <td>42</td>\n",
              "      <td>0</td>\n",
              "      <td>1</td>\n",
              "      <td>0</td>\n",
              "    </tr>\n",
              "    <tr>\n",
              "      <th>9998</th>\n",
              "      <td>8</td>\n",
              "      <td>0</td>\n",
              "      <td>1</td>\n",
              "      <td>3</td>\n",
              "      <td>0</td>\n",
              "      <td>0</td>\n",
              "      <td>0</td>\n",
              "      <td>0</td>\n",
              "      <td>0</td>\n",
              "      <td>0</td>\n",
              "      <td>...</td>\n",
              "      <td>0</td>\n",
              "      <td>0</td>\n",
              "      <td>0</td>\n",
              "      <td>0</td>\n",
              "      <td>0</td>\n",
              "      <td>1</td>\n",
              "      <td>0</td>\n",
              "      <td>0</td>\n",
              "      <td>0</td>\n",
              "      <td>0</td>\n",
              "    </tr>\n",
              "    <tr>\n",
              "      <th>9999</th>\n",
              "      <td>1</td>\n",
              "      <td>0</td>\n",
              "      <td>0</td>\n",
              "      <td>0</td>\n",
              "      <td>0</td>\n",
              "      <td>0</td>\n",
              "      <td>0</td>\n",
              "      <td>0</td>\n",
              "      <td>140</td>\n",
              "      <td>119</td>\n",
              "      <td>...</td>\n",
              "      <td>111</td>\n",
              "      <td>95</td>\n",
              "      <td>75</td>\n",
              "      <td>44</td>\n",
              "      <td>1</td>\n",
              "      <td>0</td>\n",
              "      <td>0</td>\n",
              "      <td>0</td>\n",
              "      <td>0</td>\n",
              "      <td>0</td>\n",
              "    </tr>\n",
              "  </tbody>\n",
              "</table>\n",
              "<p>10000 rows × 785 columns</p>\n",
              "</div>\n",
              "      <button class=\"colab-df-convert\" onclick=\"convertToInteractive('df-9d7b5e84-81ce-4a26-841c-21d6b19aab35')\"\n",
              "              title=\"Convert this dataframe to an interactive table.\"\n",
              "              style=\"display:none;\">\n",
              "        \n",
              "  <svg xmlns=\"http://www.w3.org/2000/svg\" height=\"24px\"viewBox=\"0 0 24 24\"\n",
              "       width=\"24px\">\n",
              "    <path d=\"M0 0h24v24H0V0z\" fill=\"none\"/>\n",
              "    <path d=\"M18.56 5.44l.94 2.06.94-2.06 2.06-.94-2.06-.94-.94-2.06-.94 2.06-2.06.94zm-11 1L8.5 8.5l.94-2.06 2.06-.94-2.06-.94L8.5 2.5l-.94 2.06-2.06.94zm10 10l.94 2.06.94-2.06 2.06-.94-2.06-.94-.94-2.06-.94 2.06-2.06.94z\"/><path d=\"M17.41 7.96l-1.37-1.37c-.4-.4-.92-.59-1.43-.59-.52 0-1.04.2-1.43.59L10.3 9.45l-7.72 7.72c-.78.78-.78 2.05 0 2.83L4 21.41c.39.39.9.59 1.41.59.51 0 1.02-.2 1.41-.59l7.78-7.78 2.81-2.81c.8-.78.8-2.07 0-2.86zM5.41 20L4 18.59l7.72-7.72 1.47 1.35L5.41 20z\"/>\n",
              "  </svg>\n",
              "      </button>\n",
              "      \n",
              "  <style>\n",
              "    .colab-df-container {\n",
              "      display:flex;\n",
              "      flex-wrap:wrap;\n",
              "      gap: 12px;\n",
              "    }\n",
              "\n",
              "    .colab-df-convert {\n",
              "      background-color: #E8F0FE;\n",
              "      border: none;\n",
              "      border-radius: 50%;\n",
              "      cursor: pointer;\n",
              "      display: none;\n",
              "      fill: #1967D2;\n",
              "      height: 32px;\n",
              "      padding: 0 0 0 0;\n",
              "      width: 32px;\n",
              "    }\n",
              "\n",
              "    .colab-df-convert:hover {\n",
              "      background-color: #E2EBFA;\n",
              "      box-shadow: 0px 1px 2px rgba(60, 64, 67, 0.3), 0px 1px 3px 1px rgba(60, 64, 67, 0.15);\n",
              "      fill: #174EA6;\n",
              "    }\n",
              "\n",
              "    [theme=dark] .colab-df-convert {\n",
              "      background-color: #3B4455;\n",
              "      fill: #D2E3FC;\n",
              "    }\n",
              "\n",
              "    [theme=dark] .colab-df-convert:hover {\n",
              "      background-color: #434B5C;\n",
              "      box-shadow: 0px 1px 3px 1px rgba(0, 0, 0, 0.15);\n",
              "      filter: drop-shadow(0px 1px 2px rgba(0, 0, 0, 0.3));\n",
              "      fill: #FFFFFF;\n",
              "    }\n",
              "  </style>\n",
              "\n",
              "      <script>\n",
              "        const buttonEl =\n",
              "          document.querySelector('#df-9d7b5e84-81ce-4a26-841c-21d6b19aab35 button.colab-df-convert');\n",
              "        buttonEl.style.display =\n",
              "          google.colab.kernel.accessAllowed ? 'block' : 'none';\n",
              "\n",
              "        async function convertToInteractive(key) {\n",
              "          const element = document.querySelector('#df-9d7b5e84-81ce-4a26-841c-21d6b19aab35');\n",
              "          const dataTable =\n",
              "            await google.colab.kernel.invokeFunction('convertToInteractive',\n",
              "                                                     [key], {});\n",
              "          if (!dataTable) return;\n",
              "\n",
              "          const docLinkHtml = 'Like what you see? Visit the ' +\n",
              "            '<a target=\"_blank\" href=https://colab.research.google.com/notebooks/data_table.ipynb>data table notebook</a>'\n",
              "            + ' to learn more about interactive tables.';\n",
              "          element.innerHTML = '';\n",
              "          dataTable['output_type'] = 'display_data';\n",
              "          await google.colab.output.renderOutput(dataTable, element);\n",
              "          const docLink = document.createElement('div');\n",
              "          docLink.innerHTML = docLinkHtml;\n",
              "          element.appendChild(docLink);\n",
              "        }\n",
              "      </script>\n",
              "    </div>\n",
              "  </div>\n",
              "  "
            ]
          },
          "metadata": {},
          "execution_count": 56
        }
      ]
    },
    {
      "cell_type": "code",
      "source": [
        "print(training_data.shape)\n",
        "print(test_data.shape)"
      ],
      "metadata": {
        "colab": {
          "base_uri": "https://localhost:8080/"
        },
        "outputId": "d1668fdf-84f5-4658-e91e-a242abfa6d85",
        "id": "S_71gbYgAmdQ"
      },
      "execution_count": 72,
      "outputs": [
        {
          "output_type": "stream",
          "name": "stdout",
          "text": [
            "(60000, 785)\n",
            "(10000, 785)\n"
          ]
        }
      ]
    },
    {
      "cell_type": "code",
      "source": [
        "y = training_data['label']\n",
        "X = training_data.drop('label', axis = 1)"
      ],
      "metadata": {
        "id": "1FwrXYDhAmdQ"
      },
      "execution_count": 73,
      "outputs": []
    },
    {
      "cell_type": "code",
      "source": [
        "(X_train, y_train) = X, y"
      ],
      "metadata": {
        "id": "0khIcur2AmdQ"
      },
      "execution_count": 74,
      "outputs": []
    },
    {
      "cell_type": "code",
      "source": [
        "X_train = X_train.to_numpy()/255.\n",
        "X_train = X_train.reshape(-1, 28, 28)\n",
        "y_train = y_train.to_numpy()"
      ],
      "metadata": {
        "id": "vWlojKUdAmdR"
      },
      "execution_count": 76,
      "outputs": []
    },
    {
      "cell_type": "code",
      "source": [
        "y = test_data['label']\n",
        "X = test_data.drop('label', axis = 1)"
      ],
      "metadata": {
        "id": "BX-SaYJhAmdR"
      },
      "execution_count": 61,
      "outputs": []
    },
    {
      "cell_type": "code",
      "source": [
        "(X_test, y_test) = X, y"
      ],
      "metadata": {
        "id": "KDYXH5z2AmdR"
      },
      "execution_count": 62,
      "outputs": []
    },
    {
      "cell_type": "code",
      "source": [
        "X_test = X_test.to_numpy()/255.\n",
        "X_test = X_test.reshape(-1, 28, 28)\n",
        "y_test = y_test.to_numpy()"
      ],
      "metadata": {
        "id": "HPtc5sYzAmdR"
      },
      "execution_count": 63,
      "outputs": []
    },
    {
      "cell_type": "code",
      "source": [
        "## Let's split our training data into a validation set\n",
        "X_train, y_train, X_train_val, y_train_val = train_test_split(X_train, y_train, test_size = 0.2)"
      ],
      "metadata": {
        "id": "RNWWBNDXRSl4"
      },
      "execution_count": 64,
      "outputs": []
    },
    {
      "cell_type": "markdown",
      "source": [
        "Let's visualize some of the images that we will be using for our Neural Network, to gain an intuition into the methods we could use."
      ],
      "metadata": {
        "id": "DwCPdFfkAmdR"
      }
    },
    {
      "cell_type": "code",
      "source": [
        "def plot_images_in_a_row(ims, color):    \n",
        "  'Takes a list/array of images and plots them spaced horizontally.'\n",
        "  _, axs = plt.subplots(1, len(ims), figsize = (20,5))\n",
        "  for im, ax in zip(ims, axs.ravel()):\n",
        "    ax.imshow(im, cmap = color)\n",
        "    ax.axis('off')"
      ],
      "metadata": {
        "id": "41uxXMfaAmdR"
      },
      "execution_count": 29,
      "outputs": []
    },
    {
      "cell_type": "code",
      "source": [
        "plot_images_in_a_row(X_train[21:40], \"gray\")"
      ],
      "metadata": {
        "colab": {
          "base_uri": "https://localhost:8080/",
          "height": 79
        },
        "outputId": "b9ccc16d-9085-4f25-d1de-ab9349a7e508",
        "id": "AG39QbzvAmdR"
      },
      "execution_count": 30,
      "outputs": [
        {
          "output_type": "display_data",
          "data": {
            "text/plain": [
              "<Figure size 1440x360 with 19 Axes>"
            ],
            "image/png": "[encoded data removed]"
          },
          "metadata": {
            "needs_background": "light"
          }
        }
      ]
    },
    {
      "cell_type": "markdown",
      "source": [
        "The images are of relatively small size (28, 28), thus the use of a convolutional neural net won't necessarily be maximizing the advantages of using kernels which is charactersitic of the CNN   "
      ],
      "metadata": {
        "id": "B6prRNFeAmdS"
      }
    },
    {
      "cell_type": "markdown",
      "source": [
        "## **Section 2:** \n",
        "\n",
        "Let's encode our y_train and y_test as a categorical vector of 0, 1 to facilitate the use of categorical variables training our CNN."
      ],
      "metadata": {
        "id": "h8XoJXLbhY5T"
      }
    },
    {
      "cell_type": "code",
      "source": [
        "y_train.shape"
      ],
      "metadata": {
        "colab": {
          "base_uri": "https://localhost:8080/"
        },
        "outputId": "ff712822-eafd-4231-f591-fe23dfce287e",
        "id": "Qgbc96lVAmdS"
      },
      "execution_count": 78,
      "outputs": [
        {
          "output_type": "execute_result",
          "data": {
            "text/plain": [
              "(60000,)"
            ]
          },
          "metadata": {},
          "execution_count": 78
        }
      ]
    },
    {
      "cell_type": "code",
      "source": [
        "y_train_cat = keras.utils.to_categorical(y_train)\n",
        "y_train_val_cat = keras.utils.to_categorical(y_train_val)\n",
        "y_test_cat = keras.utils.to_categorical(y_test)"
      ],
      "metadata": {
        "id": "3DyVQ1luAmdS"
      },
      "execution_count": 79,
      "outputs": []
    },
    {
      "cell_type": "code",
      "source": [
        "print(y_train_cat)"
      ],
      "metadata": {
        "id": "R56PMQRFNfEC",
        "outputId": "4114036a-a5e4-4686-ad42-ebc336fe7c27",
        "colab": {
          "base_uri": "https://localhost:8080/"
        }
      },
      "execution_count": 81,
      "outputs": [
        {
          "output_type": "stream",
          "name": "stdout",
          "text": [
            "[[0. 0. 1. ... 0. 0. 0.]\n",
            " [0. 0. 0. ... 0. 0. 1.]\n",
            " [0. 0. 0. ... 0. 0. 0.]\n",
            " ...\n",
            " [0. 0. 0. ... 0. 1. 0.]\n",
            " [0. 0. 0. ... 0. 1. 0.]\n",
            " [0. 0. 0. ... 1. 0. 0.]]\n"
          ]
        }
      ]
    },
    {
      "cell_type": "code",
      "source": [
        "print(y_train[0], y_train_cat[0], np.argmax(y_train_cat[0]))"
      ],
      "metadata": {
        "colab": {
          "base_uri": "https://localhost:8080/"
        },
        "outputId": "3b98379b-df6d-46bb-b30e-f9de08382ace",
        "id": "kn9DyYaGAmdS"
      },
      "execution_count": 82,
      "outputs": [
        {
          "output_type": "stream",
          "name": "stdout",
          "text": [
            "2 [0. 0. 1. 0. 0. 0. 0. 0. 0. 0.] 2\n"
          ]
        }
      ]
    },
    {
      "cell_type": "markdown",
      "source": [
        "## **Section 3:**\n",
        "\n",
        "Convolutions Overview\n",
        "\n",
        "Let's go over some of the most important convolutions, to understand as to how best approach our CNN\n",
        "\n",
        "Let's review quickly some intuitive interpretations of the relevant definitions for our CNN\n",
        "- Kernel: A nxm matrix that is slid over our image. The operation of the kernel with the image is a multiplication, in which each value in our new image is a sum of the element-wise multiplication of every pixel in our kernel with the underlying pixel that it is being applied to.\n",
        "- Filter: A filter is a concatentation of kernels of the form nxmxd, where d is the kernel specified to channel (in the case of RGB, there d would 3)\n",
        "  - In the case of applying a filter across 3 channels, the RGB values would be summed to produce one final output image\n",
        "  - In the case of our image data, we don't have to worry about the use of filters as we're only dealing with channel (grayscale)\n",
        "\n",
        "Notes for convolutions in our CNN\n",
        "- Add padding to the original image to allow for the kernel to slide over the boundaries of our image.\n",
        "- On pooling methods:\n",
        "  - Max pooling: Take the maximum of the pixels in that channel. \n",
        "    - Useful for when we have images that need brightening, as it takes the brightest pixel in that kernel (highest pixel value) and assigns that value to the value in the output image\n",
        "  - Min pooling: Takes the minimum of the pixels in that channel.\n",
        "    - Useful for when we have images that need darkening, as it takes the darkest image in that kernel (lowest pixel value) and assigns that value to the value in the output image\n",
        "  - Average pooling: Takes the average of the pixels in that kernel in that channel\n",
        "    - Useful for smoothing the edges of a image, Takes the average of the pixels in that kernel (average of the pixel values) and assigns that value to the value in the output image \n",
        "\n",
        "The convolutions applied to our training image:\n",
        "- Ridge4\n",
        "- Ridge8\n",
        "- Sharpening \n",
        "- Edge Detection\n",
        "- Upsampling"
      ],
      "metadata": {
        "id": "K2_Wn-vNAmdS"
      }
    },
    {
      "cell_type": "markdown",
      "source": [
        "## **Section 4:**\n",
        "\n",
        "Let's apply some of those convolutions to gain a better intuition into the operations being performed in our CNN"
      ],
      "metadata": {
        "id": "dce8zO_biSm5"
      }
    },
    {
      "cell_type": "code",
      "source": [
        "X_train[0].shape"
      ],
      "metadata": {
        "colab": {
          "base_uri": "https://localhost:8080/"
        },
        "outputId": "09f786a4-62d8-4476-8d0b-7ed7345d785a",
        "id": "zGNo5h0hAmdT"
      },
      "execution_count": null,
      "outputs": [
        {
          "output_type": "execute_result",
          "data": {
            "text/plain": [
              "(28, 28)"
            ]
          },
          "metadata": {},
          "execution_count": 32
        }
      ]
    },
    {
      "cell_type": "code",
      "source": [
        "im = X_train[0]\n",
        "plt.imshow(im, cmap = 'gray')"
      ],
      "metadata": {
        "colab": {
          "base_uri": "https://localhost:8080/",
          "height": 283
        },
        "outputId": "f4d86bcf-8070-4cdd-8202-86fb6da5e493",
        "id": "SAQOqlw6AmdT"
      },
      "execution_count": 83,
      "outputs": [
        {
          "output_type": "execute_result",
          "data": {
            "text/plain": [
              "<matplotlib.image.AxesImage at 0x7f7dd75d86d0>"
            ]
          },
          "metadata": {},
          "execution_count": 83
        },
        {
          "output_type": "display_data",
          "data": {
            "text/plain": [
              "<Figure size 432x288 with 1 Axes>"
            ],
            "image/png": "[encoded data removed]"
          },
          "metadata": {
            "needs_background": "light"
          }
        }
      ]
    },
    {
      "cell_type": "code",
      "source": [
        "## Since our images only have one channel, we modify the convolve_each_channel(used to convolve multiple channels) into convolving the single channel\n",
        "def convolve_single_channel(im, m):\n",
        "  im_conv = im.copy()  \n",
        "  im_conv[...] = convolve2d(im_conv[...], m, mode = 'same')\n",
        "  return im_conv\n",
        "\n",
        "## Since our images are of grayscale, we don't need to use convolve_and_merge as \n",
        "## only applies to mulit-channel images\n",
        "def convolve_and_merge(im, m):\n",
        "  return convolve_single_channel(im, m).sum(axis = -1)"
      ],
      "metadata": {
        "id": "dDLB1Y3dAmdT"
      },
      "execution_count": 85,
      "outputs": []
    },
    {
      "cell_type": "code",
      "source": [
        "## These were our original convolutions, used to find edges yet they don't work as well \n",
        "## as we'd like them to\n",
        "m_ridge4 = np.array([[0.,-1,0],\n",
        "                    [-1,4,-1],\n",
        "                    [0,-1,0]]) \n",
        "\n",
        "m_ridge8 = np.array([[-1.,-1,-1],\n",
        "                    [-1,8,-1],\n",
        "                    [-1,-1,-1]]) \n",
        "\n",
        "m_sharpen = np.array([[0.,-1,0],\n",
        "                    [-1,5,-1],\n",
        "                    [0,-1,0]]) \n",
        "\n",
        "## Let's add some other convolutions to see how we can better extract the features necessary for our CNN\n",
        "m_edge_1 = np.array([[-1, -2, -1],\n",
        "                     [0,0,0],\n",
        "                     [1,2,1]])\n",
        "\n",
        "m_edge_2 = np.array([[ -1, 0, 1], \n",
        "                   [ 0, 0, 0], \n",
        "                   [ 1, 2, 1]])\n",
        "\n",
        "\n",
        "## Here we change our blur size so we don't overpower the blur relative to our picture size\n",
        "blur_size = 3\n",
        "m_blur = np.ones((blur_size,blur_size))/blur_size**2\n",
        "\n",
        "## Let's add a deconvolution (tranposed convolution) to see how the image will look with greater dimensions\n"
      ],
      "metadata": {
        "id": "2AntuzJqAmdT"
      },
      "execution_count": 86,
      "outputs": []
    },
    {
      "cell_type": "code",
      "source": [
        "## Here we perform some convolutions for images that in our grayscale\n",
        "images = np.array([])\n",
        "\n",
        "for m in [m_ridge4, m_ridge8, m_sharpen, m_blur, m_edge_1, m_edge_2]:\n",
        "  ims = convolve_single_channel(im, m)\n",
        "  print(f'Absolute difference between original image, and convolved image: {np.sum(np.abs(ims - im))}')\n",
        "  plt.imshow(ims, cmap = 'gray')\n",
        "  plt.show()"
      ],
      "metadata": {
        "colab": {
          "base_uri": "https://localhost:8080/",
          "height": 1000
        },
        "outputId": "9b429f7a-67a2-4968-9839-458b8fb8c8e2",
        "id": "GRALgATgAmdU"
      },
      "execution_count": 91,
      "outputs": [
        {
          "output_type": "stream",
          "name": "stdout",
          "text": [
            "Absolute difference between original image, and covolved image 385.1058823529412\n"
          ]
        },
        {
          "output_type": "display_data",
          "data": {
            "text/plain": [
              "<Figure size 432x288 with 1 Axes>"
            ],
            "image/png": "[encoded data removed]"
          },
          "metadata": {
            "needs_background": "light"
          }
        },
        {
          "output_type": "stream",
          "name": "stdout",
          "text": [
            "Absolute difference between original image, and covolved image 571.443137254902\n"
          ]
        },
        {
          "output_type": "display_data",
          "data": {
            "text/plain": [
              "<Figure size 432x288 with 1 Axes>"
            ],
            "image/png": "[encoded data removed]"
          },
          "metadata": {
            "needs_background": "light"
          }
        },
        {
          "output_type": "stream",
          "name": "stdout",
          "text": [
            "Absolute difference between original image, and covolved image 188.80784313725496\n"
          ]
        },
        {
          "output_type": "display_data",
          "data": {
            "text/plain": [
              "<Figure size 432x288 with 1 Axes>"
            ],
            "image/png": "[encoded data removed]"
          },
          "metadata": {
            "needs_background": "light"
          }
        },
        {
          "output_type": "stream",
          "name": "stdout",
          "text": [
            "Absolute difference between original image, and covolved image 51.88583877995643\n"
          ]
        },
        {
          "output_type": "display_data",
          "data": {
            "text/plain": [
              "<Figure size 432x288 with 1 Axes>"
            ],
            "image/png": "[encoded data removed]"
          },
          "metadata": {
            "needs_background": "light"
          }
        },
        {
          "output_type": "stream",
          "name": "stdout",
          "text": [
            "Absolute difference between original image, and covolved image 654.7372549019608\n"
          ]
        },
        {
          "output_type": "display_data",
          "data": {
            "text/plain": [
              "<Figure size 432x288 with 1 Axes>"
            ],
            "image/png": "[encoded data removed]"
          },
          "metadata": {
            "needs_background": "light"
          }
        },
        {
          "output_type": "stream",
          "name": "stdout",
          "text": [
            "Absolute difference between original image, and covolved image 1111.372549019608\n"
          ]
        },
        {
          "output_type": "display_data",
          "data": {
            "text/plain": [
              "<Figure size 432x288 with 1 Axes>"
            ],
            "image/png": "[encoded data removed]"
          },
          "metadata": {
            "needs_background": "light"
          }
        }
      ]
    },
    {
      "cell_type": "code",
      "source": [
        "## Let's perform an upsampling convolution using a sequential model (only way to upsample)\n",
        "im_up = im.copy()\n",
        "print(im_up.shape)\n",
        "im_up = im_up.reshape(1, 28, 28, 1)\n",
        "print(im_up.shape)"
      ],
      "metadata": {
        "colab": {
          "base_uri": "https://localhost:8080/"
        },
        "outputId": "454276ce-66f5-4cf9-9283-ef71150ffefe",
        "id": "9QeuynaJAmdU"
      },
      "execution_count": 92,
      "outputs": [
        {
          "output_type": "stream",
          "name": "stdout",
          "text": [
            "(28, 28)\n",
            "(1, 28, 28, 1)\n"
          ]
        }
      ]
    },
    {
      "cell_type": "code",
      "source": [
        "model = keras.models.Sequential()\n",
        "model.add(keras.layers.UpSampling2D(input_shape = (28, 28, 1)))\n",
        "model.summary()"
      ],
      "metadata": {
        "colab": {
          "base_uri": "https://localhost:8080/"
        },
        "outputId": "34835424-06aa-47e7-ee79-c0b28fbe497c",
        "id": "Cxa7dM1PAmdU"
      },
      "execution_count": 93,
      "outputs": [
        {
          "output_type": "stream",
          "name": "stdout",
          "text": [
            "Model: \"sequential\"\n",
            "_________________________________________________________________\n",
            " Layer (type)                Output Shape              Param #   \n",
            "=================================================================\n",
            " up_sampling2d (UpSampling2D  (None, 56, 56, 1)        0         \n",
            " )                                                               \n",
            "                                                                 \n",
            "=================================================================\n",
            "Total params: 0\n",
            "Trainable params: 0\n",
            "Non-trainable params: 0\n",
            "_________________________________________________________________\n"
          ]
        }
      ]
    },
    {
      "cell_type": "code",
      "source": [
        "y_hat_conv = model.predict(im_up)"
      ],
      "metadata": {
        "id": "B2TkJOPlAmdU"
      },
      "execution_count": 94,
      "outputs": []
    },
    {
      "cell_type": "code",
      "source": [
        "y_hat_conv = y_hat_conv.reshape(56, 56)"
      ],
      "metadata": {
        "id": "wYxPegH0AmdU"
      },
      "execution_count": 95,
      "outputs": []
    },
    {
      "cell_type": "code",
      "source": [
        "plt.imshow(y_hat_conv, cmap = 'gray')\n",
        "print(f'Convolved Image: Absolute difference between original image, and covolved image: {np.sum(np.abs(ims - im))}')\n",
        "plt.show()\n",
        "plt.imshow(im, cmap = 'gray')\n",
        "plt.show()"
      ],
      "metadata": {
        "colab": {
          "base_uri": "https://localhost:8080/",
          "height": 534
        },
        "outputId": "2e80f267-3186-40e4-c694-a17dc8ca00d0",
        "id": "DXe6P9R3AmdU"
      },
      "execution_count": 96,
      "outputs": [
        {
          "output_type": "stream",
          "name": "stdout",
          "text": [
            "Convolved Image: Absolute difference between original image, and covolved image: 1111.372549019608\n"
          ]
        },
        {
          "output_type": "display_data",
          "data": {
            "text/plain": [
              "<Figure size 432x288 with 1 Axes>"
            ],
            "image/png": "[encoded data removed]"
          },
          "metadata": {
            "needs_background": "light"
          }
        },
        {
          "output_type": "display_data",
          "data": {
            "text/plain": [
              "<Figure size 432x288 with 1 Axes>"
            ],
            "image/png": "[encoded data removed]"
          },
          "metadata": {
            "needs_background": "light"
          }
        }
      ]
    },
    {
      "cell_type": "markdown",
      "source": [
        "## **Section 5:**\n",
        "\n",
        "Let's build a simple CNN using hyperas, a package used to optimize hyperparameters\n",
        "- We reuse the architecture provided in MAS 4115 as a general architecture for which to experiment the optimizations of Hyperas.\n",
        "\n",
        "Convolutions Overview\n",
        "\n",
        "Let's go over some of the most important terms with respect to CNN's, to understand as to how best approach our architecture and neural net\n",
        "\n",
        "- Dense Layer: A layer of neurons of size k. Keras allows us to stack Dense layers in a sequence\n",
        "\n",
        "- Convolutional Layer: The convolutional layer is a layer of size k, where each neuron is a filter of kernels that are applied to the data using strides. These convolutional layers train kernels to extract \"latent features\" using backpropogation from the loss function corrections. These latent features are often abstract representations of information that allow the network to best classify the images. These convolutional layers are the basis of the CNN\n",
        "\n",
        "Activations Overview\n",
        "\n",
        "- Rectified Linear Unit (ReLU) Activation Function: The ReLU activation function is used to determine the activation of a single neuron, depending on the sign of the function output. The function returns a positive output, only if the output is greater than 0. This output is then used as the weight for that output's input into the next layer/function. The function returns 0, if the output is less than or equal to 0, which is used as the weight for that output's input into the next layer/function. The ReLU activation function is designed to intuitively model the activation of neurons firing in the brain.\n",
        "\n",
        "- Sigmoid Function: The sigmoid function is used to determine the activation of a single neuron, depending on the output of the input with the sigmoid function. The key charateristic differentiating the sigmoid function from ReLU is the exponential nature of the sigmoid which characterizes the output a non-linear curve converging out of 0, and converging into 1. Another key characteristic of the sigmoid function is it's output parameterization between 0 and 1, which raises questions into the development of an architecture by instantiating very different types of function's with very different output\n",
        "\n",
        "- Softmax Activation Function: A function used to determine the multinomial probabilities across the class of labels which we wish to predict. We use this function to determine the \"score\" that the image outputs to each class by leveraging the exponential function which allows that our probabilities sum up to 1. The label with the highest probability is chosen as the label for which we classify that image (talk about error from this probability)\n"
      ],
      "metadata": {
        "id": "ZqG7abwphMxr"
      }
    },
    {
      "cell_type": "markdown",
      "source": [
        "On some of the optimizations of hyperparameters being performed  for our CNN\n",
        "\n",
        "- The architecture provided to us, is of the form Conv2D-MaxPooling-Conv2D-MaxPooling-Conv2D-MaxPooling-Flatten-Dense\n",
        "  - The parameters for which we seek to optimize in each of these layers is the following: \n",
        "    - Conv2D\n",
        "      - Filters: We seek to optimize the number of filters, which are essentially the number of kernels we want to train. We vary this size between 8, 16, and 32\n",
        "      - Kernel Size: We seek to optimize the kernel size's which are used to convolute our images in varying sizes/sections. We vary this size between (2,2), (3,3)\n",
        "    - Max Pooling\n",
        "      - Pool Size: We seek to optimize the number the pool size which are used to pool our pixel values in varying sizes/sections. We vary this size between (2,2), (3,3), (4,4)\n",
        "    - Activation\n",
        "      - Activation Types: We seek to optimize the type of activation that best categorizes the evaluation of our model. We vary the activation types between the ReLU and Sigmoid function.\n",
        "    - Optimizer\n",
        "      - Optimizer Types: We seek to optimize the type of optimization function that best finds the minima of the loss function which we seek to minimize. We vary the optimizer types between adam (classic stochastic gradient descent), rmsprop (a variation of gradient descent with momentum), sgd (a variation of gradient descent with momentum) \n",
        "      - Optimizer Learning Rates: We seek to optimize the learning rate of the optimization function that best models the rate of learning (descent) which minimzes our loss function "
      ],
      "metadata": {
        "id": "cVYrz8VJtoNz"
      }
    },
    {
      "cell_type": "code",
      "source": [
        "def data3():\n",
        "    from keras.datasets import fashion_mnist\n",
        "    (X_train, y_train), (X_test, y_test) = fashion_mnist.load_data()\n",
        "    X_train, X_train_val, y_train, y_train_val = train_test_split(X_train, y_train, test_size=0.2)\n",
        "    X_train = X_train.reshape(-1, 28, 28)\n",
        "    X_train_val = X_train_val.reshape(-1, 28, 28)\n",
        "    X_train = X_train.astype('float32')\n",
        "    X_train_val = X_train_val.astype('float32')\n",
        "    X_train /= 255.\n",
        "    X_train_val /= 255.\n",
        "    y_train = keras.utils.to_categorical(y_train)\n",
        "    y_train_val = keras.utils.to_categorical(y_train_val)\n",
        "    return X_train, y_train, X_train_val, y_train_val"
      ],
      "metadata": {
        "id": "cKvf8fw7nZB4"
      },
      "execution_count": 103,
      "outputs": []
    },
    {
      "cell_type": "code",
      "source": [
        "def create_model(X_train, y_train, X_train_val, y_train_val): \n",
        "  ## Let's create a model instance called \"model\" of the Sequential \n",
        "  model = keras.models.Sequential()\n",
        "\n",
        "  ## Let's consider adding an upsampling layer to increase the dimnesions of our original image (28,28 -> 56,56)\n",
        "  #model.add(keras.layers.UpSampling2D(input_shape = (784, )))\n",
        "\n",
        "  ## Let's specify the intial input size to our CNN\n",
        "  model.add(keras.Input(shape = (28, 28, 1)))\n",
        "\n",
        "  ## Here we initialize the FIRST Convolutional 2D layer, with varying sizes of filters\n",
        "  model.add(keras.layers.Conv2D(filters = {{choice([8, 16, 32])}}, kernel_size ={{choice([(2,2), (3,3)])}}, use_bias = False, padding = 'same'))\n",
        " \n",
        "  ## Let's intizalize an activation function for our Convolutional 2D layer, with varying sizes of activation types\n",
        "  model.add(keras.layers.Activation({{choice(['relu', 'sigmoid'])}}))\n",
        "\n",
        "  ## Let's initialize a pooling layer, with varying types of pools, and pool_sizes\n",
        "  model.add(keras.layers.MaxPool2D(pool_size = {{choice([(2,2), (3,3), (4,4)])}}, padding = 'same'))\n",
        "\n",
        "  ## Here we initialize the SECOND Convolutional 2D layer, with varying sizes of filters\n",
        "  model.add(keras.layers.Conv2D(filters = {{choice([8, 16, 32])}}, kernel_size ={{choice([(2,2), (3,3)])}}, use_bias = False, padding = 'same'))\n",
        "\n",
        "  ## Let's intizalize an activation function for our Convolutional 2D layer, with varying sizes of activation types\n",
        "  model.add(keras.layers.Activation({{choice(['relu', 'sigmoid'])}}))\n",
        "\n",
        "  ## Let's initialize a pooling layer, with varying types of pools, and pool_sizes\n",
        "  model.add(keras.layers.MaxPool2D(pool_size = {{choice([(2,2), (3,3), (4,4)])}}, padding = 'same'))\n",
        "\n",
        "  ## Here we initialize the SECOND Convolutional 2D layer, with varying sizes of filters\n",
        "  model.add(keras.layers.Conv2D(filters = {{choice([8, 16, 32])}}, kernel_size ={{choice([(2,2), (3,3)])}}, use_bias = False, padding = 'same'))\n",
        " \n",
        "  ## Let's intizalize an activation function for our Convolutional 2D layer, with varying sizes of activation types\n",
        "  model.add(keras.layers.Activation({{choice(['relu', 'sigmoid'])}}))\n",
        "\n",
        "  ## Let's initialize a pooling layer, with varying types of pools, and pool_sizes\n",
        "  model.add(keras.layers.MaxPool2D(pool_size = {{choice([(2,2), (3,3), (4,4)])}}, padding = 'same'))\n",
        "\n",
        "  adam = keras.optimizers.Adam(lr={{choice([10**-3, 10**-2, 10**-1])}})\n",
        "  rmsprop = keras.optimizers.RMSprop(lr={{choice([10**-3, 10**-2, 10**-1])}})\n",
        "  sgd = keras.optimizers.SGD(lr={{choice([10**-3, 10**-2, 10**-1])}})\n",
        "\n",
        "  choiceval = {{choice(['adam', 'sgd', 'rmsprop'])}}\n",
        "  if choiceval == 'adam':\n",
        "      optim = adam\n",
        "  elif choiceval == 'rmsprop':\n",
        "      optim = rmsprop\n",
        "  else:\n",
        "      optim = sgd\n",
        "\n",
        "  model.add(keras.layers.Flatten())\n",
        "\n",
        "  model.add(keras.layers.Dense(10))\n",
        "  model.add(keras.layers.Activation('softmax'))\n",
        "      \n",
        "  model.compile(loss='categorical_crossentropy', metrics=['accuracy'],optimizer=optim)\n",
        "  model.summary()\n",
        "\n",
        "  model.fit(X_train, y_train,\n",
        "              batch_size={{choice([128,256,512])}},\n",
        "              epochs=5,\n",
        "              verbose=2,\n",
        "              validation_data=(X_train_val, y_train_val))\n",
        "  score, acc = model.evaluate(X_train_val, y_train_val, verbose=0)\n",
        "  print('Test accuracy:', acc)\n",
        "  return {'loss': -acc, 'status': STATUS_OK, 'model': model}"
      ],
      "metadata": {
        "id": "hmIw6VoyeHCF"
      },
      "execution_count": 155,
      "outputs": []
    },
    {
      "cell_type": "code",
      "source": [
        "notebook_name = os.path.join('..','gdrive','My Drive','Colab Notebooks','Fashion-MNIST')\n",
        "print(notebook_name)"
      ],
      "metadata": {
        "id": "hy-F1KYxkH3q",
        "outputId": "59ee9ea5-4bbc-4485-8da7-851e9d985dcc",
        "colab": {
          "base_uri": "https://localhost:8080/"
        }
      },
      "execution_count": 156,
      "outputs": [
        {
          "output_type": "stream",
          "name": "stdout",
          "text": [
            "../gdrive/My Drive/Colab Notebooks/Fashion-MNIST\n"
          ]
        }
      ]
    },
    {
      "cell_type": "code",
      "source": [
        "notebook_name = os.path.join('..','gdrive','My Drive','Colab Notebooks','Fashion-MNIST')\n",
        "\n",
        "\n",
        "best_run, best_model, space = optim.minimize(model=create_model,\n",
        "                                      data=data3,\n",
        "                                      algo=tpe.suggest,\n",
        "                                      max_evals=10,\n",
        "                                      eval_space = True,\n",
        "                                      return_space = True,\n",
        "                                      trials=Trials(), notebook_name = notebook_name)"
      ],
      "metadata": {
        "id": "x4fUefWzgl2w",
        "outputId": "98592ec8-12ea-44ad-bf12-ee623fd0910f",
        "colab": {
          "base_uri": "https://localhost:8080/"
        }
      },
      "execution_count": 157,
      "outputs": [
        {
          "output_type": "stream",
          "name": "stdout",
          "text": [
            ">>> Imports:\n",
            "#coding=utf-8\n",
            "\n",
            "try:\n",
            "    from google.colab import drive\n",
            "except:\n",
            "    pass\n",
            "\n",
            "try:\n",
            "    import numpy as np\n",
            "except:\n",
            "    pass\n",
            "\n",
            "try:\n",
            "    import pandas as pd\n",
            "except:\n",
            "    pass\n",
            "\n",
            "try:\n",
            "    import matplotlib.pyplot as plt\n",
            "except:\n",
            "    pass\n",
            "\n",
            "try:\n",
            "    import os\n",
            "except:\n",
            "    pass\n",
            "\n",
            "try:\n",
            "    from tensorflow import keras\n",
            "except:\n",
            "    pass\n",
            "\n",
            "try:\n",
            "    from sklearn.model_selection import train_test_split\n",
            "except:\n",
            "    pass\n",
            "\n",
            "try:\n",
            "    from tensorflow.keras.utils import to_categorical\n",
            "except:\n",
            "    pass\n",
            "\n",
            "try:\n",
            "    from skimage.measure import block_reduce\n",
            "except:\n",
            "    pass\n",
            "\n",
            "try:\n",
            "    from scipy.signal import convolve2d\n",
            "except:\n",
            "    pass\n",
            "\n",
            "try:\n",
            "    from hyperopt import Trials, STATUS_OK, tpe\n",
            "except:\n",
            "    pass\n",
            "\n",
            "try:\n",
            "    from hyperas import optim\n",
            "except:\n",
            "    pass\n",
            "\n",
            "try:\n",
            "    from hyperas.distributions import choice, uniform\n",
            "except:\n",
            "    pass\n",
            "\n",
            "try:\n",
            "    from keras.datasets import fashion_mnist\n",
            "except:\n",
            "    pass\n",
            "\n",
            ">>> Hyperas search space:\n",
            "\n",
            "def get_space():\n",
            "    return {\n",
            "        'filters': hp.choice('filters', [8, 16, 32]),\n",
            "        'kernel_size': hp.choice('kernel_size', [(2,2), (3,3)]),\n",
            "        'Activation': hp.choice('Activation', ['relu', 'sigmoid']),\n",
            "        'pool_size': hp.choice('pool_size', [(2,2), (3,3), (4,4)]),\n",
            "        'filters_1': hp.choice('filters_1', [8, 16, 32]),\n",
            "        'kernel_size_1': hp.choice('kernel_size_1', [(2,2), (3,3)]),\n",
            "        'Activation_1': hp.choice('Activation_1', ['relu', 'sigmoid']),\n",
            "        'pool_size_1': hp.choice('pool_size_1', [(2,2), (3,3), (4,4)]),\n",
            "        'filters_2': hp.choice('filters_2', [8, 16, 32]),\n",
            "        'kernel_size_2': hp.choice('kernel_size_2', [(2,2), (3,3)]),\n",
            "        'Activation_2': hp.choice('Activation_2', ['relu', 'sigmoid']),\n",
            "        'pool_size_2': hp.choice('pool_size_2', [(2,2), (3,3), (4,4)]),\n",
            "        'lr': hp.choice('lr', [10**-3, 10**-2, 10**-1]),\n",
            "        'lr_1': hp.choice('lr_1', [10**-3, 10**-2, 10**-1]),\n",
            "        'lr_2': hp.choice('lr_2', [10**-3, 10**-2, 10**-1]),\n",
            "        'choiceval': hp.choice('choiceval', ['adam', 'sgd', 'rmsprop']),\n",
            "        'batch_size': hp.choice('batch_size', [128,256,512]),\n",
            "    }\n",
            "\n",
            ">>> Data\n",
            "  1: \n",
            "  2: from keras.datasets import fashion_mnist\n",
            "  3: (X_train, y_train), (X_test, y_test) = fashion_mnist.load_data()\n",
            "  4: X_train, X_train_val, y_train, y_train_val = train_test_split(X_train, y_train, test_size=0.2)\n",
            "  5: X_train = X_train.reshape(-1, 28, 28)\n",
            "  6: X_train_val = X_train_val.reshape(-1, 28, 28)\n",
            "  7: X_train = X_train.astype('float32')\n",
            "  8: X_train_val = X_train_val.astype('float32')\n",
            "  9: X_train /= 255.\n",
            " 10: X_train_val /= 255.\n",
            " 11: y_train = keras.utils.to_categorical(y_train)\n",
            " 12: y_train_val = keras.utils.to_categorical(y_train_val)\n",
            " 13: \n",
            " 14: \n",
            " 15: \n",
            ">>> Resulting replaced keras model:\n",
            "\n",
            "   1: def keras_fmin_fnct(space):\n",
            "   2: \n",
            "   3:   ## Let's create a model instance called \"model\" of the Sequential \n",
            "   4:   model = keras.models.Sequential()\n",
            "   5: \n",
            "   6:   ## Let's consider adding an upsampling layer to increase the dimnesions of our original image (28,28 -> 56,56)\n",
            "   7:   #model.add(keras.layers.UpSampling2D(input_shape = (784, )))\n",
            "   8: \n",
            "   9:   ## Let's specify the intial input size to our CNN\n",
            "  10:   model.add(keras.Input(shape = (28, 28, 1)))\n",
            "  11: \n",
            "  12:   ## Here we initialize the FIRST Convolutional 2D layer, with varying sizes of filters\n",
            "  13:   model.add(keras.layers.Conv2D(filters = space['filters'], kernel_size =space['kernel_size'], use_bias = False, padding = 'same'))\n",
            "  14:  \n",
            "  15:   ## Let's intizalize an activation function for our Convolutional 2D layer, with varying sizes of activation types\n",
            "  16:   model.add(keras.layers.Activation(space['Activation']))\n",
            "  17: \n",
            "  18:   ## Let's initialize a pooling layer, with varying types of pools, and pool_sizes\n",
            "  19:   model.add(keras.layers.MaxPool2D(pool_size = space['pool_size'], padding = 'same'))\n",
            "  20: \n",
            "  21:   ## Here we initialize the SECOND Convolutional 2D layer, with varying sizes of filters\n",
            "  22:   model.add(keras.layers.Conv2D(filters = space['filters_1'], kernel_size =space['kernel_size_1'], use_bias = False, padding = 'same'))\n",
            "  23: \n",
            "  24:   ## Let's intizalize an activation function for our Convolutional 2D layer, with varying sizes of activation types\n",
            "  25:   model.add(keras.layers.Activation(space['Activation_1']))\n",
            "  26: \n",
            "  27:   ## Let's initialize a pooling layer, with varying types of pools, and pool_sizes\n",
            "  28:   model.add(keras.layers.MaxPool2D(pool_size = space['pool_size_1'], padding = 'same'))\n",
            "  29: \n",
            "  30:   ## Here we initialize the SECOND Convolutional 2D layer, with varying sizes of filters\n",
            "  31:   model.add(keras.layers.Conv2D(filters = space['filters_2'], kernel_size =space['kernel_size_2'], use_bias = False, padding = 'same'))\n",
            "  32:  \n",
            "  33:   ## Let's intizalize an activation function for our Convolutional 2D layer, with varying sizes of activation types\n",
            "  34:   model.add(keras.layers.Activation(space['Activation_2']))\n",
            "  35: \n",
            "  36:   ## Let's initialize a pooling layer, with varying types of pools, and pool_sizes\n",
            "  37:   model.add(keras.layers.MaxPool2D(pool_size = space['pool_size_2'], padding = 'same'))\n",
            "  38: \n",
            "  39:   adam = keras.optimizers.Adam(lr=space['lr'])\n",
            "  40:   rmsprop = keras.optimizers.RMSprop(lr=space['lr_1'])\n",
            "  41:   sgd = keras.optimizers.SGD(lr=space['lr_2'])\n",
            "  42: \n",
            "  43:   choiceval = space['choiceval']\n",
            "  44:   if choiceval == 'adam':\n",
            "  45:       optim = adam\n",
            "  46:   elif choiceval == 'rmsprop':\n",
            "  47:       optim = rmsprop\n",
            "  48:   else:\n",
            "  49:       optim = sgd\n",
            "  50: \n",
            "  51:   model.add(keras.layers.Flatten())\n",
            "  52: \n",
            "  53:   model.add(keras.layers.Dense(10))\n",
            "  54:   model.add(keras.layers.Activation('softmax'))\n",
            "  55:       \n",
            "  56:   model.compile(loss='categorical_crossentropy', metrics=['accuracy'],optimizer=optim)\n",
            "  57:   model.summary()\n",
            "  58: \n",
            "  59:   model.fit(X_train, y_train,\n",
            "  60:               batch_size=space['batch_size'],\n",
            "  61:               epochs=5,\n",
            "  62:               verbose=2,\n",
            "  63:               validation_data=(X_train_val, y_train_val))\n",
            "  64:   score, acc = model.evaluate(X_train_val, y_train_val, verbose=0)\n",
            "  65:   print('Test accuracy:', acc)\n",
            "  66:   return {'loss': -acc, 'status': STATUS_OK, 'model': model}\n",
            "  67: \n",
            "Model: \"sequential_45\"\n",
            "\n",
            "_________________________________________________________________\n",
            "\n",
            " Layer (type)                Output Shape              Param #   \n",
            "\n",
            "=================================================================\n",
            "\n",
            " conv2d_73 (Conv2D)          (None, 28, 28, 16)        64        \n",
            "\n",
            " activation_120 (Activation)  (None, 28, 28, 16)       0         \n",
            "\n",
            " max_pooling2d_63 (MaxPoolin  (None, 14, 14, 16)       0         \n",
            "\n",
            " g2D)                                                            \n",
            "\n",
            " conv2d_74 (Conv2D)          (None, 14, 14, 16)        1024      \n",
            "\n",
            " activation_121 (Activation)  (None, 14, 14, 16)       0         \n",
            "\n",
            " max_pooling2d_64 (MaxPoolin  (None, 5, 5, 16)         0         \n",
            "\n",
            " g2D)                                                            \n",
            "\n",
            " conv2d_75 (Conv2D)          (None, 5, 5, 32)          4608      \n",
            "\n",
            " activation_122 (Activation)  (None, 5, 5, 32)         0         \n",
            "\n",
            " max_pooling2d_65 (MaxPoolin  (None, 2, 2, 32)         0         \n",
            "\n",
            " g2D)                                                            \n",
            "\n",
            " flatten_37 (Flatten)        (None, 128)               0         \n",
            "\n",
            " dense_47 (Dense)            (None, 10)                1290      \n",
            "\n",
            " activation_123 (Activation)  (None, 10)               0         \n",
            "\n",
            "=================================================================\n",
            "\n",
            "Total params: 6,986\n",
            "\n",
            "Trainable params: 6,986\n",
            "\n",
            "Non-trainable params: 0\n",
            "\n",
            "_________________________________________________________________\n",
            "\n",
            "  0%|          | 0/10 [00:00<?, ?it/s, best loss: ?]"
          ]
        },
        {
          "output_type": "stream",
          "name": "stderr",
          "text": [
            "/usr/local/lib/python3.7/dist-packages/keras/optimizer_v2/adam.py:105: UserWarning: The `lr` argument is deprecated, use `learning_rate` instead.\n",
            "  super(Adam, self).__init__(name, **kwargs)\n",
            "\n",
            "/usr/local/lib/python3.7/dist-packages/keras/optimizer_v2/rmsprop.py:130: UserWarning: The `lr` argument is deprecated, use `learning_rate` instead.\n",
            "  super(RMSprop, self).__init__(name, **kwargs)\n",
            "\n",
            "/usr/local/lib/python3.7/dist-packages/keras/optimizer_v2/gradient_descent.py:102: UserWarning: The `lr` argument is deprecated, use `learning_rate` instead.\n",
            "  super(SGD, self).__init__(name, **kwargs)\n",
            "\n"
          ]
        },
        {
          "output_type": "stream",
          "name": "stdout",
          "text": [
            "Epoch 1/5\n",
            "\n",
            "375/375 - 20s - loss: 1.0993 - accuracy: 0.6092 - val_loss: 0.6161 - val_accuracy: 0.7790 - 20s/epoch - 52ms/step\n",
            "\n",
            "Epoch 2/5\n",
            "\n",
            "375/375 - 19s - loss: 0.5600 - accuracy: 0.7954 - val_loss: 0.5219 - val_accuracy: 0.8002 - 19s/epoch - 50ms/step\n",
            "\n",
            "Epoch 3/5\n",
            "\n",
            "375/375 - 19s - loss: 0.4864 - accuracy: 0.8221 - val_loss: 0.4292 - val_accuracy: 0.8460 - 19s/epoch - 50ms/step\n",
            "\n",
            "Epoch 4/5\n",
            "\n",
            "375/375 - 19s - loss: 0.4416 - accuracy: 0.8396 - val_loss: 0.4087 - val_accuracy: 0.8525 - 19s/epoch - 50ms/step\n",
            "\n",
            "Epoch 5/5\n",
            "\n",
            "375/375 - 19s - loss: 0.4130 - accuracy: 0.8508 - val_loss: 0.4015 - val_accuracy: 0.8515 - 19s/epoch - 50ms/step\n",
            "\n",
            "Test accuracy:\n",
            "0.8514999747276306\n",
            "Model: \"sequential_46\"\n",
            "\n",
            "_________________________________________________________________\n",
            "\n",
            " Layer (type)                Output Shape              Param #   \n",
            "\n",
            "=================================================================\n",
            "\n",
            " conv2d_76 (Conv2D)          (None, 28, 28, 8)         72        \n",
            "\n",
            " activation_124 (Activation)  (None, 28, 28, 8)        0         \n",
            "\n",
            " max_pooling2d_66 (MaxPoolin  (None, 10, 10, 8)        0         \n",
            "\n",
            " g2D)                                                            \n",
            "\n",
            " conv2d_77 (Conv2D)          (None, 10, 10, 16)        512       \n",
            "\n",
            " activation_125 (Activation)  (None, 10, 10, 16)       0         \n",
            "\n",
            " max_pooling2d_67 (MaxPoolin  (None, 3, 3, 16)         0         \n",
            "\n",
            " g2D)                                                            \n",
            "\n",
            " conv2d_78 (Conv2D)          (None, 3, 3, 32)          2048      \n",
            "\n",
            " activation_126 (Activation)  (None, 3, 3, 32)         0         \n",
            "\n",
            " max_pooling2d_68 (MaxPoolin  (None, 2, 2, 32)         0         \n",
            "\n",
            " g2D)                                                            \n",
            "\n",
            " flatten_38 (Flatten)        (None, 128)               0         \n",
            "\n",
            " dense_48 (Dense)            (None, 10)                1290      \n",
            "\n",
            " activation_127 (Activation)  (None, 10)               0         \n",
            "\n",
            "=================================================================\n",
            "\n",
            "Total params: 3,922\n",
            "\n",
            "Trainable params: 3,922\n",
            "\n",
            "Non-trainable params: 0\n",
            "\n",
            "_________________________________________________________________\n",
            "\n",
            "Epoch 1/5\n",
            "\n",
            "375/375 - 14s - loss: 2.3850 - accuracy: 0.0995 - val_loss: 2.3150 - val_accuracy: 0.1021 - 14s/epoch - 38ms/step\n",
            "\n",
            "Epoch 2/5\n",
            "\n",
            "375/375 - 14s - loss: 2.3066 - accuracy: 0.0995 - val_loss: 2.3038 - val_accuracy: 0.1021 - 14s/epoch - 37ms/step\n",
            "\n",
            "Epoch 3/5\n",
            "\n",
            "375/375 - 20s - loss: 2.3030 - accuracy: 0.0987 - val_loss: 2.3030 - val_accuracy: 0.0934 - 20s/epoch - 52ms/step\n",
            "\n",
            "Epoch 4/5\n",
            "\n",
            "375/375 - 21s - loss: 2.3028 - accuracy: 0.0981 - val_loss: 2.3030 - val_accuracy: 0.0934 - 21s/epoch - 57ms/step\n",
            "\n",
            "Epoch 5/5\n",
            "\n",
            "375/375 - 19s - loss: 2.3027 - accuracy: 0.0971 - val_loss: 2.3030 - val_accuracy: 0.0934 - 19s/epoch - 50ms/step\n",
            "\n",
            "Test accuracy:\n",
            "0.09341666847467422\n",
            "Model: \"sequential_47\"\n",
            "\n",
            "_________________________________________________________________\n",
            "\n",
            " Layer (type)                Output Shape              Param #   \n",
            "\n",
            "=================================================================\n",
            "\n",
            " conv2d_79 (Conv2D)          (None, 28, 28, 32)        288       \n",
            "\n",
            " activation_128 (Activation)  (None, 28, 28, 32)       0         \n",
            "\n",
            " max_pooling2d_69 (MaxPoolin  (None, 7, 7, 32)         0         \n",
            "\n",
            " g2D)                                                            \n",
            "\n",
            " conv2d_80 (Conv2D)          (None, 7, 7, 32)          9216      \n",
            "\n",
            " activation_129 (Activation)  (None, 7, 7, 32)         0         \n",
            "\n",
            " max_pooling2d_70 (MaxPoolin  (None, 2, 2, 32)         0         \n",
            "\n",
            " g2D)                                                            \n",
            "\n",
            " conv2d_81 (Conv2D)          (None, 2, 2, 16)          2048      \n",
            "\n",
            " activation_130 (Activation)  (None, 2, 2, 16)         0         \n",
            "\n",
            " max_pooling2d_71 (MaxPoolin  (None, 1, 1, 16)         0         \n",
            "\n",
            " g2D)                                                            \n",
            "\n",
            " flatten_39 (Flatten)        (None, 16)                0         \n",
            "\n",
            " dense_49 (Dense)            (None, 10)                170       \n",
            "\n",
            " activation_131 (Activation)  (None, 10)               0         \n",
            "\n",
            "=================================================================\n",
            "\n",
            "Total params: 11,722\n",
            "\n",
            "Trainable params: 11,722\n",
            "\n",
            "Non-trainable params: 0\n",
            "\n",
            "_________________________________________________________________\n",
            "\n",
            "Epoch 1/5\n",
            "\n",
            "188/188 - 21s - loss: 2.3187 - accuracy: 0.1002 - val_loss: 2.3117 - val_accuracy: 0.1052 - 21s/epoch - 112ms/step\n",
            "\n",
            "Epoch 2/5\n",
            "\n",
            "188/188 - 20s - loss: 2.3146 - accuracy: 0.0981 - val_loss: 2.3166 - val_accuracy: 0.0997 - 20s/epoch - 108ms/step\n",
            "\n",
            "Epoch 3/5\n",
            "\n",
            "188/188 - 20s - loss: 2.3140 - accuracy: 0.1001 - val_loss: 2.3139 - val_accuracy: 0.0934 - 20s/epoch - 109ms/step\n",
            "\n",
            "Epoch 4/5\n",
            "\n",
            "188/188 - 20s - loss: 2.3145 - accuracy: 0.1010 - val_loss: 2.3250 - val_accuracy: 0.1000 - 20s/epoch - 109ms/step\n",
            "\n",
            "Epoch 5/5\n",
            "\n",
            "188/188 - 21s - loss: 2.3122 - accuracy: 0.1012 - val_loss: 2.3143 - val_accuracy: 0.1018 - 21s/epoch - 110ms/step\n",
            "\n",
            "Test accuracy:\n",
            "0.10183333605527878\n",
            "Model: \"sequential_48\"\n",
            "\n",
            "_________________________________________________________________\n",
            "\n",
            " Layer (type)                Output Shape              Param #   \n",
            "\n",
            "=================================================================\n",
            "\n",
            " conv2d_82 (Conv2D)          (None, 28, 28, 16)        144       \n",
            "\n",
            " activation_132 (Activation)  (None, 28, 28, 16)       0         \n",
            "\n",
            " max_pooling2d_72 (MaxPoolin  (None, 10, 10, 16)       0         \n",
            "\n",
            " g2D)                                                            \n",
            "\n",
            " conv2d_83 (Conv2D)          (None, 10, 10, 32)        2048      \n",
            "\n",
            " activation_133 (Activation)  (None, 10, 10, 32)       0         \n",
            "\n",
            " max_pooling2d_73 (MaxPoolin  (None, 4, 4, 32)         0         \n",
            "\n",
            " g2D)                                                            \n",
            "\n",
            " conv2d_84 (Conv2D)          (None, 4, 4, 8)           1024      \n",
            "\n",
            " activation_134 (Activation)  (None, 4, 4, 8)          0         \n",
            "\n",
            " max_pooling2d_74 (MaxPoolin  (None, 2, 2, 8)          0         \n",
            "\n",
            " g2D)                                                            \n",
            "\n",
            " flatten_40 (Flatten)        (None, 32)                0         \n",
            "\n",
            " dense_50 (Dense)            (None, 10)                330       \n",
            "\n",
            " activation_135 (Activation)  (None, 10)               0         \n",
            "\n",
            "=================================================================\n",
            "\n",
            "Total params: 3,546\n",
            "\n",
            "Trainable params: 3,546\n",
            "\n",
            "Non-trainable params: 0\n",
            "\n",
            "_________________________________________________________________\n",
            "\n",
            "Epoch 1/5\n",
            "\n",
            "188/188 - 17s - loss: 2.3654 - accuracy: 0.0987 - val_loss: 2.3079 - val_accuracy: 0.1052 - 17s/epoch - 93ms/step\n",
            "\n",
            "Epoch 2/5\n",
            "\n",
            "188/188 - 17s - loss: 2.3044 - accuracy: 0.0998 - val_loss: 2.3026 - val_accuracy: 0.0934 - 17s/epoch - 89ms/step\n",
            "\n",
            "Epoch 3/5\n",
            "\n",
            "188/188 - 17s - loss: 2.3025 - accuracy: 0.1015 - val_loss: 2.3024 - val_accuracy: 0.0903 - 17s/epoch - 89ms/step\n",
            "\n",
            "Epoch 4/5\n",
            "\n",
            "188/188 - 17s - loss: 2.3024 - accuracy: 0.1029 - val_loss: 2.3025 - val_accuracy: 0.0934 - 17s/epoch - 89ms/step\n",
            "\n",
            "Epoch 5/5\n",
            "\n",
            "188/188 - 17s - loss: 2.3024 - accuracy: 0.1066 - val_loss: 2.3026 - val_accuracy: 0.0934 - 17s/epoch - 89ms/step\n",
            "\n",
            "Test accuracy:\n",
            "0.09341666847467422\n",
            "Model: \"sequential_49\"\n",
            "\n",
            "_________________________________________________________________\n",
            "\n",
            " Layer (type)                Output Shape              Param #   \n",
            "\n",
            "=================================================================\n",
            "\n",
            " conv2d_85 (Conv2D)          (None, 28, 28, 16)        144       \n",
            "\n",
            " activation_136 (Activation)  (None, 28, 28, 16)       0         \n",
            "\n",
            " max_pooling2d_75 (MaxPoolin  (None, 7, 7, 16)         0         \n",
            "\n",
            " g2D)                                                            \n",
            "\n",
            " conv2d_86 (Conv2D)          (None, 7, 7, 32)          4608      \n",
            "\n",
            " activation_137 (Activation)  (None, 7, 7, 32)         0         \n",
            "\n",
            " max_pooling2d_76 (MaxPoolin  (None, 2, 2, 32)         0         \n",
            "\n",
            " g2D)                                                            \n",
            "\n",
            " conv2d_87 (Conv2D)          (None, 2, 2, 16)          2048      \n",
            "\n",
            " activation_138 (Activation)  (None, 2, 2, 16)         0         \n",
            "\n",
            " max_pooling2d_77 (MaxPoolin  (None, 1, 1, 16)         0         \n",
            "\n",
            " g2D)                                                            \n",
            "\n",
            " flatten_41 (Flatten)        (None, 16)                0         \n",
            "\n",
            " dense_51 (Dense)            (None, 10)                170       \n",
            "\n",
            " activation_139 (Activation)  (None, 10)               0         \n",
            "\n",
            "=================================================================\n",
            "\n",
            "Total params: 6,970\n",
            "\n",
            "Trainable params: 6,970\n",
            "\n",
            "Non-trainable params: 0\n",
            "\n",
            "_________________________________________________________________\n",
            "\n",
            "Epoch 1/5\n",
            "\n",
            "94/94 - 15s - loss: 2.3976 - accuracy: 0.0985 - val_loss: 2.3491 - val_accuracy: 0.0997 - 15s/epoch - 158ms/step\n",
            "\n",
            "Epoch 2/5\n",
            "\n",
            "94/94 - 14s - loss: 2.3676 - accuracy: 0.0989 - val_loss: 2.3602 - val_accuracy: 0.1014 - 14s/epoch - 149ms/step\n",
            "\n",
            "Epoch 3/5\n",
            "\n",
            "94/94 - 14s - loss: 2.3692 - accuracy: 0.0979 - val_loss: 2.3946 - val_accuracy: 0.0934 - 14s/epoch - 150ms/step\n",
            "\n",
            "Epoch 4/5\n",
            "\n",
            "94/94 - 14s - loss: 2.3677 - accuracy: 0.0986 - val_loss: 2.3641 - val_accuracy: 0.1000 - 14s/epoch - 151ms/step\n",
            "\n",
            "Epoch 5/5\n",
            "\n",
            "94/94 - 14s - loss: 2.3700 - accuracy: 0.1008 - val_loss: 2.3757 - val_accuracy: 0.1000 - 14s/epoch - 150ms/step\n",
            "\n",
            "Test accuracy:\n",
            "0.10000000149011612\n",
            "Model: \"sequential_50\"\n",
            "\n",
            "_________________________________________________________________\n",
            "\n",
            " Layer (type)                Output Shape              Param #   \n",
            "\n",
            "=================================================================\n",
            "\n",
            " conv2d_88 (Conv2D)          (None, 28, 28, 8)         72        \n",
            "\n",
            " activation_140 (Activation)  (None, 28, 28, 8)        0         \n",
            "\n",
            " max_pooling2d_78 (MaxPoolin  (None, 7, 7, 8)          0         \n",
            "\n",
            " g2D)                                                            \n",
            "\n",
            " conv2d_89 (Conv2D)          (None, 7, 7, 16)          512       \n",
            "\n",
            " activation_141 (Activation)  (None, 7, 7, 16)         0         \n",
            "\n",
            " max_pooling2d_79 (MaxPoolin  (None, 2, 2, 16)         0         \n",
            "\n",
            " g2D)                                                            \n",
            "\n",
            " conv2d_90 (Conv2D)          (None, 2, 2, 32)          4608      \n",
            "\n",
            " activation_142 (Activation)  (None, 2, 2, 32)         0         \n",
            "\n",
            " max_pooling2d_80 (MaxPoolin  (None, 1, 1, 32)         0         \n",
            "\n",
            " g2D)                                                            \n",
            "\n",
            " flatten_42 (Flatten)        (None, 32)                0         \n",
            "\n",
            " dense_52 (Dense)            (None, 10)                330       \n",
            "\n",
            " activation_143 (Activation)  (None, 10)               0         \n",
            "\n",
            "=================================================================\n",
            "\n",
            "Total params: 5,522\n",
            "\n",
            "Trainable params: 5,522\n",
            "\n",
            "Non-trainable params: 0\n",
            "\n",
            "_________________________________________________________________\n",
            "\n",
            "Epoch 1/5\n",
            "\n",
            "94/94 - 12s - loss: 1.7898 - accuracy: 0.4566 - val_loss: 1.3076 - val_accuracy: 0.5912 - 12s/epoch - 125ms/step\n",
            "\n",
            "Epoch 2/5\n",
            "\n",
            "94/94 - 11s - loss: 1.0895 - accuracy: 0.6323 - val_loss: 0.9166 - val_accuracy: 0.6705 - 11s/epoch - 119ms/step\n",
            "\n",
            "Epoch 3/5\n",
            "\n",
            "94/94 - 14s - loss: 0.8428 - accuracy: 0.6951 - val_loss: 0.7836 - val_accuracy: 0.7001 - 14s/epoch - 154ms/step\n",
            "\n",
            "Epoch 4/5\n",
            "\n",
            "94/94 - 11s - loss: 0.7453 - accuracy: 0.7263 - val_loss: 0.7137 - val_accuracy: 0.7266 - 11s/epoch - 117ms/step\n",
            "\n",
            "Epoch 5/5\n",
            "\n",
            "94/94 - 11s - loss: 0.6901 - accuracy: 0.7421 - val_loss: 0.6603 - val_accuracy: 0.7523 - 11s/epoch - 117ms/step\n",
            "\n",
            "Test accuracy:\n",
            "0.7523333430290222\n",
            "Model: \"sequential_51\"\n",
            "\n",
            "_________________________________________________________________\n",
            "\n",
            " Layer (type)                Output Shape              Param #   \n",
            "\n",
            "=================================================================\n",
            "\n",
            " conv2d_91 (Conv2D)          (None, 28, 28, 16)        64        \n",
            "\n",
            " activation_144 (Activation)  (None, 28, 28, 16)       0         \n",
            "\n",
            " max_pooling2d_81 (MaxPoolin  (None, 7, 7, 16)         0         \n",
            "\n",
            " g2D)                                                            \n",
            "\n",
            " conv2d_92 (Conv2D)          (None, 7, 7, 32)          2048      \n",
            "\n",
            " activation_145 (Activation)  (None, 7, 7, 32)         0         \n",
            "\n",
            " max_pooling2d_82 (MaxPoolin  (None, 4, 4, 32)         0         \n",
            "\n",
            " g2D)                                                            \n",
            "\n",
            " conv2d_93 (Conv2D)          (None, 4, 4, 16)          4608      \n",
            "\n",
            " activation_146 (Activation)  (None, 4, 4, 16)         0         \n",
            "\n",
            " max_pooling2d_83 (MaxPoolin  (None, 2, 2, 16)         0         \n",
            "\n",
            " g2D)                                                            \n",
            "\n",
            " flatten_43 (Flatten)        (None, 64)                0         \n",
            "\n",
            " dense_53 (Dense)            (None, 10)                650       \n",
            "\n",
            " activation_147 (Activation)  (None, 10)               0         \n",
            "\n",
            "=================================================================\n",
            "\n",
            "Total params: 7,370\n",
            "\n",
            "Trainable params: 7,370\n",
            "\n",
            "Non-trainable params: 0\n",
            "\n",
            "_________________________________________________________________\n",
            "\n",
            "Epoch 1/5\n",
            "\n",
            "94/94 - 14s - loss: 2.3098 - accuracy: 0.1021 - val_loss: 2.3028 - val_accuracy: 0.0987 - 14s/epoch - 146ms/step\n",
            "\n",
            "Epoch 2/5\n",
            "\n",
            "94/94 - 13s - loss: 2.3031 - accuracy: 0.1020 - val_loss: 2.3034 - val_accuracy: 0.0987 - 13s/epoch - 139ms/step\n",
            "\n",
            "Epoch 3/5\n",
            "\n",
            "94/94 - 13s - loss: 2.3030 - accuracy: 0.1037 - val_loss: 2.3029 - val_accuracy: 0.1007 - 13s/epoch - 139ms/step\n",
            "\n",
            "Epoch 4/5\n",
            "\n",
            "94/94 - 13s - loss: 2.3032 - accuracy: 0.1044 - val_loss: 2.3033 - val_accuracy: 0.1052 - 13s/epoch - 140ms/step\n",
            "\n",
            "Epoch 5/5\n",
            "\n",
            "94/94 - 13s - loss: 2.3029 - accuracy: 0.1025 - val_loss: 2.3023 - val_accuracy: 0.0996 - 13s/epoch - 140ms/step\n",
            "\n",
            "Test accuracy:\n",
            "0.09958333522081375\n",
            "Model: \"sequential_52\"\n",
            "\n",
            "_________________________________________________________________\n",
            "\n",
            " Layer (type)                Output Shape              Param #   \n",
            "\n",
            "=================================================================\n",
            "\n",
            " conv2d_94 (Conv2D)          (None, 28, 28, 8)         72        \n",
            "\n",
            " activation_148 (Activation)  (None, 28, 28, 8)        0         \n",
            "\n",
            " max_pooling2d_84 (MaxPoolin  (None, 10, 10, 8)        0         \n",
            "\n",
            " g2D)                                                            \n",
            "\n",
            " conv2d_95 (Conv2D)          (None, 10, 10, 16)        512       \n",
            "\n",
            " activation_149 (Activation)  (None, 10, 10, 16)       0         \n",
            "\n",
            " max_pooling2d_85 (MaxPoolin  (None, 4, 4, 16)         0         \n",
            "\n",
            " g2D)                                                            \n",
            "\n",
            " conv2d_96 (Conv2D)          (None, 4, 4, 8)           1152      \n",
            "\n",
            " activation_150 (Activation)  (None, 4, 4, 8)          0         \n",
            "\n",
            " max_pooling2d_86 (MaxPoolin  (None, 1, 1, 8)          0         \n",
            "\n",
            " g2D)                                                            \n",
            "\n",
            " flatten_44 (Flatten)        (None, 8)                 0         \n",
            "\n",
            " dense_54 (Dense)            (None, 10)                90        \n",
            "\n",
            " activation_151 (Activation)  (None, 10)               0         \n",
            "\n",
            "=================================================================\n",
            "\n",
            "Total params: 1,826\n",
            "\n",
            "Trainable params: 1,826\n",
            "\n",
            "Non-trainable params: 0\n",
            "\n",
            "_________________________________________________________________\n",
            "\n",
            "Epoch 1/5\n",
            "\n",
            "375/375 - 15s - loss: 1.3395 - accuracy: 0.5041 - val_loss: 0.8018 - val_accuracy: 0.7129 - 15s/epoch - 39ms/step\n",
            "\n",
            "Epoch 2/5\n",
            "\n",
            "375/375 - 14s - loss: 0.7231 - accuracy: 0.7268 - val_loss: 0.6368 - val_accuracy: 0.7620 - 14s/epoch - 38ms/step\n",
            "\n",
            "Epoch 3/5\n",
            "\n",
            "375/375 - 14s - loss: 0.6516 - accuracy: 0.7567 - val_loss: 0.5929 - val_accuracy: 0.7776 - 14s/epoch - 38ms/step\n",
            "\n",
            "Epoch 4/5\n",
            "\n",
            "375/375 - 14s - loss: 0.6139 - accuracy: 0.7716 - val_loss: 0.5781 - val_accuracy: 0.7824 - 14s/epoch - 38ms/step\n",
            "\n",
            "Epoch 5/5\n",
            "\n",
            "375/375 - 14s - loss: 0.5740 - accuracy: 0.7896 - val_loss: 0.5770 - val_accuracy: 0.7919 - 14s/epoch - 38ms/step\n",
            "\n",
            "Test accuracy:\n",
            "0.7919166684150696\n",
            "Model: \"sequential_53\"\n",
            "\n",
            "_________________________________________________________________\n",
            "\n",
            " Layer (type)                Output Shape              Param #   \n",
            "\n",
            "=================================================================\n",
            "\n",
            " conv2d_97 (Conv2D)          (None, 28, 28, 32)        288       \n",
            "\n",
            " activation_152 (Activation)  (None, 28, 28, 32)       0         \n",
            "\n",
            " max_pooling2d_87 (MaxPoolin  (None, 7, 7, 32)         0         \n",
            "\n",
            " g2D)                                                            \n",
            "\n",
            " conv2d_98 (Conv2D)          (None, 7, 7, 32)          9216      \n",
            "\n",
            " activation_153 (Activation)  (None, 7, 7, 32)         0         \n",
            "\n",
            " max_pooling2d_88 (MaxPoolin  (None, 2, 2, 32)         0         \n",
            "\n",
            " g2D)                                                            \n",
            "\n",
            " conv2d_99 (Conv2D)          (None, 2, 2, 8)           1024      \n",
            "\n",
            " activation_154 (Activation)  (None, 2, 2, 8)          0         \n",
            "\n",
            " max_pooling2d_89 (MaxPoolin  (None, 1, 1, 8)          0         \n",
            "\n",
            " g2D)                                                            \n",
            "\n",
            " flatten_45 (Flatten)        (None, 8)                 0         \n",
            "\n",
            " dense_55 (Dense)            (None, 10)                90        \n",
            "\n",
            " activation_155 (Activation)  (None, 10)               0         \n",
            "\n",
            "=================================================================\n",
            "\n",
            "Total params: 10,618\n",
            "\n",
            "Trainable params: 10,618\n",
            "\n",
            "Non-trainable params: 0\n",
            "\n",
            "_________________________________________________________________\n",
            "\n",
            "Epoch 1/5\n",
            "\n",
            "375/375 - 24s - loss: 2.3381 - accuracy: 0.1068 - val_loss: 2.3077 - val_accuracy: 0.1727 - 24s/epoch - 63ms/step\n",
            "\n",
            "Epoch 2/5\n",
            "\n",
            "375/375 - 23s - loss: 2.3026 - accuracy: 0.1508 - val_loss: 2.3014 - val_accuracy: 0.1697 - 23s/epoch - 61ms/step\n",
            "\n",
            "Epoch 3/5\n",
            "\n",
            "375/375 - 23s - loss: 2.3003 - accuracy: 0.1246 - val_loss: 2.3001 - val_accuracy: 0.1322 - 23s/epoch - 61ms/step\n",
            "\n",
            "Epoch 4/5\n",
            "\n",
            "375/375 - 23s - loss: 2.2994 - accuracy: 0.1596 - val_loss: 2.2992 - val_accuracy: 0.1870 - 23s/epoch - 61ms/step\n",
            "\n",
            "Epoch 5/5\n",
            "\n",
            "375/375 - 23s - loss: 2.2986 - accuracy: 0.1617 - val_loss: 2.2983 - val_accuracy: 0.2292 - 23s/epoch - 61ms/step\n",
            "\n",
            "Test accuracy:\n",
            "0.2291666716337204\n",
            "Model: \"sequential_54\"\n",
            "\n",
            "_________________________________________________________________\n",
            "\n",
            " Layer (type)                Output Shape              Param #   \n",
            "\n",
            "=================================================================\n",
            "\n",
            " conv2d_100 (Conv2D)         (None, 28, 28, 16)        64        \n",
            "\n",
            " activation_156 (Activation)  (None, 28, 28, 16)       0         \n",
            "\n",
            " max_pooling2d_90 (MaxPoolin  (None, 10, 10, 16)       0         \n",
            "\n",
            " g2D)                                                            \n",
            "\n",
            " conv2d_101 (Conv2D)         (None, 10, 10, 8)         1152      \n",
            "\n",
            " activation_157 (Activation)  (None, 10, 10, 8)        0         \n",
            "\n",
            " max_pooling2d_91 (MaxPoolin  (None, 5, 5, 8)          0         \n",
            "\n",
            " g2D)                                                            \n",
            "\n",
            " conv2d_102 (Conv2D)         (None, 5, 5, 16)          512       \n",
            "\n",
            " activation_158 (Activation)  (None, 5, 5, 16)         0         \n",
            "\n",
            " max_pooling2d_92 (MaxPoolin  (None, 2, 2, 16)         0         \n",
            "\n",
            " g2D)                                                            \n",
            "\n",
            " flatten_46 (Flatten)        (None, 64)                0         \n",
            "\n",
            " dense_56 (Dense)            (None, 10)                650       \n",
            "\n",
            " activation_159 (Activation)  (None, 10)               0         \n",
            "\n",
            "=================================================================\n",
            "\n",
            "Total params: 2,378\n",
            "\n",
            "Trainable params: 2,378\n",
            "\n",
            "Non-trainable params: 0\n",
            "\n",
            "_________________________________________________________________\n",
            "\n",
            "Epoch 1/5\n",
            "\n",
            "188/188 - 16s - loss: 1.5075 - accuracy: 0.4554 - val_loss: 0.9553 - val_accuracy: 0.6518 - 16s/epoch - 87ms/step\n",
            "\n",
            "Epoch 2/5\n",
            "\n",
            "188/188 - 16s - loss: 0.7905 - accuracy: 0.7217 - val_loss: 0.6526 - val_accuracy: 0.7732 - 16s/epoch - 83ms/step\n",
            "\n",
            "Epoch 3/5\n",
            "\n",
            "188/188 - 16s - loss: 0.6132 - accuracy: 0.7814 - val_loss: 0.5541 - val_accuracy: 0.8038 - 16s/epoch - 83ms/step\n",
            "\n",
            "Epoch 4/5\n",
            "\n",
            "188/188 - 16s - loss: 0.5446 - accuracy: 0.8055 - val_loss: 0.5115 - val_accuracy: 0.8207 - 16s/epoch - 83ms/step\n",
            "\n",
            "Epoch 5/5\n",
            "\n",
            "188/188 - 16s - loss: 0.5074 - accuracy: 0.8177 - val_loss: 0.4886 - val_accuracy: 0.8271 - 16s/epoch - 83ms/step\n",
            "\n",
            "Test accuracy:\n",
            "0.8270833492279053\n",
            "100%|██████████| 10/10 [17:29<00:00, 104.92s/it, best loss: -0.8514999747276306]\n"
          ]
        }
      ]
    },
    {
      "cell_type": "code",
      "source": [
        "X_test = X_test.reshape(-1, 28, 28)\n",
        "print(best_model.evaluate(X_test, y_test_cat))"
      ],
      "metadata": {
        "id": "YE7EUQexg_Sv",
        "outputId": "6cdee6e7-1e44-4f1f-f684-a203095e5f30",
        "colab": {
          "base_uri": "https://localhost:8080/"
        }
      },
      "execution_count": 158,
      "outputs": [
        {
          "output_type": "stream",
          "name": "stdout",
          "text": [
            "313/313 [==============================] - 2s 7ms/step - loss: 0.3984 - accuracy: 0.8541\n",
            "[0.39838361740112305, 0.8540999889373779]\n"
          ]
        }
      ]
    },
    {
      "cell_type": "code",
      "source": [
        "for key, value in best_run.items():\n",
        "  print(key,  ':', value)\n"
      ],
      "metadata": {
        "id": "kGa9qGnpv1eX",
        "outputId": "1cbc4ca5-9506-46f1-b86e-def13068a012",
        "colab": {
          "base_uri": "https://localhost:8080/"
        }
      },
      "execution_count": 159,
      "outputs": [
        {
          "output_type": "stream",
          "name": "stdout",
          "text": [
            "Activation : relu\n",
            "Activation_1 : relu\n",
            "Activation_2 : relu\n",
            "batch_size : 128\n",
            "choiceval : sgd\n",
            "filters : 16\n",
            "filters_1 : 16\n",
            "filters_2 : 32\n",
            "kernel_size : (2, 2)\n",
            "kernel_size_1 : (2, 2)\n",
            "kernel_size_2 : (3, 3)\n",
            "lr : 0.01\n",
            "lr_1 : 0.01\n",
            "lr_2 : 0.1\n",
            "pool_size : (2, 2)\n",
            "pool_size_1 : (3, 3)\n",
            "pool_size_2 : (4, 4)\n"
          ]
        }
      ]
    },
    {
      "cell_type": "code",
      "source": [
        "print(best_run.values())"
      ],
      "metadata": {
        "id": "GuS4FEx0v-gm",
        "outputId": "5fdcfb70-ab84-4bf6-d12f-d894d5e8347f",
        "colab": {
          "base_uri": "https://localhost:8080/"
        }
      },
      "execution_count": 160,
      "outputs": [
        {
          "output_type": "stream",
          "name": "stdout",
          "text": [
            "dict_values(['relu', 'relu', 'relu', 128, 'sgd', 16, 16, 32, (2, 2), (2, 2), (3, 3), 0.01, 0.01, 0.1, (2, 2), (3, 3), (4, 4)])\n"
          ]
        }
      ]
    },
    {
      "cell_type": "code",
      "source": [
        "from hyperas.utils import eval_hyperopt_space\n",
        "real_param_values = eval_hyperopt_space(space, best_run)"
      ],
      "metadata": {
        "id": "iWqtujoYwUAG",
        "outputId": "10f9d608-f033-42bf-c4b9-8b61d75f5dee",
        "colab": {
          "base_uri": "https://localhost:8080/",
          "height": 351
        }
      },
      "execution_count": 161,
      "outputs": [
        {
          "output_type": "error",
          "ename": "IndexError",
          "evalue": "ignored",
          "traceback": [
            "\u001b[0;31m---------------------------------------------------------------------------\u001b[0m",
            "\u001b[0;31mIndexError\u001b[0m                                Traceback (most recent call last)",
            "\u001b[0;32m<ipython-input-161-b96da772d564>\u001b[0m in \u001b[0;36m<module>\u001b[0;34m()\u001b[0m\n\u001b[1;32m      1\u001b[0m \u001b[0;32mfrom\u001b[0m \u001b[0mhyperas\u001b[0m\u001b[0;34m.\u001b[0m\u001b[0mutils\u001b[0m \u001b[0;32mimport\u001b[0m \u001b[0meval_hyperopt_space\u001b[0m\u001b[0;34m\u001b[0m\u001b[0;34m\u001b[0m\u001b[0m\n\u001b[0;32m----> 2\u001b[0;31m \u001b[0mreal_param_values\u001b[0m \u001b[0;34m=\u001b[0m \u001b[0meval_hyperopt_space\u001b[0m\u001b[0;34m(\u001b[0m\u001b[0mspace\u001b[0m\u001b[0;34m,\u001b[0m \u001b[0mbest_run\u001b[0m\u001b[0;34m)\u001b[0m\u001b[0;34m\u001b[0m\u001b[0;34m\u001b[0m\u001b[0m\n\u001b[0m",
            "\u001b[0;32m/usr/local/lib/python3.7/dist-packages/hyperas/utils.py\u001b[0m in \u001b[0;36meval_hyperopt_space\u001b[0;34m(space, vals)\u001b[0m\n\u001b[1;32m    180\u001b[0m     \"\"\"\n\u001b[1;32m    181\u001b[0m     \u001b[0munpacked_vals\u001b[0m \u001b[0;34m=\u001b[0m \u001b[0munpack_hyperopt_vals\u001b[0m\u001b[0;34m(\u001b[0m\u001b[0mvals\u001b[0m\u001b[0;34m)\u001b[0m\u001b[0;34m\u001b[0m\u001b[0;34m\u001b[0m\u001b[0m\n\u001b[0;32m--> 182\u001b[0;31m     \u001b[0;32mreturn\u001b[0m \u001b[0mspace_eval\u001b[0m\u001b[0;34m(\u001b[0m\u001b[0mspace\u001b[0m\u001b[0;34m,\u001b[0m \u001b[0munpacked_vals\u001b[0m\u001b[0;34m)\u001b[0m\u001b[0;34m\u001b[0m\u001b[0;34m\u001b[0m\u001b[0m\n\u001b[0m\u001b[1;32m    183\u001b[0m \u001b[0;34m\u001b[0m\u001b[0m\n\u001b[1;32m    184\u001b[0m \u001b[0;34m\u001b[0m\u001b[0m\n",
            "\u001b[0;32m/usr/local/lib/python3.7/dist-packages/hyperopt/fmin.py\u001b[0m in \u001b[0;36mspace_eval\u001b[0;34m(space, hp_assignment)\u001b[0m\n\u001b[1;32m    432\u001b[0m             \u001b[0;32mif\u001b[0m \u001b[0mlabel\u001b[0m \u001b[0;32min\u001b[0m \u001b[0mhp_assignment\u001b[0m\u001b[0;34m:\u001b[0m\u001b[0;34m\u001b[0m\u001b[0;34m\u001b[0m\u001b[0m\n\u001b[1;32m    433\u001b[0m                 \u001b[0mmemo\u001b[0m\u001b[0;34m[\u001b[0m\u001b[0mnode\u001b[0m\u001b[0;34m]\u001b[0m \u001b[0;34m=\u001b[0m \u001b[0mhp_assignment\u001b[0m\u001b[0;34m[\u001b[0m\u001b[0mlabel\u001b[0m\u001b[0;34m]\u001b[0m\u001b[0;34m\u001b[0m\u001b[0;34m\u001b[0m\u001b[0m\n\u001b[0;32m--> 434\u001b[0;31m     \u001b[0mrval\u001b[0m \u001b[0;34m=\u001b[0m \u001b[0mpyll\u001b[0m\u001b[0;34m.\u001b[0m\u001b[0mrec_eval\u001b[0m\u001b[0;34m(\u001b[0m\u001b[0mspace\u001b[0m\u001b[0;34m,\u001b[0m \u001b[0mmemo\u001b[0m\u001b[0;34m=\u001b[0m\u001b[0mmemo\u001b[0m\u001b[0;34m)\u001b[0m\u001b[0;34m\u001b[0m\u001b[0;34m\u001b[0m\u001b[0m\n\u001b[0m\u001b[1;32m    435\u001b[0m     \u001b[0;32mreturn\u001b[0m \u001b[0mrval\u001b[0m\u001b[0;34m\u001b[0m\u001b[0;34m\u001b[0m\u001b[0m\n\u001b[1;32m    436\u001b[0m \u001b[0;34m\u001b[0m\u001b[0m\n",
            "\u001b[0;32m/usr/local/lib/python3.7/dist-packages/hyperopt/pyll/base.py\u001b[0m in \u001b[0;36mrec_eval\u001b[0;34m(expr, deepcopy_inputs, memo, max_program_len, memo_gc, print_trace, print_node_on_error)\u001b[0m\n\u001b[1;32m    872\u001b[0m                     raise ValueError('switch pos must be positive int',\n\u001b[1;32m    873\u001b[0m                                      switch_i)\n\u001b[0;32m--> 874\u001b[0;31m                 \u001b[0mrval_var\u001b[0m \u001b[0;34m=\u001b[0m \u001b[0mnode\u001b[0m\u001b[0;34m.\u001b[0m\u001b[0mpos_args\u001b[0m\u001b[0;34m[\u001b[0m\u001b[0mint\u001b[0m\u001b[0;34m(\u001b[0m\u001b[0mswitch_i\u001b[0m\u001b[0;34m)\u001b[0m \u001b[0;34m+\u001b[0m \u001b[0;36m1\u001b[0m\u001b[0;34m]\u001b[0m\u001b[0;34m\u001b[0m\u001b[0;34m\u001b[0m\u001b[0m\n\u001b[0m\u001b[1;32m    875\u001b[0m                 \u001b[0;32mif\u001b[0m \u001b[0mrval_var\u001b[0m \u001b[0;32min\u001b[0m \u001b[0mmemo\u001b[0m\u001b[0;34m:\u001b[0m\u001b[0;34m\u001b[0m\u001b[0;34m\u001b[0m\u001b[0m\n\u001b[1;32m    876\u001b[0m                     \u001b[0mset_memo\u001b[0m\u001b[0;34m(\u001b[0m\u001b[0mnode\u001b[0m\u001b[0;34m,\u001b[0m \u001b[0mmemo\u001b[0m\u001b[0;34m[\u001b[0m\u001b[0mrval_var\u001b[0m\u001b[0;34m]\u001b[0m\u001b[0;34m)\u001b[0m\u001b[0;34m\u001b[0m\u001b[0;34m\u001b[0m\u001b[0m\n",
            "\u001b[0;31mIndexError\u001b[0m: list index out of range"
          ]
        }
      ]
    },
    {
      "cell_type": "code",
      "source": [
        ""
      ],
      "metadata": {
        "id": "9UZePTJHxZ9V"
      },
      "execution_count": null,
      "outputs": []
    }
  ]
}