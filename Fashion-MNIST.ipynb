{
  "nbformat": 4,
  "nbformat_minor": 0,
  "metadata": {
    "colab": {
      "name": "Fashion-MNIST.ipynb",
      "provenance": [],
      "toc_visible": true,
      "collapsed_sections": [],
      "authorship_tag": "ABX9TyOskLSgEguhmrKX4tzp3VCe",
      "include_colab_link": true
    },
    "kernelspec": {
      "name": "python3",
      "display_name": "Python 3"
    },
    "language_info": {
      "name": "python"
    }
  },
  "cells": [
    {
      "cell_type": "markdown",
      "metadata": {
        "id": "view-in-github",
        "colab_type": "text"
      },
      "source": [
        "<a href=\"https://colab.research.google.com/github/salocinnobot/Fashion-MNIST/blob/main/Fashion-MNIST.ipynb\" target=\"_parent\"><img src=\"https://colab.research.google.com/assets/colab-badge.svg\" alt=\"Open In Colab\"/></a>"
      ]
    },
    {
      "cell_type": "markdown",
      "source": [
        "# Initialization of notebook to work with Kaggle Dataset"
      ],
      "metadata": {
        "id": "IKIrZyrHAmdN"
      }
    },
    {
      "cell_type": "code",
      "execution_count": null,
      "metadata": {
        "colab": {
          "base_uri": "https://localhost:8080/"
        },
        "outputId": "6b8c97d0-6ce9-4e06-9c8a-9e7b3de45fab",
        "id": "tOTQ02WWAmdO"
      },
      "outputs": [
        {
          "output_type": "stream",
          "name": "stdout",
          "text": [
            "Requirement already satisfied: kaggle in /usr/local/lib/python3.7/dist-packages (1.5.12)\n",
            "Requirement already satisfied: python-dateutil in /usr/local/lib/python3.7/dist-packages (from kaggle) (2.8.2)\n",
            "Requirement already satisfied: tqdm in /usr/local/lib/python3.7/dist-packages (from kaggle) (4.64.0)\n",
            "Requirement already satisfied: urllib3 in /usr/local/lib/python3.7/dist-packages (from kaggle) (1.24.3)\n",
            "Requirement already satisfied: certifi in /usr/local/lib/python3.7/dist-packages (from kaggle) (2021.10.8)\n",
            "Requirement already satisfied: six>=1.10 in /usr/local/lib/python3.7/dist-packages (from kaggle) (1.15.0)\n",
            "Requirement already satisfied: python-slugify in /usr/local/lib/python3.7/dist-packages (from kaggle) (6.1.1)\n",
            "Requirement already satisfied: requests in /usr/local/lib/python3.7/dist-packages (from kaggle) (2.23.0)\n",
            "Requirement already satisfied: text-unidecode>=1.3 in /usr/local/lib/python3.7/dist-packages (from python-slugify->kaggle) (1.3)\n",
            "Requirement already satisfied: chardet<4,>=3.0.2 in /usr/local/lib/python3.7/dist-packages (from requests->kaggle) (3.0.4)\n",
            "Requirement already satisfied: idna<3,>=2.5 in /usr/local/lib/python3.7/dist-packages (from requests->kaggle) (2.10)\n"
          ]
        }
      ],
      "source": [
        "!pip install kaggle"
      ]
    },
    {
      "cell_type": "code",
      "source": [
        "! cd ~/.kaggle"
      ],
      "metadata": {
        "id": "dUGDUITiAmdO"
      },
      "execution_count": null,
      "outputs": []
    },
    {
      "cell_type": "code",
      "source": [
        "! cp kaggle.json ~/.kaggle/"
      ],
      "metadata": {
        "id": "D3IZSeCSAmdP"
      },
      "execution_count": null,
      "outputs": []
    },
    {
      "cell_type": "code",
      "source": [
        "! chmod 600 ~/.kaggle/kaggle.json"
      ],
      "metadata": {
        "id": "TtMXoZeNAmdP"
      },
      "execution_count": null,
      "outputs": []
    },
    {
      "cell_type": "code",
      "source": [
        "! kaggle datasets download -d zalando-research/fashionmnist"
      ],
      "metadata": {
        "colab": {
          "base_uri": "https://localhost:8080/"
        },
        "outputId": "c79538af-d56f-451f-8e7b-de089e594135",
        "id": "WdIxInq9AmdP"
      },
      "execution_count": null,
      "outputs": [
        {
          "output_type": "stream",
          "name": "stdout",
          "text": [
            "Downloading fashionmnist.zip to /content\n",
            " 87% 60.0M/68.8M [00:00<00:00, 133MB/s]\n",
            "100% 68.8M/68.8M [00:00<00:00, 141MB/s]\n"
          ]
        }
      ]
    },
    {
      "cell_type": "code",
      "source": [
        "! unzip fashionmnist"
      ],
      "metadata": {
        "colab": {
          "base_uri": "https://localhost:8080/"
        },
        "outputId": "2abfc54a-8939-4485-95aa-97a66040d205",
        "id": "TMw4DNaiAmdP"
      },
      "execution_count": null,
      "outputs": [
        {
          "output_type": "stream",
          "name": "stdout",
          "text": [
            "Archive:  fashionmnist.zip\n",
            "  inflating: fashion-mnist_test.csv  \n",
            "  inflating: fashion-mnist_train.csv  \n",
            "  inflating: t10k-images-idx3-ubyte  \n",
            "  inflating: t10k-labels-idx1-ubyte  \n",
            "  inflating: train-images-idx3-ubyte  \n",
            "  inflating: train-labels-idx1-ubyte  \n"
          ]
        }
      ]
    },
    {
      "cell_type": "code",
      "source": [
        "## We see here, that Google Colab provide a LINUX directory from which we can access our data\n",
        "!ls"
      ],
      "metadata": {
        "colab": {
          "base_uri": "https://localhost:8080/"
        },
        "outputId": "c5a3b27c-e403-4c18-9dc2-f320a417ac53",
        "id": "2cCBi90bAmdP"
      },
      "execution_count": null,
      "outputs": [
        {
          "output_type": "stream",
          "name": "stdout",
          "text": [
            "fashion-mnist_test.csv\t kaggle.json\t\t t10k-labels-idx1-ubyte\n",
            "fashion-mnist_train.csv  sample_data\t\t train-images-idx3-ubyte\n",
            "fashionmnist.zip\t t10k-images-idx3-ubyte  train-labels-idx1-ubyte\n"
          ]
        }
      ]
    },
    {
      "cell_type": "code",
      "source": [
        "## Imports Colab Notebooks as a folder from Google Drive into Google Colab Directory. \n",
        "## Folder can be found under gdrive/MyDrive/Colab Notebooks/colab.ipynb\n",
        "## Utilized by hyperas to run optimization (notebook_name = 'notebook')\n",
        "## Please see https://github.com/maxpumperla/hyperas/issues/83 for more information\n",
        "\n",
        "\n",
        "from google.colab import drive\n",
        "drive.mount('/gdrive')\n",
        "%ls /gdrive"
      ],
      "metadata": {
        "colab": {
          "base_uri": "https://localhost:8080/"
        },
        "id": "_Q9kVX9DrOR-",
        "outputId": "d70e8f9a-babd-472f-8a89-c502e248c1ca"
      },
      "execution_count": null,
      "outputs": [
        {
          "output_type": "stream",
          "name": "stdout",
          "text": [
            "Mounted at /gdrive\n",
            "\u001b[0m\u001b[01;34mMyDrive\u001b[0m/\n"
          ]
        }
      ]
    },
    {
      "cell_type": "markdown",
      "source": [
        "# A guide to this workbook\n",
        "\n",
        "\n",
        "- Section 1: Separating our training/test data, along with further splitting our training data into validation data\n",
        "\n",
        "- Section 2: Encoding our y_values into one-hot-encoded vectors using to_categorical\n",
        "\n",
        "- Section 3: Reviewing important terms necessary for understanding convolutional neural networks (convolutions, kernels, filters)\n",
        "\n",
        "- Section 4: Applying convolutions (edge detection, blur, upsampling) to our training images\n",
        "\n",
        "- Section 5: Applying our first CNN using hyperas\n",
        "\n",
        "\n"
      ],
      "metadata": {
        "id": "y9a95YmdRYAw"
      }
    },
    {
      "cell_type": "markdown",
      "source": [
        "## Section 1:\n",
        "\n",
        "Let's separate our training/test data"
      ],
      "metadata": {
        "id": "O_WKXqBNAmdQ"
      }
    },
    {
      "cell_type": "code",
      "source": [
        "!pip install hyperopt\n",
        "!pip install hyperas"
      ],
      "metadata": {
        "colab": {
          "base_uri": "https://localhost:8080/"
        },
        "id": "oslUHZqxY9se",
        "outputId": "0e538b68-871b-4067-e5ca-74a88cba0e47"
      },
      "execution_count": null,
      "outputs": [
        {
          "output_type": "stream",
          "name": "stdout",
          "text": [
            "Requirement already satisfied: hyperopt in /usr/local/lib/python3.7/dist-packages (0.1.2)\n",
            "Requirement already satisfied: pymongo in /usr/local/lib/python3.7/dist-packages (from hyperopt) (4.1.1)\n",
            "Requirement already satisfied: future in /usr/local/lib/python3.7/dist-packages (from hyperopt) (0.16.0)\n",
            "Requirement already satisfied: scipy in /usr/local/lib/python3.7/dist-packages (from hyperopt) (1.4.1)\n",
            "Requirement already satisfied: networkx in /usr/local/lib/python3.7/dist-packages (from hyperopt) (2.6.3)\n",
            "Requirement already satisfied: six in /usr/local/lib/python3.7/dist-packages (from hyperopt) (1.15.0)\n",
            "Requirement already satisfied: tqdm in /usr/local/lib/python3.7/dist-packages (from hyperopt) (4.64.0)\n",
            "Requirement already satisfied: numpy in /usr/local/lib/python3.7/dist-packages (from hyperopt) (1.21.6)\n",
            "Collecting hyperas\n",
            "  Downloading hyperas-0.4.1-py3-none-any.whl (9.1 kB)\n",
            "Requirement already satisfied: hyperopt in /usr/local/lib/python3.7/dist-packages (from hyperas) (0.1.2)\n",
            "Requirement already satisfied: keras in /usr/local/lib/python3.7/dist-packages (from hyperas) (2.8.0)\n",
            "Requirement already satisfied: nbconvert in /usr/local/lib/python3.7/dist-packages (from hyperas) (5.6.1)\n",
            "Requirement already satisfied: jupyter in /usr/local/lib/python3.7/dist-packages (from hyperas) (1.0.0)\n",
            "Requirement already satisfied: entrypoints in /usr/local/lib/python3.7/dist-packages (from hyperas) (0.4)\n",
            "Requirement already satisfied: nbformat in /usr/local/lib/python3.7/dist-packages (from hyperas) (5.3.0)\n",
            "Requirement already satisfied: pymongo in /usr/local/lib/python3.7/dist-packages (from hyperopt->hyperas) (4.1.1)\n",
            "Requirement already satisfied: future in /usr/local/lib/python3.7/dist-packages (from hyperopt->hyperas) (0.16.0)\n",
            "Requirement already satisfied: tqdm in /usr/local/lib/python3.7/dist-packages (from hyperopt->hyperas) (4.64.0)\n",
            "Requirement already satisfied: networkx in /usr/local/lib/python3.7/dist-packages (from hyperopt->hyperas) (2.6.3)\n",
            "Requirement already satisfied: six in /usr/local/lib/python3.7/dist-packages (from hyperopt->hyperas) (1.15.0)\n",
            "Requirement already satisfied: numpy in /usr/local/lib/python3.7/dist-packages (from hyperopt->hyperas) (1.21.6)\n",
            "Requirement already satisfied: scipy in /usr/local/lib/python3.7/dist-packages (from hyperopt->hyperas) (1.4.1)\n",
            "Requirement already satisfied: ipywidgets in /usr/local/lib/python3.7/dist-packages (from jupyter->hyperas) (7.7.0)\n",
            "Requirement already satisfied: jupyter-console in /usr/local/lib/python3.7/dist-packages (from jupyter->hyperas) (5.2.0)\n",
            "Requirement already satisfied: notebook in /usr/local/lib/python3.7/dist-packages (from jupyter->hyperas) (5.3.1)\n",
            "Requirement already satisfied: qtconsole in /usr/local/lib/python3.7/dist-packages (from jupyter->hyperas) (5.3.0)\n",
            "Requirement already satisfied: ipykernel in /usr/local/lib/python3.7/dist-packages (from jupyter->hyperas) (4.10.1)\n",
            "Requirement already satisfied: jupyter-client in /usr/local/lib/python3.7/dist-packages (from ipykernel->jupyter->hyperas) (5.3.5)\n",
            "Requirement already satisfied: ipython>=4.0.0 in /usr/local/lib/python3.7/dist-packages (from ipykernel->jupyter->hyperas) (5.5.0)\n",
            "Requirement already satisfied: traitlets>=4.1.0 in /usr/local/lib/python3.7/dist-packages (from ipykernel->jupyter->hyperas) (5.1.1)\n",
            "Requirement already satisfied: tornado>=4.0 in /usr/local/lib/python3.7/dist-packages (from ipykernel->jupyter->hyperas) (5.1.1)\n",
            "Requirement already satisfied: pexpect in /usr/local/lib/python3.7/dist-packages (from ipython>=4.0.0->ipykernel->jupyter->hyperas) (4.8.0)\n",
            "Requirement already satisfied: pygments in /usr/local/lib/python3.7/dist-packages (from ipython>=4.0.0->ipykernel->jupyter->hyperas) (2.6.1)\n",
            "Requirement already satisfied: pickleshare in /usr/local/lib/python3.7/dist-packages (from ipython>=4.0.0->ipykernel->jupyter->hyperas) (0.7.5)\n",
            "Requirement already satisfied: prompt-toolkit<2.0.0,>=1.0.4 in /usr/local/lib/python3.7/dist-packages (from ipython>=4.0.0->ipykernel->jupyter->hyperas) (1.0.18)\n",
            "Requirement already satisfied: simplegeneric>0.8 in /usr/local/lib/python3.7/dist-packages (from ipython>=4.0.0->ipykernel->jupyter->hyperas) (0.8.1)\n",
            "Requirement already satisfied: setuptools>=18.5 in /usr/local/lib/python3.7/dist-packages (from ipython>=4.0.0->ipykernel->jupyter->hyperas) (57.4.0)\n",
            "Requirement already satisfied: decorator in /usr/local/lib/python3.7/dist-packages (from ipython>=4.0.0->ipykernel->jupyter->hyperas) (4.4.2)\n",
            "Requirement already satisfied: wcwidth in /usr/local/lib/python3.7/dist-packages (from prompt-toolkit<2.0.0,>=1.0.4->ipython>=4.0.0->ipykernel->jupyter->hyperas) (0.2.5)\n",
            "Requirement already satisfied: jupyterlab-widgets>=1.0.0 in /usr/local/lib/python3.7/dist-packages (from ipywidgets->jupyter->hyperas) (1.1.0)\n",
            "Requirement already satisfied: ipython-genutils~=0.2.0 in /usr/local/lib/python3.7/dist-packages (from ipywidgets->jupyter->hyperas) (0.2.0)\n",
            "Requirement already satisfied: widgetsnbextension~=3.6.0 in /usr/local/lib/python3.7/dist-packages (from ipywidgets->jupyter->hyperas) (3.6.0)\n",
            "Requirement already satisfied: fastjsonschema in /usr/local/lib/python3.7/dist-packages (from nbformat->hyperas) (2.15.3)\n",
            "Requirement already satisfied: jupyter-core in /usr/local/lib/python3.7/dist-packages (from nbformat->hyperas) (4.9.2)\n",
            "Requirement already satisfied: jsonschema>=2.6 in /usr/local/lib/python3.7/dist-packages (from nbformat->hyperas) (4.3.3)\n",
            "Requirement already satisfied: attrs>=17.4.0 in /usr/local/lib/python3.7/dist-packages (from jsonschema>=2.6->nbformat->hyperas) (21.4.0)\n",
            "Requirement already satisfied: pyrsistent!=0.17.0,!=0.17.1,!=0.17.2,>=0.14.0 in /usr/local/lib/python3.7/dist-packages (from jsonschema>=2.6->nbformat->hyperas) (0.18.1)\n",
            "Requirement already satisfied: typing-extensions in /usr/local/lib/python3.7/dist-packages (from jsonschema>=2.6->nbformat->hyperas) (4.1.1)\n",
            "Requirement already satisfied: importlib-resources>=1.4.0 in /usr/local/lib/python3.7/dist-packages (from jsonschema>=2.6->nbformat->hyperas) (5.7.0)\n",
            "Requirement already satisfied: importlib-metadata in /usr/local/lib/python3.7/dist-packages (from jsonschema>=2.6->nbformat->hyperas) (4.11.3)\n",
            "Requirement already satisfied: zipp>=3.1.0 in /usr/local/lib/python3.7/dist-packages (from importlib-resources>=1.4.0->jsonschema>=2.6->nbformat->hyperas) (3.8.0)\n",
            "Requirement already satisfied: Send2Trash in /usr/local/lib/python3.7/dist-packages (from notebook->jupyter->hyperas) (1.8.0)\n",
            "Requirement already satisfied: terminado>=0.8.1 in /usr/local/lib/python3.7/dist-packages (from notebook->jupyter->hyperas) (0.13.3)\n",
            "Requirement already satisfied: jinja2 in /usr/local/lib/python3.7/dist-packages (from notebook->jupyter->hyperas) (2.11.3)\n",
            "Requirement already satisfied: pyzmq>=13 in /usr/local/lib/python3.7/dist-packages (from jupyter-client->ipykernel->jupyter->hyperas) (22.3.0)\n",
            "Requirement already satisfied: python-dateutil>=2.1 in /usr/local/lib/python3.7/dist-packages (from jupyter-client->ipykernel->jupyter->hyperas) (2.8.2)\n",
            "Requirement already satisfied: ptyprocess in /usr/local/lib/python3.7/dist-packages (from terminado>=0.8.1->notebook->jupyter->hyperas) (0.7.0)\n",
            "Requirement already satisfied: MarkupSafe>=0.23 in /usr/local/lib/python3.7/dist-packages (from jinja2->notebook->jupyter->hyperas) (2.0.1)\n",
            "Requirement already satisfied: mistune<2,>=0.8.1 in /usr/local/lib/python3.7/dist-packages (from nbconvert->hyperas) (0.8.4)\n",
            "Requirement already satisfied: pandocfilters>=1.4.1 in /usr/local/lib/python3.7/dist-packages (from nbconvert->hyperas) (1.5.0)\n",
            "Requirement already satisfied: bleach in /usr/local/lib/python3.7/dist-packages (from nbconvert->hyperas) (5.0.0)\n",
            "Requirement already satisfied: testpath in /usr/local/lib/python3.7/dist-packages (from nbconvert->hyperas) (0.6.0)\n",
            "Requirement already satisfied: defusedxml in /usr/local/lib/python3.7/dist-packages (from nbconvert->hyperas) (0.7.1)\n",
            "Requirement already satisfied: webencodings in /usr/local/lib/python3.7/dist-packages (from bleach->nbconvert->hyperas) (0.5.1)\n",
            "Requirement already satisfied: qtpy>=2.0.1 in /usr/local/lib/python3.7/dist-packages (from qtconsole->jupyter->hyperas) (2.0.1)\n",
            "Requirement already satisfied: packaging in /usr/local/lib/python3.7/dist-packages (from qtpy>=2.0.1->qtconsole->jupyter->hyperas) (21.3)\n",
            "Requirement already satisfied: pyparsing!=3.0.5,>=2.0.2 in /usr/local/lib/python3.7/dist-packages (from packaging->qtpy>=2.0.1->qtconsole->jupyter->hyperas) (3.0.8)\n",
            "Installing collected packages: hyperas\n",
            "Successfully installed hyperas-0.4.1\n"
          ]
        }
      ]
    },
    {
      "cell_type": "code",
      "source": [
        "import numpy as np\n",
        "import pandas as pd\n",
        "import matplotlib.pyplot as plt\n",
        "import os\n",
        "from tensorflow import keras\n",
        "from sklearn.model_selection import train_test_split\n",
        "from tensorflow.keras.utils import to_categorical\n",
        "from skimage.measure import block_reduce\n",
        "from scipy.signal import convolve2d\n",
        "from hyperopt import Trials, STATUS_OK, tpe\n",
        "from hyperas import optim\n",
        "from hyperas.distributions import choice, uniform"
      ],
      "metadata": {
        "id": "n6ydM1qwAmdQ"
      },
      "execution_count": null,
      "outputs": []
    },
    {
      "cell_type": "code",
      "source": [
        "training_data = pd.read_csv(\"fashion-mnist_train.csv\")\n",
        "test_data = pd.read_csv(\"fashion-mnist_test.csv\")"
      ],
      "metadata": {
        "id": "MKeCTEUwAmdQ"
      },
      "execution_count": null,
      "outputs": []
    },
    {
      "cell_type": "code",
      "source": [
        "test_data"
      ],
      "metadata": {
        "colab": {
          "base_uri": "https://localhost:8080/",
          "height": 424
        },
        "outputId": "f2317dc7-89b2-410a-8a99-b17d1f4331c6",
        "id": "6Pg6KzBFAmdQ"
      },
      "execution_count": null,
      "outputs": [
        {
          "output_type": "execute_result",
          "data": {
            "text/plain": [
              "      label  pixel1  pixel2  pixel3  pixel4  pixel5  pixel6  pixel7  pixel8  \\\n",
              "0         0       0       0       0       0       0       0       0       9   \n",
              "1         1       0       0       0       0       0       0       0       0   \n",
              "2         2       0       0       0       0       0       0      14      53   \n",
              "3         2       0       0       0       0       0       0       0       0   \n",
              "4         3       0       0       0       0       0       0       0       0   \n",
              "...     ...     ...     ...     ...     ...     ...     ...     ...     ...   \n",
              "9995      0       0       0       0       0       0       0       0       0   \n",
              "9996      6       0       0       0       0       0       0       0       0   \n",
              "9997      8       0       0       0       0       0       0       0       0   \n",
              "9998      8       0       1       3       0       0       0       0       0   \n",
              "9999      1       0       0       0       0       0       0       0     140   \n",
              "\n",
              "      pixel9  ...  pixel775  pixel776  pixel777  pixel778  pixel779  pixel780  \\\n",
              "0          8  ...       103        87        56         0         0         0   \n",
              "1          0  ...        34         0         0         0         0         0   \n",
              "2         99  ...         0         0         0         0        63        53   \n",
              "3          0  ...       137       126       140         0       133       224   \n",
              "4          0  ...         0         0         0         0         0         0   \n",
              "...      ...  ...       ...       ...       ...       ...       ...       ...   \n",
              "9995       0  ...        32        23        14        20         0         0   \n",
              "9996       0  ...         0         0         0         2        52        23   \n",
              "9997       0  ...       175       172       172       182       199       222   \n",
              "9998       0  ...         0         0         0         0         0         1   \n",
              "9999     119  ...       111        95        75        44         1         0   \n",
              "\n",
              "      pixel781  pixel782  pixel783  pixel784  \n",
              "0            0         0         0         0  \n",
              "1            0         0         0         0  \n",
              "2           31         0         0         0  \n",
              "3          222        56         0         0  \n",
              "4            0         0         0         0  \n",
              "...        ...       ...       ...       ...  \n",
              "9995         1         0         0         0  \n",
              "9996        28         0         0         0  \n",
              "9997        42         0         1         0  \n",
              "9998         0         0         0         0  \n",
              "9999         0         0         0         0  \n",
              "\n",
              "[10000 rows x 785 columns]"
            ],
            "text/html": [
              "\n",
              "  <div id=\"df-da4b8d50-a6fb-47c9-b6a2-585806bb4f2b\">\n",
              "    <div class=\"colab-df-container\">\n",
              "      <div>\n",
              "<style scoped>\n",
              "    .dataframe tbody tr th:only-of-type {\n",
              "        vertical-align: middle;\n",
              "    }\n",
              "\n",
              "    .dataframe tbody tr th {\n",
              "        vertical-align: top;\n",
              "    }\n",
              "\n",
              "    .dataframe thead th {\n",
              "        text-align: right;\n",
              "    }\n",
              "</style>\n",
              "<table border=\"1\" class=\"dataframe\">\n",
              "  <thead>\n",
              "    <tr style=\"text-align: right;\">\n",
              "      <th></th>\n",
              "      <th>label</th>\n",
              "      <th>pixel1</th>\n",
              "      <th>pixel2</th>\n",
              "      <th>pixel3</th>\n",
              "      <th>pixel4</th>\n",
              "      <th>pixel5</th>\n",
              "      <th>pixel6</th>\n",
              "      <th>pixel7</th>\n",
              "      <th>pixel8</th>\n",
              "      <th>pixel9</th>\n",
              "      <th>...</th>\n",
              "      <th>pixel775</th>\n",
              "      <th>pixel776</th>\n",
              "      <th>pixel777</th>\n",
              "      <th>pixel778</th>\n",
              "      <th>pixel779</th>\n",
              "      <th>pixel780</th>\n",
              "      <th>pixel781</th>\n",
              "      <th>pixel782</th>\n",
              "      <th>pixel783</th>\n",
              "      <th>pixel784</th>\n",
              "    </tr>\n",
              "  </thead>\n",
              "  <tbody>\n",
              "    <tr>\n",
              "      <th>0</th>\n",
              "      <td>0</td>\n",
              "      <td>0</td>\n",
              "      <td>0</td>\n",
              "      <td>0</td>\n",
              "      <td>0</td>\n",
              "      <td>0</td>\n",
              "      <td>0</td>\n",
              "      <td>0</td>\n",
              "      <td>9</td>\n",
              "      <td>8</td>\n",
              "      <td>...</td>\n",
              "      <td>103</td>\n",
              "      <td>87</td>\n",
              "      <td>56</td>\n",
              "      <td>0</td>\n",
              "      <td>0</td>\n",
              "      <td>0</td>\n",
              "      <td>0</td>\n",
              "      <td>0</td>\n",
              "      <td>0</td>\n",
              "      <td>0</td>\n",
              "    </tr>\n",
              "    <tr>\n",
              "      <th>1</th>\n",
              "      <td>1</td>\n",
              "      <td>0</td>\n",
              "      <td>0</td>\n",
              "      <td>0</td>\n",
              "      <td>0</td>\n",
              "      <td>0</td>\n",
              "      <td>0</td>\n",
              "      <td>0</td>\n",
              "      <td>0</td>\n",
              "      <td>0</td>\n",
              "      <td>...</td>\n",
              "      <td>34</td>\n",
              "      <td>0</td>\n",
              "      <td>0</td>\n",
              "      <td>0</td>\n",
              "      <td>0</td>\n",
              "      <td>0</td>\n",
              "      <td>0</td>\n",
              "      <td>0</td>\n",
              "      <td>0</td>\n",
              "      <td>0</td>\n",
              "    </tr>\n",
              "    <tr>\n",
              "      <th>2</th>\n",
              "      <td>2</td>\n",
              "      <td>0</td>\n",
              "      <td>0</td>\n",
              "      <td>0</td>\n",
              "      <td>0</td>\n",
              "      <td>0</td>\n",
              "      <td>0</td>\n",
              "      <td>14</td>\n",
              "      <td>53</td>\n",
              "      <td>99</td>\n",
              "      <td>...</td>\n",
              "      <td>0</td>\n",
              "      <td>0</td>\n",
              "      <td>0</td>\n",
              "      <td>0</td>\n",
              "      <td>63</td>\n",
              "      <td>53</td>\n",
              "      <td>31</td>\n",
              "      <td>0</td>\n",
              "      <td>0</td>\n",
              "      <td>0</td>\n",
              "    </tr>\n",
              "    <tr>\n",
              "      <th>3</th>\n",
              "      <td>2</td>\n",
              "      <td>0</td>\n",
              "      <td>0</td>\n",
              "      <td>0</td>\n",
              "      <td>0</td>\n",
              "      <td>0</td>\n",
              "      <td>0</td>\n",
              "      <td>0</td>\n",
              "      <td>0</td>\n",
              "      <td>0</td>\n",
              "      <td>...</td>\n",
              "      <td>137</td>\n",
              "      <td>126</td>\n",
              "      <td>140</td>\n",
              "      <td>0</td>\n",
              "      <td>133</td>\n",
              "      <td>224</td>\n",
              "      <td>222</td>\n",
              "      <td>56</td>\n",
              "      <td>0</td>\n",
              "      <td>0</td>\n",
              "    </tr>\n",
              "    <tr>\n",
              "      <th>4</th>\n",
              "      <td>3</td>\n",
              "      <td>0</td>\n",
              "      <td>0</td>\n",
              "      <td>0</td>\n",
              "      <td>0</td>\n",
              "      <td>0</td>\n",
              "      <td>0</td>\n",
              "      <td>0</td>\n",
              "      <td>0</td>\n",
              "      <td>0</td>\n",
              "      <td>...</td>\n",
              "      <td>0</td>\n",
              "      <td>0</td>\n",
              "      <td>0</td>\n",
              "      <td>0</td>\n",
              "      <td>0</td>\n",
              "      <td>0</td>\n",
              "      <td>0</td>\n",
              "      <td>0</td>\n",
              "      <td>0</td>\n",
              "      <td>0</td>\n",
              "    </tr>\n",
              "    <tr>\n",
              "      <th>...</th>\n",
              "      <td>...</td>\n",
              "      <td>...</td>\n",
              "      <td>...</td>\n",
              "      <td>...</td>\n",
              "      <td>...</td>\n",
              "      <td>...</td>\n",
              "      <td>...</td>\n",
              "      <td>...</td>\n",
              "      <td>...</td>\n",
              "      <td>...</td>\n",
              "      <td>...</td>\n",
              "      <td>...</td>\n",
              "      <td>...</td>\n",
              "      <td>...</td>\n",
              "      <td>...</td>\n",
              "      <td>...</td>\n",
              "      <td>...</td>\n",
              "      <td>...</td>\n",
              "      <td>...</td>\n",
              "      <td>...</td>\n",
              "      <td>...</td>\n",
              "    </tr>\n",
              "    <tr>\n",
              "      <th>9995</th>\n",
              "      <td>0</td>\n",
              "      <td>0</td>\n",
              "      <td>0</td>\n",
              "      <td>0</td>\n",
              "      <td>0</td>\n",
              "      <td>0</td>\n",
              "      <td>0</td>\n",
              "      <td>0</td>\n",
              "      <td>0</td>\n",
              "      <td>0</td>\n",
              "      <td>...</td>\n",
              "      <td>32</td>\n",
              "      <td>23</td>\n",
              "      <td>14</td>\n",
              "      <td>20</td>\n",
              "      <td>0</td>\n",
              "      <td>0</td>\n",
              "      <td>1</td>\n",
              "      <td>0</td>\n",
              "      <td>0</td>\n",
              "      <td>0</td>\n",
              "    </tr>\n",
              "    <tr>\n",
              "      <th>9996</th>\n",
              "      <td>6</td>\n",
              "      <td>0</td>\n",
              "      <td>0</td>\n",
              "      <td>0</td>\n",
              "      <td>0</td>\n",
              "      <td>0</td>\n",
              "      <td>0</td>\n",
              "      <td>0</td>\n",
              "      <td>0</td>\n",
              "      <td>0</td>\n",
              "      <td>...</td>\n",
              "      <td>0</td>\n",
              "      <td>0</td>\n",
              "      <td>0</td>\n",
              "      <td>2</td>\n",
              "      <td>52</td>\n",
              "      <td>23</td>\n",
              "      <td>28</td>\n",
              "      <td>0</td>\n",
              "      <td>0</td>\n",
              "      <td>0</td>\n",
              "    </tr>\n",
              "    <tr>\n",
              "      <th>9997</th>\n",
              "      <td>8</td>\n",
              "      <td>0</td>\n",
              "      <td>0</td>\n",
              "      <td>0</td>\n",
              "      <td>0</td>\n",
              "      <td>0</td>\n",
              "      <td>0</td>\n",
              "      <td>0</td>\n",
              "      <td>0</td>\n",
              "      <td>0</td>\n",
              "      <td>...</td>\n",
              "      <td>175</td>\n",
              "      <td>172</td>\n",
              "      <td>172</td>\n",
              "      <td>182</td>\n",
              "      <td>199</td>\n",
              "      <td>222</td>\n",
              "      <td>42</td>\n",
              "      <td>0</td>\n",
              "      <td>1</td>\n",
              "      <td>0</td>\n",
              "    </tr>\n",
              "    <tr>\n",
              "      <th>9998</th>\n",
              "      <td>8</td>\n",
              "      <td>0</td>\n",
              "      <td>1</td>\n",
              "      <td>3</td>\n",
              "      <td>0</td>\n",
              "      <td>0</td>\n",
              "      <td>0</td>\n",
              "      <td>0</td>\n",
              "      <td>0</td>\n",
              "      <td>0</td>\n",
              "      <td>...</td>\n",
              "      <td>0</td>\n",
              "      <td>0</td>\n",
              "      <td>0</td>\n",
              "      <td>0</td>\n",
              "      <td>0</td>\n",
              "      <td>1</td>\n",
              "      <td>0</td>\n",
              "      <td>0</td>\n",
              "      <td>0</td>\n",
              "      <td>0</td>\n",
              "    </tr>\n",
              "    <tr>\n",
              "      <th>9999</th>\n",
              "      <td>1</td>\n",
              "      <td>0</td>\n",
              "      <td>0</td>\n",
              "      <td>0</td>\n",
              "      <td>0</td>\n",
              "      <td>0</td>\n",
              "      <td>0</td>\n",
              "      <td>0</td>\n",
              "      <td>140</td>\n",
              "      <td>119</td>\n",
              "      <td>...</td>\n",
              "      <td>111</td>\n",
              "      <td>95</td>\n",
              "      <td>75</td>\n",
              "      <td>44</td>\n",
              "      <td>1</td>\n",
              "      <td>0</td>\n",
              "      <td>0</td>\n",
              "      <td>0</td>\n",
              "      <td>0</td>\n",
              "      <td>0</td>\n",
              "    </tr>\n",
              "  </tbody>\n",
              "</table>\n",
              "<p>10000 rows × 785 columns</p>\n",
              "</div>\n",
              "      <button class=\"colab-df-convert\" onclick=\"convertToInteractive('df-da4b8d50-a6fb-47c9-b6a2-585806bb4f2b')\"\n",
              "              title=\"Convert this dataframe to an interactive table.\"\n",
              "              style=\"display:none;\">\n",
              "        \n",
              "  <svg xmlns=\"http://www.w3.org/2000/svg\" height=\"24px\"viewBox=\"0 0 24 24\"\n",
              "       width=\"24px\">\n",
              "    <path d=\"M0 0h24v24H0V0z\" fill=\"none\"/>\n",
              "    <path d=\"M18.56 5.44l.94 2.06.94-2.06 2.06-.94-2.06-.94-.94-2.06-.94 2.06-2.06.94zm-11 1L8.5 8.5l.94-2.06 2.06-.94-2.06-.94L8.5 2.5l-.94 2.06-2.06.94zm10 10l.94 2.06.94-2.06 2.06-.94-2.06-.94-.94-2.06-.94 2.06-2.06.94z\"/><path d=\"M17.41 7.96l-1.37-1.37c-.4-.4-.92-.59-1.43-.59-.52 0-1.04.2-1.43.59L10.3 9.45l-7.72 7.72c-.78.78-.78 2.05 0 2.83L4 21.41c.39.39.9.59 1.41.59.51 0 1.02-.2 1.41-.59l7.78-7.78 2.81-2.81c.8-.78.8-2.07 0-2.86zM5.41 20L4 18.59l7.72-7.72 1.47 1.35L5.41 20z\"/>\n",
              "  </svg>\n",
              "      </button>\n",
              "      \n",
              "  <style>\n",
              "    .colab-df-container {\n",
              "      display:flex;\n",
              "      flex-wrap:wrap;\n",
              "      gap: 12px;\n",
              "    }\n",
              "\n",
              "    .colab-df-convert {\n",
              "      background-color: #E8F0FE;\n",
              "      border: none;\n",
              "      border-radius: 50%;\n",
              "      cursor: pointer;\n",
              "      display: none;\n",
              "      fill: #1967D2;\n",
              "      height: 32px;\n",
              "      padding: 0 0 0 0;\n",
              "      width: 32px;\n",
              "    }\n",
              "\n",
              "    .colab-df-convert:hover {\n",
              "      background-color: #E2EBFA;\n",
              "      box-shadow: 0px 1px 2px rgba(60, 64, 67, 0.3), 0px 1px 3px 1px rgba(60, 64, 67, 0.15);\n",
              "      fill: #174EA6;\n",
              "    }\n",
              "\n",
              "    [theme=dark] .colab-df-convert {\n",
              "      background-color: #3B4455;\n",
              "      fill: #D2E3FC;\n",
              "    }\n",
              "\n",
              "    [theme=dark] .colab-df-convert:hover {\n",
              "      background-color: #434B5C;\n",
              "      box-shadow: 0px 1px 3px 1px rgba(0, 0, 0, 0.15);\n",
              "      filter: drop-shadow(0px 1px 2px rgba(0, 0, 0, 0.3));\n",
              "      fill: #FFFFFF;\n",
              "    }\n",
              "  </style>\n",
              "\n",
              "      <script>\n",
              "        const buttonEl =\n",
              "          document.querySelector('#df-da4b8d50-a6fb-47c9-b6a2-585806bb4f2b button.colab-df-convert');\n",
              "        buttonEl.style.display =\n",
              "          google.colab.kernel.accessAllowed ? 'block' : 'none';\n",
              "\n",
              "        async function convertToInteractive(key) {\n",
              "          const element = document.querySelector('#df-da4b8d50-a6fb-47c9-b6a2-585806bb4f2b');\n",
              "          const dataTable =\n",
              "            await google.colab.kernel.invokeFunction('convertToInteractive',\n",
              "                                                     [key], {});\n",
              "          if (!dataTable) return;\n",
              "\n",
              "          const docLinkHtml = 'Like what you see? Visit the ' +\n",
              "            '<a target=\"_blank\" href=https://colab.research.google.com/notebooks/data_table.ipynb>data table notebook</a>'\n",
              "            + ' to learn more about interactive tables.';\n",
              "          element.innerHTML = '';\n",
              "          dataTable['output_type'] = 'display_data';\n",
              "          await google.colab.output.renderOutput(dataTable, element);\n",
              "          const docLink = document.createElement('div');\n",
              "          docLink.innerHTML = docLinkHtml;\n",
              "          element.appendChild(docLink);\n",
              "        }\n",
              "      </script>\n",
              "    </div>\n",
              "  </div>\n",
              "  "
            ]
          },
          "metadata": {},
          "execution_count": 14
        }
      ]
    },
    {
      "cell_type": "code",
      "source": [
        "print(training_data.shape)\n",
        "print(test_data.shape)"
      ],
      "metadata": {
        "colab": {
          "base_uri": "https://localhost:8080/"
        },
        "outputId": "9932c31f-c453-4bdf-9020-bd084aa88b95",
        "id": "S_71gbYgAmdQ"
      },
      "execution_count": null,
      "outputs": [
        {
          "output_type": "stream",
          "name": "stdout",
          "text": [
            "(60000, 785)\n",
            "(10000, 785)\n"
          ]
        }
      ]
    },
    {
      "cell_type": "code",
      "source": [
        "y = training_data['label']\n",
        "X = training_data.drop('label', axis = 1)"
      ],
      "metadata": {
        "id": "1FwrXYDhAmdQ"
      },
      "execution_count": null,
      "outputs": []
    },
    {
      "cell_type": "code",
      "source": [
        "(X_train, y_train) = X, y"
      ],
      "metadata": {
        "id": "0khIcur2AmdQ"
      },
      "execution_count": null,
      "outputs": []
    },
    {
      "cell_type": "code",
      "source": [
        "X_train = X_train.to_numpy()/255.\n",
        "X_train = X_train.reshape(-1, 28, 28)\n",
        "y_train = y_train.to_numpy()"
      ],
      "metadata": {
        "id": "vWlojKUdAmdR"
      },
      "execution_count": null,
      "outputs": []
    },
    {
      "cell_type": "code",
      "source": [
        "y = test_data['label']\n",
        "X = test_data.drop('label', axis = 1)"
      ],
      "metadata": {
        "id": "BX-SaYJhAmdR"
      },
      "execution_count": null,
      "outputs": []
    },
    {
      "cell_type": "code",
      "source": [
        "(X_test, y_test) = X, y"
      ],
      "metadata": {
        "id": "KDYXH5z2AmdR"
      },
      "execution_count": null,
      "outputs": []
    },
    {
      "cell_type": "code",
      "source": [
        "X_test = X_test.to_numpy()/255.\n",
        "X_test = X_test.reshape(-1, 28, 28)\n",
        "y_test = y_test.to_numpy()"
      ],
      "metadata": {
        "id": "HPtc5sYzAmdR"
      },
      "execution_count": null,
      "outputs": []
    },
    {
      "cell_type": "code",
      "source": [
        "## Let's split our training data into a validation set\n",
        "X_train, y_train, X_train_val, y_train_val = train_test_split(X_train, y_train, test_size = 0.2)"
      ],
      "metadata": {
        "id": "RNWWBNDXRSl4"
      },
      "execution_count": null,
      "outputs": []
    },
    {
      "cell_type": "markdown",
      "source": [
        "Let's visualize some of the images that we will be using for our Neural Network, to gain an intuition into the methods we could use."
      ],
      "metadata": {
        "id": "DwCPdFfkAmdR"
      }
    },
    {
      "cell_type": "code",
      "source": [
        "def plot_images_in_a_row(ims, color):    \n",
        "  'Takes a list/array of images and plots them spaced horizontally.'\n",
        "  _, axs = plt.subplots(1, len(ims), figsize = (20,5))\n",
        "  for im, ax in zip(ims, axs.ravel()):\n",
        "    ax.imshow(im, cmap = color)\n",
        "    ax.axis('off')"
      ],
      "metadata": {
        "id": "41uxXMfaAmdR"
      },
      "execution_count": null,
      "outputs": []
    },
    {
      "cell_type": "code",
      "source": [
        "plot_images_in_a_row(X_train[21:40], \"gray\")"
      ],
      "metadata": {
        "colab": {
          "base_uri": "https://localhost:8080/",
          "height": 80
        },
        "outputId": "74dec7de-7c9d-4610-e28a-7800816f76b8",
        "id": "AG39QbzvAmdR"
      },
      "execution_count": null,
      "outputs": [
        {
          "output_type": "display_data",
          "data": {
            "text/plain": [
              "<Figure size 1440x360 with 19 Axes>"
            ],
            "image/png": "[encoded data removed]"
          },
          "metadata": {
            "needs_background": "light"
          }
        }
      ]
    },
    {
      "cell_type": "markdown",
      "source": [
        "The images are of relatively small size (28, 28), thus the use of a convolutional neural net won't necessarily be maximizing the advantages of using kernels which is charactersitic of the CNN   "
      ],
      "metadata": {
        "id": "B6prRNFeAmdS"
      }
    },
    {
      "cell_type": "markdown",
      "source": [
        "## Section 2: \n",
        "\n",
        "Let's encode our y_train and y_test as a categorical vector of 0, 1 to facilitate the use of categorical variables training our CNN."
      ],
      "metadata": {
        "id": "h8XoJXLbhY5T"
      }
    },
    {
      "cell_type": "code",
      "source": [
        "y_train"
      ],
      "metadata": {
        "colab": {
          "base_uri": "https://localhost:8080/"
        },
        "outputId": "e3f969be-994e-466c-a1db-31d03ef9ec34",
        "id": "Qgbc96lVAmdS"
      },
      "execution_count": null,
      "outputs": [
        {
          "output_type": "execute_result",
          "data": {
            "text/plain": [
              "array([[[0.        , 0.        , 0.        , ..., 0.        ,\n",
              "         0.        , 0.        ],\n",
              "        [0.        , 0.        , 0.        , ..., 0.        ,\n",
              "         0.        , 0.        ],\n",
              "        [0.        , 0.        , 0.        , ..., 0.        ,\n",
              "         0.        , 0.        ],\n",
              "        ...,\n",
              "        [0.        , 0.        , 0.        , ..., 0.        ,\n",
              "         0.        , 0.        ],\n",
              "        [0.        , 0.        , 0.        , ..., 0.        ,\n",
              "         0.        , 0.        ],\n",
              "        [0.        , 0.        , 0.        , ..., 0.        ,\n",
              "         0.        , 0.        ]],\n",
              "\n",
              "       [[0.        , 0.        , 0.        , ..., 0.        ,\n",
              "         0.        , 0.        ],\n",
              "        [0.        , 0.        , 0.        , ..., 0.        ,\n",
              "         0.        , 0.        ],\n",
              "        [0.        , 0.        , 0.        , ..., 0.        ,\n",
              "         0.        , 0.        ],\n",
              "        ...,\n",
              "        [0.        , 0.        , 0.        , ..., 0.        ,\n",
              "         0.        , 0.        ],\n",
              "        [0.        , 0.        , 0.        , ..., 0.        ,\n",
              "         0.        , 0.        ],\n",
              "        [0.        , 0.        , 0.        , ..., 0.        ,\n",
              "         0.        , 0.        ]],\n",
              "\n",
              "       [[0.        , 0.        , 0.        , ..., 0.        ,\n",
              "         0.        , 0.        ],\n",
              "        [0.        , 0.        , 0.        , ..., 0.        ,\n",
              "         0.        , 0.        ],\n",
              "        [0.        , 0.        , 0.        , ..., 0.        ,\n",
              "         0.        , 0.        ],\n",
              "        ...,\n",
              "        [0.        , 0.        , 0.        , ..., 0.        ,\n",
              "         0.        , 0.        ],\n",
              "        [0.        , 0.        , 0.        , ..., 0.        ,\n",
              "         0.        , 0.        ],\n",
              "        [0.        , 0.        , 0.        , ..., 0.        ,\n",
              "         0.        , 0.        ]],\n",
              "\n",
              "       ...,\n",
              "\n",
              "       [[0.        , 0.        , 0.        , ..., 0.        ,\n",
              "         0.        , 0.        ],\n",
              "        [0.        , 0.        , 0.        , ..., 0.        ,\n",
              "         0.        , 0.        ],\n",
              "        [0.        , 0.        , 0.        , ..., 0.        ,\n",
              "         0.        , 0.        ],\n",
              "        ...,\n",
              "        [0.        , 0.        , 0.        , ..., 0.        ,\n",
              "         0.        , 0.        ],\n",
              "        [0.        , 0.        , 0.        , ..., 0.        ,\n",
              "         0.        , 0.        ],\n",
              "        [0.        , 0.        , 0.        , ..., 0.        ,\n",
              "         0.        , 0.        ]],\n",
              "\n",
              "       [[0.        , 0.        , 0.        , ..., 0.        ,\n",
              "         0.        , 0.        ],\n",
              "        [0.        , 0.        , 0.        , ..., 0.        ,\n",
              "         0.        , 0.        ],\n",
              "        [0.        , 0.        , 0.        , ..., 0.        ,\n",
              "         0.        , 0.        ],\n",
              "        ...,\n",
              "        [0.        , 0.        , 0.        , ..., 0.        ,\n",
              "         0.        , 0.        ],\n",
              "        [0.        , 0.        , 0.        , ..., 0.        ,\n",
              "         0.        , 0.        ],\n",
              "        [0.        , 0.        , 0.        , ..., 0.        ,\n",
              "         0.        , 0.        ]],\n",
              "\n",
              "       [[0.        , 0.        , 0.        , ..., 0.        ,\n",
              "         0.00784314, 0.        ],\n",
              "        [0.        , 0.        , 0.        , ..., 0.        ,\n",
              "         0.        , 0.        ],\n",
              "        [0.        , 0.        , 0.01568627, ..., 0.        ,\n",
              "         0.        , 0.        ],\n",
              "        ...,\n",
              "        [0.        , 0.        , 0.01568627, ..., 0.03529412,\n",
              "         0.        , 0.01176471],\n",
              "        [0.        , 0.        , 0.        , ..., 0.        ,\n",
              "         0.        , 0.        ],\n",
              "        [0.        , 0.        , 0.        , ..., 0.00392157,\n",
              "         0.00392157, 0.        ]]])"
            ]
          },
          "metadata": {},
          "execution_count": 27
        }
      ]
    },
    {
      "cell_type": "code",
      "source": [
        "y_train_cat = keras.utils.to_categorical(y_train)\n",
        "y_train_cat = keras.utils.to_categorical(y_train_val)\n",
        "y_test_cat = keras.utils.to_categorical(y_test)"
      ],
      "metadata": {
        "id": "3DyVQ1luAmdS"
      },
      "execution_count": null,
      "outputs": []
    },
    {
      "cell_type": "code",
      "source": [
        "print(y_train[0], y_train_cat[0], np.argmax(y_train_cat[0]))"
      ],
      "metadata": {
        "colab": {
          "base_uri": "https://localhost:8080/"
        },
        "outputId": "7cc0a186-a7a1-4977-b694-2bbca586c4f2",
        "id": "kn9DyYaGAmdS"
      },
      "execution_count": null,
      "outputs": [
        {
          "output_type": "stream",
          "name": "stdout",
          "text": [
            "[[0.         0.         0.         0.         0.         0.\n",
            "  0.         0.         0.         0.09019608 0.58823529 0.68627451\n",
            "  0.10588235 0.         0.         0.15294118 0.82745098 0.65490196\n",
            "  0.16470588 0.         0.         0.         0.         0.\n",
            "  0.         0.         0.         0.        ]\n",
            " [0.         0.         0.         0.         0.         0.\n",
            "  0.         0.         0.         0.80392157 0.89411765 0.78823529\n",
            "  0.59607843 0.65098039 0.70980392 0.57647059 0.73333333 0.88627451\n",
            "  0.80784314 0.         0.         0.         0.         0.\n",
            "  0.         0.         0.         0.        ]\n",
            " [0.         0.         0.         0.         0.         0.\n",
            "  0.         0.         0.23137255 0.89411765 0.81176471 0.8\n",
            "  0.67843137 0.70588235 0.46666667 0.54117647 0.76470588 0.82352941\n",
            "  0.87058824 0.19607843 0.         0.         0.         0.\n",
            "  0.         0.         0.         0.        ]\n",
            " [0.         0.         0.         0.         0.         0.\n",
            "  0.         0.         0.5254902  0.87058824 0.88627451 0.85490196\n",
            "  0.78823529 0.76862745 0.59215686 0.70980392 0.89803922 0.88235294\n",
            "  0.87058824 0.41568627 0.         0.         0.         0.\n",
            "  0.         0.         0.         0.        ]\n",
            " [0.         0.         0.         0.         0.         0.\n",
            "  0.         0.         0.65098039 0.82352941 0.91764706 0.97254902\n",
            "  0.97647059 0.95294118 0.97254902 0.98823529 0.94117647 0.90980392\n",
            "  0.82352941 0.57647059 0.         0.         0.         0.\n",
            "  0.         0.         0.         0.        ]\n",
            " [0.         0.         0.         0.         0.         0.\n",
            "  0.         0.         0.80784314 0.89019608 0.9372549  0.9372549\n",
            "  0.92941176 0.93333333 0.92941176 0.92156863 0.94117647 0.93333333\n",
            "  0.90588235 0.75294118 0.         0.         0.         0.\n",
            "  0.         0.         0.         0.        ]\n",
            " [0.         0.         0.         0.         0.         0.\n",
            "  0.         0.         0.90196078 0.89019608 0.94117647 0.93333333\n",
            "  0.94509804 0.92156863 0.91764706 0.92156863 0.94509804 0.9254902\n",
            "  0.87843137 0.84705882 0.         0.         0.         0.\n",
            "  0.         0.         0.         0.        ]\n",
            " [0.         0.         0.         0.         0.         0.\n",
            "  0.         0.03137255 0.99607843 0.78039216 0.9254902  0.95294118\n",
            "  0.91764706 0.9254902  0.91764706 0.91372549 0.98431373 0.84705882\n",
            "  0.78431373 0.96862745 0.         0.         0.         0.\n",
            "  0.         0.         0.         0.        ]\n",
            " [0.         0.         0.         0.         0.         0.\n",
            "  0.         0.08627451 1.         0.56862745 0.75686275 0.99607843\n",
            "  0.90196078 0.92941176 0.9254902  0.89803922 1.         0.58039216\n",
            "  0.6        0.99607843 0.01176471 0.         0.         0.\n",
            "  0.         0.         0.         0.        ]\n",
            " [0.         0.         0.         0.         0.         0.\n",
            "  0.         0.18823529 1.         0.3372549  0.55686275 1.\n",
            "  0.89019608 0.93333333 0.92156863 0.88235294 1.         0.39215686\n",
            "  0.42352941 1.         0.08235294 0.         0.         0.\n",
            "  0.         0.         0.         0.        ]\n",
            " [0.         0.         0.         0.         0.         0.\n",
            "  0.         0.3372549  1.         0.22352941 0.43137255 1.\n",
            "  0.87843137 0.92941176 0.92156863 0.88235294 1.         0.23529412\n",
            "  0.37254902 1.         0.22352941 0.         0.         0.\n",
            "  0.         0.         0.         0.        ]\n",
            " [0.         0.         0.         0.         0.         0.\n",
            "  0.         0.40392157 1.         0.10588235 0.49803922 1.\n",
            "  0.88627451 0.92156863 0.91764706 0.88627451 1.         0.3372549\n",
            "  0.24313725 0.97647059 0.29411765 0.         0.         0.\n",
            "  0.         0.         0.         0.        ]\n",
            " [0.         0.         0.         0.         0.         0.\n",
            "  0.         0.58039216 1.         0.00784314 0.71764706 1.\n",
            "  0.89411765 0.92156863 0.92156863 0.89411765 1.         0.59215686\n",
            "  0.16078431 0.95294118 0.50588235 0.         0.         0.\n",
            "  0.         0.         0.         0.        ]\n",
            " [0.         0.         0.         0.         0.         0.\n",
            "  0.         0.69803922 1.         0.11372549 0.9372549  0.94509804\n",
            "  0.9254902  0.9254902  0.9254902  0.90588235 0.95686275 0.89019608\n",
            "  0.13333333 1.         0.57647059 0.         0.         0.\n",
            "  0.         0.         0.         0.        ]\n",
            " [0.         0.         0.         0.         0.         0.\n",
            "  0.         0.20784314 0.22352941 0.23529412 1.         0.91372549\n",
            "  0.91764706 0.9254902  0.9254902  0.9254902  0.92941176 1.\n",
            "  0.07058824 0.05490196 0.01960784 0.         0.         0.\n",
            "  0.         0.         0.         0.        ]\n",
            " [0.         0.         0.         0.         0.         0.\n",
            "  0.         0.         0.         0.17647059 0.98039216 0.91764706\n",
            "  0.9254902  0.92941176 0.9254902  0.92156863 0.92156863 1.\n",
            "  0.08627451 0.         0.         0.         0.         0.\n",
            "  0.         0.         0.         0.        ]\n",
            " [0.         0.         0.         0.         0.         0.\n",
            "  0.         0.02352941 0.         0.36470588 0.98823529 0.91372549\n",
            "  0.92156863 0.92941176 0.9254902  0.92156863 0.91372549 0.97254902\n",
            "  0.19215686 0.         0.01960784 0.         0.         0.\n",
            "  0.         0.         0.         0.        ]\n",
            " [0.         0.         0.         0.         0.         0.\n",
            "  0.         0.01176471 0.         0.43137255 0.98823529 0.91372549\n",
            "  0.92156863 0.92941176 0.9254902  0.9254902  0.90980392 0.97647059\n",
            "  0.21960784 0.         0.01568627 0.         0.         0.\n",
            "  0.         0.         0.         0.        ]\n",
            " [0.         0.         0.         0.         0.         0.\n",
            "  0.         0.00784314 0.         0.42745098 0.98823529 0.91372549\n",
            "  0.92941176 0.92941176 0.9254902  0.92941176 0.91372549 0.98431373\n",
            "  0.23137255 0.         0.01568627 0.         0.         0.\n",
            "  0.         0.         0.         0.        ]\n",
            " [0.         0.         0.         0.         0.         0.\n",
            "  0.         0.00784314 0.         0.43137255 0.98823529 0.90980392\n",
            "  0.92941176 0.92941176 0.9254902  0.93333333 0.91372549 0.98431373\n",
            "  0.22745098 0.         0.01568627 0.         0.         0.\n",
            "  0.         0.         0.         0.        ]\n",
            " [0.         0.         0.         0.         0.         0.\n",
            "  0.         0.00784314 0.         0.41568627 0.98823529 0.91764706\n",
            "  0.9372549  0.92941176 0.9254902  0.92941176 0.90980392 0.98431373\n",
            "  0.22352941 0.         0.01568627 0.         0.         0.\n",
            "  0.         0.         0.         0.        ]\n",
            " [0.         0.         0.         0.         0.         0.\n",
            "  0.         0.01176471 0.         0.37647059 0.99215686 0.92156863\n",
            "  0.94117647 0.92941176 0.9254902  0.93333333 0.92156863 0.98039216\n",
            "  0.19215686 0.         0.01568627 0.         0.         0.\n",
            "  0.         0.         0.         0.        ]\n",
            " [0.         0.         0.         0.         0.         0.\n",
            "  0.         0.01568627 0.         0.34117647 0.99607843 0.92156863\n",
            "  0.94509804 0.92941176 0.9254902  0.9372549  0.93333333 0.97647059\n",
            "  0.15294118 0.         0.01568627 0.         0.         0.\n",
            "  0.         0.         0.         0.        ]\n",
            " [0.         0.         0.         0.         0.         0.\n",
            "  0.         0.01568627 0.         0.30980392 0.99607843 0.92156863\n",
            "  0.94509804 0.9372549  0.92941176 0.9372549  0.9372549  0.95686275\n",
            "  0.12156863 0.         0.00784314 0.         0.         0.\n",
            "  0.         0.         0.         0.        ]\n",
            " [0.         0.         0.         0.         0.         0.\n",
            "  0.         0.01568627 0.         0.22745098 0.99607843 0.92941176\n",
            "  0.94117647 0.9372549  0.92941176 0.93333333 0.9372549  0.9254902\n",
            "  0.02745098 0.         0.00784314 0.         0.         0.\n",
            "  0.         0.         0.         0.        ]\n",
            " [0.         0.         0.         0.         0.         0.\n",
            "  0.         0.01960784 0.         0.22745098 0.99607843 0.94117647\n",
            "  0.94901961 0.94117647 0.9372549  0.92941176 0.97254902 0.91764706\n",
            "  0.         0.         0.00392157 0.         0.         0.\n",
            "  0.         0.         0.         0.        ]\n",
            " [0.         0.         0.         0.         0.         0.\n",
            "  0.         0.01960784 0.         0.24705882 0.97254902 0.92941176\n",
            "  0.95294118 1.         1.         0.96078431 0.90980392 0.85882353\n",
            "  0.01960784 0.         0.00784314 0.         0.         0.\n",
            "  0.         0.         0.         0.        ]\n",
            " [0.         0.         0.         0.         0.         0.\n",
            "  0.         0.         0.         0.         0.27843137 0.36470588\n",
            "  0.37254902 0.41960784 0.43529412 0.45490196 0.28627451 0.25882353\n",
            "  0.         0.         0.00392157 0.         0.         0.\n",
            "  0.         0.         0.         0.        ]] [0. 0. 0. 1. 0. 0. 0. 0. 0. 0.] 3\n"
          ]
        }
      ]
    },
    {
      "cell_type": "markdown",
      "source": [
        "## Section 3:\n",
        "\n",
        "Convolutions Overview\n",
        "\n",
        "Let's go over some of the most important convolutions, to understand as to how best approach our CNN\n",
        "\n",
        "Let's review quickly some intuitive interpretations of the relevant definitions for our CNN\n",
        "- Kernel: A nxm matrix that is slid over our image. The operation of the kernel with the image is a multiplication, in which each value in our new image is a sum of the element-wise multiplication of every pixel in our kernel with the underlying pixel that it is being applied to.\n",
        "- Filter: A filter is a concatentation of kernels of the form nxmxd, where d is the kernel specified to channel (in the case of RGB, there d would 3)\n",
        "  - In the case of applying a filter across 3 channels, the RGB values would be summed to produce one final output image\n",
        "  - In the case of our image data, we don't have to worry about the use of filters as we're only dealing with channel (grayscale)\n",
        "\n",
        "Notes for convolutions in our CNN\n",
        "- Add padding to the original image to allow for the kernel to slide over the boundaries of our image.\n",
        "- On pooling methods:\n",
        "  - Max pooling: Take the maximum of the pixels in that channel. \n",
        "    - Useful for when we have images that need brightening, as it takes the brightest pixel in that kernel (highest pixel value) and assigns that value to the value in the output image\n",
        "  - Min pooling: Takes the minimum of the pixels in that channel.\n",
        "    - Useful for when we have images that need darkening, as it takes the darkest image in that kernel (lowest pixel value) and assigns that value to the value in the output image\n",
        "  - Average pooling: Takes the average of the pixels in that kernel in that channel\n",
        "    - Useful for smoothing the edges of a image, Takes the average of the pixels in that kernel (average of the pixel values) and assigns that value to the value in the output image \n",
        "\n",
        "Let's list our convolutions:\n",
        "- Ridge4\n",
        "- Ridge8\n",
        "- Sharpening \n",
        "- Edge Detection"
      ],
      "metadata": {
        "id": "K2_Wn-vNAmdS"
      }
    },
    {
      "cell_type": "markdown",
      "source": [
        "## Section 4: \n",
        "\n",
        "Let's apply some of those convolutions to gain a better intuition into the operations being performed in our CNN"
      ],
      "metadata": {
        "id": "dce8zO_biSm5"
      }
    },
    {
      "cell_type": "code",
      "source": [
        "X_train[0].shape"
      ],
      "metadata": {
        "colab": {
          "base_uri": "https://localhost:8080/"
        },
        "outputId": "2fabb895-869e-4057-cd0f-d85234e5a51c",
        "id": "zGNo5h0hAmdT"
      },
      "execution_count": null,
      "outputs": [
        {
          "output_type": "execute_result",
          "data": {
            "text/plain": [
              "(28, 28)"
            ]
          },
          "metadata": {},
          "execution_count": 30
        }
      ]
    },
    {
      "cell_type": "code",
      "source": [
        "im = X_train[0]\n",
        "plt.imshow(im, cmap = 'gray')"
      ],
      "metadata": {
        "colab": {
          "base_uri": "https://localhost:8080/",
          "height": 282
        },
        "outputId": "2d9d1766-b6ca-4900-8933-573041e267eb",
        "id": "SAQOqlw6AmdT"
      },
      "execution_count": null,
      "outputs": [
        {
          "output_type": "execute_result",
          "data": {
            "text/plain": [
              "<matplotlib.image.AxesImage at 0x7fa4412d2890>"
            ]
          },
          "metadata": {},
          "execution_count": 31
        },
        {
          "output_type": "display_data",
          "data": {
            "text/plain": [
              "<Figure size 432x288 with 1 Axes>"
            ],
            "image/png": "[encoded data removed]"
          },
          "metadata": {
            "needs_background": "light"
          }
        }
      ]
    },
    {
      "cell_type": "markdown",
      "source": [
        "Something I learned \n",
        "- np.array(...) allows you return the entire subset of the specified indices\n"
      ],
      "metadata": {
        "id": "Xlx-6itAAmdT"
      }
    },
    {
      "cell_type": "code",
      "source": [
        "def convolve_single_channel(im, m):\n",
        "  im_conv = im.copy()  \n",
        "  im_conv[...] = convolve2d(im_conv[...], m, mode = 'same')\n",
        "  return im_conv\n",
        "\n",
        "## Since our images are of grayscale, we don't need to use convolve_and_merge as \n",
        "## only applies to mulit-channel images\n",
        "def convolve_and_merge(im, m):\n",
        "  return convolve_single_channel(im, m).sum(axis = -1)"
      ],
      "metadata": {
        "id": "dDLB1Y3dAmdT"
      },
      "execution_count": null,
      "outputs": []
    },
    {
      "cell_type": "code",
      "source": [
        "## These were our original convolutions, used to find edges yet they don't work as well \n",
        "## as we'd like them to\n",
        "m_ridge4 = np.array([[0.,-1,0],\n",
        "                    [-1,4,-1],\n",
        "                    [0,-1,0]]) \n",
        "\n",
        "m_ridge8 = np.array([[-1.,-1,-1],\n",
        "                    [-1,8,-1],\n",
        "                    [-1,-1,-1]]) \n",
        "\n",
        "m_sharpen = np.array([[0.,-1,0],\n",
        "                    [-1,5,-1],\n",
        "                    [0,-1,0]]) \n",
        "\n",
        "## Let's add some other convolutions to see how we can better extract the features necessary for our CNN\n",
        "m_edge_1 = np.array([[-1, -2, -1],\n",
        "                     [0,0,0],\n",
        "                     [1,2,1]])\n",
        "\n",
        "m_edge_2 = np.array([[ -1, 0, 1], \n",
        "                   [ 0, 0, 0], \n",
        "                   [ 1, 2, 1]])\n",
        "\n",
        "\n",
        "## Here we change our blur size so we don't overpower the blur relative to our picture size\n",
        "blur_size = 3\n",
        "m_blur = np.ones((blur_size,blur_size))/blur_size**2\n",
        "\n",
        "## Let's add a deconvolution (tranposed convolution) to see how the image will look with greater dimensions\n"
      ],
      "metadata": {
        "id": "2AntuzJqAmdT"
      },
      "execution_count": null,
      "outputs": []
    },
    {
      "cell_type": "code",
      "source": [
        "## Here we perform some convolutions for images that in our grayscale\n",
        "images = np.array([])\n",
        "\n",
        "for m in [m_ridge4, m_ridge8, m_sharpen, m_blur, m_edge_1, m_edge_2]:\n",
        "  ims = convolve_single_channel(im, m)\n",
        "  print(np.sum(np.abs(ims - im)))\n",
        "  plt.imshow(ims, cmap = 'gray')\n",
        "  plt.show()"
      ],
      "metadata": {
        "colab": {
          "base_uri": "https://localhost:8080/",
          "height": 1000
        },
        "outputId": "6002c2d1-00c8-4f21-9543-7715138af64a",
        "id": "GRALgATgAmdU"
      },
      "execution_count": null,
      "outputs": [
        {
          "output_type": "stream",
          "name": "stdout",
          "text": [
            "271.48627450980393\n"
          ]
        },
        {
          "output_type": "display_data",
          "data": {
            "text/plain": [
              "<Figure size 432x288 with 1 Axes>"
            ],
            "image/png": "[encoded data removed]"
          },
          "metadata": {
            "needs_background": "light"
          }
        },
        {
          "output_type": "stream",
          "name": "stdout",
          "text": [
            "443.43921568627445\n"
          ]
        },
        {
          "output_type": "display_data",
          "data": {
            "text/plain": [
              "<Figure size 432x288 with 1 Axes>"
            ],
            "image/png": "[encoded data removed]"
          },
          "metadata": {
            "needs_background": "light"
          }
        },
        {
          "output_type": "stream",
          "name": "stdout",
          "text": [
            "165.02352941176468\n"
          ]
        },
        {
          "output_type": "display_data",
          "data": {
            "text/plain": [
              "<Figure size 432x288 with 1 Axes>"
            ],
            "image/png": "[encoded data removed]"
          },
          "metadata": {
            "needs_background": "light"
          }
        },
        {
          "output_type": "stream",
          "name": "stdout",
          "text": [
            "47.78082788671024\n"
          ]
        },
        {
          "output_type": "display_data",
          "data": {
            "text/plain": [
              "<Figure size 432x288 with 1 Axes>"
            ],
            "image/png": "[encoded data removed]"
          },
          "metadata": {
            "needs_background": "light"
          }
        },
        {
          "output_type": "stream",
          "name": "stdout",
          "text": [
            "467.2941176470588\n"
          ]
        },
        {
          "output_type": "display_data",
          "data": {
            "text/plain": [
              "<Figure size 432x288 with 1 Axes>"
            ],
            "image/png": "[encoded data removed]"
          },
          "metadata": {
            "needs_background": "light"
          }
        },
        {
          "output_type": "stream",
          "name": "stdout",
          "text": [
            "791.2941176470588\n"
          ]
        },
        {
          "output_type": "display_data",
          "data": {
            "text/plain": [
              "<Figure size 432x288 with 1 Axes>"
            ],
            "image/png": "[encoded data removed]"
          },
          "metadata": {
            "needs_background": "light"
          }
        }
      ]
    },
    {
      "cell_type": "code",
      "source": [
        "## Let's perform an upsampling convolution using a sequential model (only way to upsample)\n",
        "im_up = im.copy()\n",
        "print(im_up.shape)\n",
        "im_up = im_up.reshape(1, 28, 28, 1)\n",
        "print(im_up.shape)"
      ],
      "metadata": {
        "colab": {
          "base_uri": "https://localhost:8080/"
        },
        "outputId": "147f2592-8149-4532-fc76-7a4c7b1f1a8a",
        "id": "9QeuynaJAmdU"
      },
      "execution_count": null,
      "outputs": [
        {
          "output_type": "stream",
          "name": "stdout",
          "text": [
            "(28, 28)\n",
            "(1, 28, 28, 1)\n"
          ]
        }
      ]
    },
    {
      "cell_type": "code",
      "source": [
        "model = keras.models.Sequential()\n",
        "model.add(keras.layers.UpSampling2D(input_shape = (28, 28, 1)))\n",
        "model.summary()"
      ],
      "metadata": {
        "colab": {
          "base_uri": "https://localhost:8080/"
        },
        "outputId": "bfc50979-1468-4641-a1b5-848d3cb06863",
        "id": "Cxa7dM1PAmdU"
      },
      "execution_count": null,
      "outputs": [
        {
          "output_type": "stream",
          "name": "stdout",
          "text": [
            "Model: \"sequential\"\n",
            "_________________________________________________________________\n",
            " Layer (type)                Output Shape              Param #   \n",
            "=================================================================\n",
            " up_sampling2d (UpSampling2D  (None, 56, 56, 1)        0         \n",
            " )                                                               \n",
            "                                                                 \n",
            "=================================================================\n",
            "Total params: 0\n",
            "Trainable params: 0\n",
            "Non-trainable params: 0\n",
            "_________________________________________________________________\n"
          ]
        }
      ]
    },
    {
      "cell_type": "code",
      "source": [
        "y_hat_conv = model.predict(im_up)"
      ],
      "metadata": {
        "id": "B2TkJOPlAmdU"
      },
      "execution_count": null,
      "outputs": []
    },
    {
      "cell_type": "code",
      "source": [
        "y_hat_conv = y_hat_conv.reshape(56, 56)"
      ],
      "metadata": {
        "id": "wYxPegH0AmdU"
      },
      "execution_count": null,
      "outputs": []
    },
    {
      "cell_type": "code",
      "source": [
        "plt.imshow(y_hat_conv, cmap = 'gray')\n",
        "plt.show()\n",
        "plt.imshow(im, cmap = 'gray')\n",
        "plt.show()"
      ],
      "metadata": {
        "colab": {
          "base_uri": "https://localhost:8080/",
          "height": 515
        },
        "outputId": "9fc6f7f5-e190-474a-cf27-c1151399e0a6",
        "id": "DXe6P9R3AmdU"
      },
      "execution_count": null,
      "outputs": [
        {
          "output_type": "display_data",
          "data": {
            "text/plain": [
              "<Figure size 432x288 with 1 Axes>"
            ],
            "image/png": "[encoded data removed]"
          },
          "metadata": {
            "needs_background": "light"
          }
        },
        {
          "output_type": "display_data",
          "data": {
            "text/plain": [
              "<Figure size 432x288 with 1 Axes>"
            ],
            "image/png": "[encoded data removed]"
          },
          "metadata": {
            "needs_background": "light"
          }
        }
      ]
    },
    {
      "cell_type": "markdown",
      "source": [
        "## Section 5:\n",
        "\n",
        "Let's build a simple CNN using hyperas, a package used to optimize hyperparameters"
      ],
      "metadata": {
        "id": "ZqG7abwphMxr"
      }
    },
    {
      "cell_type": "code",
      "source": [
        "def data(X_train, y_train, X_train_val, y_train_val):\n",
        "  X_train = X_train\n",
        "  y_train = y_train \n",
        "  X_train_val = X_train_val\n",
        "  y_train_val = y_train_val\n",
        "  return X_train, y_train, X_train_val, y_train_val"
      ],
      "metadata": {
        "id": "53x1moWQnsl7"
      },
      "execution_count": null,
      "outputs": []
    },
    {
      "cell_type": "code",
      "source": [
        "def data2():\n",
        "    from keras.datasets import fashion_mnist\n",
        "    (X_train, y_train), (X_test, y_test) = fashion_mnist.load_data()\n",
        "    X_train, X_train_val, y_train, y_train_val = train_test_split(X_train, y_train, test_size=0.2)\n",
        "    X_train = X_train.reshape(-1, 784)\n",
        "    X_train_val = X_train_val.reshape(-1, 784)\n",
        "    X_train = X_train.astype('float32')\n",
        "    X_train_val = X_train_val.astype('float32')\n",
        "    X_train /= 255.\n",
        "    X_train_val /= 255.\n",
        "    y_train = keras.utils.to_categorical(y_train)\n",
        "    y_train_val = keras.utils.to_categorical(y_train_val)\n",
        "    return X_train, y_train, X_train_val, y_train_val"
      ],
      "metadata": {
        "id": "nX3sPWLQ3o1a"
      },
      "execution_count": null,
      "outputs": []
    },
    {
      "cell_type": "code",
      "source": [
        "def create_model(X_train, y_train, X_train_val, y_train_val): \n",
        "  ## Let's create a model instance called \"model\" of the Sequential \n",
        "  model = keras.models.Sequential()\n",
        "  model.add(keras.layers.Dense({{choice([128, 256, 512, 1024])}}, input_shape=(784, )))\n",
        "  model.add(keras.layers.Activation({{choice(['relu', 'sigmoid'])}}))\n",
        "\n",
        "  adam = keras.optimizers.Adam(lr={{choice([10**-3, 10**-2, 10**-1])}})\n",
        "  rmsprop = keras.optimizers.RMSprop(lr={{choice([10**-3, 10**-2, 10**-1])}})\n",
        "  sgd = keras.optimizers.SGD(lr={{choice([10**-3, 10**-2, 10**-1])}})\n",
        "\n",
        "  choiceval = {{choice(['adam', 'sgd', 'rmsprop'])}}\n",
        "  if choiceval == 'adam':\n",
        "      optim = adam\n",
        "  elif choiceval == 'rmsprop':\n",
        "      optim = rmsprop\n",
        "  else:\n",
        "      optim = sgd\n",
        "\n",
        "  model.add(keras.layers.Dense(10))\n",
        "  model.add(keras.layers.Activation('softmax'))\n",
        "      \n",
        "  model.compile(loss='categorical_crossentropy', metrics=['accuracy'],optimizer=optim)\n",
        "\n",
        "  model.fit(X_train, y_train,\n",
        "              batch_size={{choice([128,256,512])}},\n",
        "              epochs=5,\n",
        "              verbose=2,\n",
        "              validation_data=(X_train_val, y_train_val))\n",
        "  score, acc = model.evaluate(X_train_val, y_train_val, verbose=0)\n",
        "  print('Test accuracy:', acc)\n",
        "  return {'loss': -acc, 'status': STATUS_OK, 'model': model}"
      ],
      "metadata": {
        "id": "QVEeNaEiAmdV"
      },
      "execution_count": null,
      "outputs": []
    },
    {
      "cell_type": "code",
      "source": [
        "notebook_name = os.path.join('..','gdrive','My Drive','Colab Notebooks','Fashion-MNIST')\n",
        "\n",
        "\n",
        "best_run, best_model = optim.minimize(model=create_model,\n",
        "                                      data=data2,\n",
        "                                      algo=tpe.suggest,\n",
        "                                      max_evals=30,\n",
        "                                      trials=Trials(), notebook_name = notebook_name)"
      ],
      "metadata": {
        "colab": {
          "base_uri": "https://localhost:8080/"
        },
        "id": "kjwFmWixZXYe",
        "outputId": "304fde4d-f037-49bf-f714-597111347d20"
      },
      "execution_count": null,
      "outputs": [
        {
          "output_type": "stream",
          "name": "stdout",
          "text": [
            ">>> Imports:\n",
            "#coding=utf-8\n",
            "\n",
            "try:\n",
            "    import numpy as np\n",
            "except:\n",
            "    pass\n",
            "\n",
            "try:\n",
            "    import pandas as pd\n",
            "except:\n",
            "    pass\n",
            "\n",
            "try:\n",
            "    import matplotlib.pyplot as plt\n",
            "except:\n",
            "    pass\n",
            "\n",
            "try:\n",
            "    from tensorflow import keras\n",
            "except:\n",
            "    pass\n",
            "\n",
            "try:\n",
            "    from sklearn.model_selection import train_test_split\n",
            "except:\n",
            "    pass\n",
            "\n",
            "try:\n",
            "    from tensorflow.keras.utils import to_categorical\n",
            "except:\n",
            "    pass\n",
            "\n",
            "try:\n",
            "    from skimage.measure import block_reduce\n",
            "except:\n",
            "    pass\n",
            "\n",
            "try:\n",
            "    from scipy.signal import convolve2d\n",
            "except:\n",
            "    pass\n",
            "\n",
            ">>> Hyperas search space:\n",
            "\n",
            "def get_space():\n",
            "    return {\n",
            "        'Dense': hp.choice('Dense', [128, 256, 512, 1024]),\n",
            "        'Activation': hp.choice('Activation', ['relu', 'sigmoid']),\n",
            "        'lr': hp.choice('lr', [10**-3, 10**-2, 10**-1]),\n",
            "        'lr_1': hp.choice('lr_1', [10**-3, 10**-2, 10**-1]),\n",
            "        'lr_2': hp.choice('lr_2', [10**-3, 10**-2, 10**-1]),\n",
            "        'choiceval': hp.choice('choiceval', ['adam', 'sgd', 'rmsprop']),\n",
            "        'batch_size': hp.choice('batch_size', [128,256,512]),\n",
            "    }\n",
            "\n",
            ">>> Data\n",
            "  1: \n",
            "  2: from keras.datasets import fashion_mnist\n",
            "  3: (X_train, y_train), (X_test, y_test) = fashion_mnist.load_data()\n",
            "  4: X_train, X_train_val, y_train, y_train_val = train_test_split(X_train, y_train, test_size=0.2)\n",
            "  5: X_train = X_train.reshape(-1, 784)\n",
            "  6: X_train_val = X_train_val.reshape(-1, 784)\n",
            "  7: X_train = X_train.astype('float32')\n",
            "  8: X_train_val = X_train_val.astype('float32')\n",
            "  9: X_train /= 255.\n",
            " 10: X_train_val /= 255.\n",
            " 11: y_train = keras.utils.to_categorical(y_train)\n",
            " 12: y_train_val = keras.utils.to_categorical(y_train_val)\n",
            " 13: \n",
            " 14: \n",
            " 15: \n",
            ">>> Resulting replaced keras model:\n",
            "\n",
            "   1: def keras_fmin_fnct(space):\n",
            "   2: \n",
            "   3:   ## Let's create a model instance called \"model\" of the Sequential \n",
            "   4:   model = keras.models.Sequential()\n",
            "   5:   model.add(keras.layers.Dense(space['Dense'], input_shape=(784, )))\n",
            "   6:   model.add(keras.layers.Activation(space['Activation']))\n",
            "   7: \n",
            "   8:   adam = keras.optimizers.Adam(lr=space['lr'])\n",
            "   9:   rmsprop = keras.optimizers.RMSprop(lr=space['lr_1'])\n",
            "  10:   sgd = keras.optimizers.SGD(lr=space['lr_2'])\n",
            "  11: \n",
            "  12:   choiceval = space['choiceval']\n",
            "  13:   if choiceval == 'adam':\n",
            "  14:       optim = adam\n",
            "  15:   elif choiceval == 'rmsprop':\n",
            "  16:       optim = rmsprop\n",
            "  17:   else:\n",
            "  18:       optim = sgd\n",
            "  19: \n",
            "  20:   model.add(keras.layers.Dense(10))\n",
            "  21:   model.add(keras.layers.Activation('softmax'))\n",
            "  22:       \n",
            "  23:   model.compile(loss='categorical_crossentropy', metrics=['accuracy'],optimizer=optim)\n",
            "  24: \n",
            "  25:   model.fit(X_train, y_train,\n",
            "  26:               batch_size=space['batch_size'],\n",
            "  27:               epochs=5,\n",
            "  28:               verbose=2,\n",
            "  29:               validation_data=(X_train_val, y_train_val))\n",
            "  30:   score, acc = model.evaluate(X_train_val, y_train_val, verbose=0)\n",
            "  31:   print('Test accuracy:', acc)\n",
            "  32:   return {'loss': -acc, 'status': STATUS_OK, 'model': model}\n",
            "  33: \n",
            "Epoch 1/5\n",
            "\n",
            "  0%|          | 0/30 [00:00<?, ?it/s, best loss: ?]"
          ]
        },
        {
          "output_type": "stream",
          "name": "stderr",
          "text": [
            "/usr/local/lib/python3.7/dist-packages/keras/optimizer_v2/adam.py:105: UserWarning: The `lr` argument is deprecated, use `learning_rate` instead.\n",
            "  super(Adam, self).__init__(name, **kwargs)\n",
            "\n",
            "/usr/local/lib/python3.7/dist-packages/keras/optimizer_v2/rmsprop.py:130: UserWarning: The `lr` argument is deprecated, use `learning_rate` instead.\n",
            "  super(RMSprop, self).__init__(name, **kwargs)\n",
            "\n",
            "/usr/local/lib/python3.7/dist-packages/keras/optimizer_v2/gradient_descent.py:102: UserWarning: The `lr` argument is deprecated, use `learning_rate` instead.\n",
            "  super(SGD, self).__init__(name, **kwargs)\n",
            "\n"
          ]
        },
        {
          "output_type": "stream",
          "name": "stdout",
          "text": [
            "188/188 - 3s - loss: 0.7212 - accuracy: 0.7439 - val_loss: 0.5620 - val_accuracy: 0.7947 - 3s/epoch - 14ms/step\n",
            "\n",
            "Epoch 2/5\n",
            "\n",
            "188/188 - 2s - loss: 0.4528 - accuracy: 0.8312 - val_loss: 0.4249 - val_accuracy: 0.8491 - 2s/epoch - 9ms/step\n",
            "\n",
            "Epoch 3/5\n",
            "\n",
            "188/188 - 2s - loss: 0.3972 - accuracy: 0.8513 - val_loss: 0.3972 - val_accuracy: 0.8558 - 2s/epoch - 9ms/step\n",
            "\n",
            "Epoch 4/5\n",
            "\n",
            "188/188 - 2s - loss: 0.3619 - accuracy: 0.8653 - val_loss: 0.4318 - val_accuracy: 0.8457 - 2s/epoch - 9ms/step\n",
            "\n",
            "Epoch 5/5\n",
            "\n",
            "188/188 - 2s - loss: 0.3435 - accuracy: 0.8730 - val_loss: 0.3695 - val_accuracy: 0.8674 - 2s/epoch - 9ms/step\n",
            "\n",
            "Test accuracy:\n",
            "0.8674166798591614\n",
            "Epoch 1/5\n",
            "\n",
            "94/94 - 2s - loss: 0.6909 - accuracy: 0.7706 - val_loss: 0.4477 - val_accuracy: 0.8415 - 2s/epoch - 18ms/step\n",
            "\n",
            "Epoch 2/5\n",
            "\n",
            "94/94 - 1s - loss: 0.3998 - accuracy: 0.8572 - val_loss: 0.4104 - val_accuracy: 0.8482 - 1s/epoch - 12ms/step\n",
            "\n",
            "Epoch 3/5\n",
            "\n",
            "94/94 - 1s - loss: 0.3522 - accuracy: 0.8739 - val_loss: 0.3831 - val_accuracy: 0.8588 - 1s/epoch - 13ms/step\n",
            "\n",
            "Epoch 4/5\n",
            "\n",
            "94/94 - 1s - loss: 0.3339 - accuracy: 0.8770 - val_loss: 0.3613 - val_accuracy: 0.8712 - 1s/epoch - 12ms/step\n",
            "\n",
            "Epoch 5/5\n",
            "\n",
            "94/94 - 1s - loss: 0.3134 - accuracy: 0.8857 - val_loss: 0.3373 - val_accuracy: 0.8807 - 1s/epoch - 12ms/step\n",
            "\n",
            "Test accuracy:\n",
            "0.8806666731834412\n",
            "Epoch 1/5\n",
            "\n",
            "188/188 - 5s - loss: 12.6396 - accuracy: 0.6290 - val_loss: 0.7176 - val_accuracy: 0.7469 - 5s/epoch - 25ms/step\n",
            "\n",
            "Epoch 2/5\n",
            "\n",
            "188/188 - 4s - loss: 0.6338 - accuracy: 0.7763 - val_loss: 0.7329 - val_accuracy: 0.7677 - 4s/epoch - 21ms/step\n",
            "\n",
            "Epoch 3/5\n",
            "\n",
            "188/188 - 4s - loss: 0.6359 - accuracy: 0.7775 - val_loss: 0.6015 - val_accuracy: 0.7953 - 4s/epoch - 21ms/step\n",
            "\n",
            "Epoch 4/5\n",
            "\n",
            "188/188 - 4s - loss: 0.5755 - accuracy: 0.7974 - val_loss: 0.6573 - val_accuracy: 0.7781 - 4s/epoch - 21ms/step\n",
            "\n",
            "Epoch 5/5\n",
            "\n",
            "188/188 - 4s - loss: 0.5831 - accuracy: 0.8019 - val_loss: 0.6246 - val_accuracy: 0.7768 - 4s/epoch - 21ms/step\n",
            "\n",
            "Test accuracy:\n",
            "0.7768333554267883\n",
            "Epoch 1/5\n",
            "\n",
            "94/94 - 4s - loss: 1.5185 - accuracy: 0.5900 - val_loss: 1.1263 - val_accuracy: 0.6762 - 4s/epoch - 41ms/step\n",
            "\n",
            "Epoch 2/5\n",
            "\n",
            "94/94 - 3s - loss: 0.9974 - accuracy: 0.6985 - val_loss: 0.9049 - val_accuracy: 0.7132 - 3s/epoch - 36ms/step\n",
            "\n",
            "Epoch 3/5\n",
            "\n",
            "94/94 - 3s - loss: 0.8486 - accuracy: 0.7348 - val_loss: 0.8084 - val_accuracy: 0.7433 - 3s/epoch - 36ms/step\n",
            "\n",
            "Epoch 4/5\n",
            "\n",
            "94/94 - 3s - loss: 0.7713 - accuracy: 0.7588 - val_loss: 0.7489 - val_accuracy: 0.7642 - 3s/epoch - 36ms/step\n",
            "\n",
            "Epoch 5/5\n",
            "\n",
            "94/94 - 3s - loss: 0.7210 - accuracy: 0.7742 - val_loss: 0.7067 - val_accuracy: 0.7762 - 3s/epoch - 36ms/step\n",
            "\n",
            "Test accuracy:\n",
            "0.7761666774749756\n",
            "Epoch 1/5\n",
            "\n",
            "94/94 - 4s - loss: 2.2126 - accuracy: 0.2451 - val_loss: 2.0542 - val_accuracy: 0.3253 - 4s/epoch - 41ms/step\n",
            "\n",
            "Epoch 2/5\n",
            "\n",
            "94/94 - 4s - loss: 1.9463 - accuracy: 0.4031 - val_loss: 1.8470 - val_accuracy: 0.4728 - 4s/epoch - 42ms/step\n",
            "\n",
            "Epoch 3/5\n",
            "\n",
            "94/94 - 3s - loss: 1.7649 - accuracy: 0.5231 - val_loss: 1.6865 - val_accuracy: 0.5686 - 3s/epoch - 36ms/step\n",
            "\n",
            "Epoch 4/5\n",
            "\n",
            "94/94 - 3s - loss: 1.6212 - accuracy: 0.5941 - val_loss: 1.5581 - val_accuracy: 0.6154 - 3s/epoch - 36ms/step\n",
            "\n",
            "Epoch 5/5\n",
            "\n",
            "94/94 - 3s - loss: 1.5055 - accuracy: 0.6269 - val_loss: 1.4543 - val_accuracy: 0.6373 - 3s/epoch - 35ms/step\n",
            "\n",
            "Test accuracy:\n",
            "0.6372500061988831\n",
            "Epoch 1/5\n",
            "\n",
            "375/375 - 3s - loss: 2.8651 - accuracy: 0.5394 - val_loss: 1.1218 - val_accuracy: 0.6693 - 3s/epoch - 8ms/step\n",
            "\n",
            "Epoch 2/5\n",
            "\n",
            "375/375 - 2s - loss: 1.3531 - accuracy: 0.6786 - val_loss: 1.4674 - val_accuracy: 0.6656 - 2s/epoch - 6ms/step\n",
            "\n",
            "Epoch 3/5\n",
            "\n",
            "375/375 - 2s - loss: 1.3742 - accuracy: 0.6980 - val_loss: 1.6885 - val_accuracy: 0.6975 - 2s/epoch - 6ms/step\n",
            "\n",
            "Epoch 4/5\n",
            "\n",
            "375/375 - 2s - loss: 1.4672 - accuracy: 0.7087 - val_loss: 2.3162 - val_accuracy: 0.6432 - 2s/epoch - 6ms/step\n",
            "\n",
            "Epoch 5/5\n",
            "\n",
            "375/375 - 2s - loss: 1.5787 - accuracy: 0.7188 - val_loss: 1.8332 - val_accuracy: 0.6702 - 2s/epoch - 6ms/step\n",
            "\n",
            "Test accuracy:\n",
            "0.6701666712760925\n",
            "Epoch 1/5\n",
            "\n",
            "375/375 - 3s - loss: 0.6342 - accuracy: 0.7832 - val_loss: 0.4867 - val_accuracy: 0.8275 - 3s/epoch - 8ms/step\n",
            "\n",
            "Epoch 2/5\n",
            "\n",
            "375/375 - 2s - loss: 0.4390 - accuracy: 0.8431 - val_loss: 0.4223 - val_accuracy: 0.8466 - 2s/epoch - 6ms/step\n",
            "\n",
            "Epoch 3/5\n",
            "\n",
            "375/375 - 2s - loss: 0.4005 - accuracy: 0.8544 - val_loss: 0.4085 - val_accuracy: 0.8530 - 2s/epoch - 6ms/step\n",
            "\n",
            "Epoch 4/5\n",
            "\n",
            "375/375 - 2s - loss: 0.3749 - accuracy: 0.8655 - val_loss: 0.4014 - val_accuracy: 0.8517 - 2s/epoch - 6ms/step\n",
            "\n",
            "Epoch 5/5\n",
            "\n",
            "375/375 - 2s - loss: 0.3558 - accuracy: 0.8705 - val_loss: 0.3920 - val_accuracy: 0.8540 - 2s/epoch - 7ms/step\n",
            "\n",
            "Test accuracy:\n",
            "0.8539999723434448\n",
            "Epoch 1/5\n",
            "\n",
            "94/94 - 2s - loss: 0.8159 - accuracy: 0.7089 - val_loss: 0.5856 - val_accuracy: 0.7848 - 2s/epoch - 16ms/step\n",
            "\n",
            "Epoch 2/5\n",
            "\n",
            "94/94 - 1s - loss: 0.5054 - accuracy: 0.8106 - val_loss: 0.5825 - val_accuracy: 0.7993 - 858ms/epoch - 9ms/step\n",
            "\n",
            "Epoch 3/5\n",
            "\n",
            "94/94 - 1s - loss: 0.4405 - accuracy: 0.8327 - val_loss: 0.4435 - val_accuracy: 0.8353 - 834ms/epoch - 9ms/step\n",
            "\n",
            "Epoch 4/5\n",
            "\n",
            "94/94 - 1s - loss: 0.4033 - accuracy: 0.8494 - val_loss: 0.3860 - val_accuracy: 0.8598 - 887ms/epoch - 9ms/step\n",
            "\n",
            "Epoch 5/5\n",
            "\n",
            "94/94 - 1s - loss: 0.3728 - accuracy: 0.8596 - val_loss: 0.4146 - val_accuracy: 0.8436 - 842ms/epoch - 9ms/step\n",
            "\n",
            "Test accuracy:\n",
            "0.843583345413208\n",
            "Epoch 1/5\n",
            "\n",
            "94/94 - 2s - loss: 2.2402 - accuracy: 0.1551 - val_loss: 2.1154 - val_accuracy: 0.2537 - 2s/epoch - 17ms/step\n",
            "\n",
            "Epoch 2/5\n",
            "\n",
            "94/94 - 1s - loss: 2.0203 - accuracy: 0.3479 - val_loss: 1.9289 - val_accuracy: 0.4351 - 1s/epoch - 12ms/step\n",
            "\n",
            "Epoch 3/5\n",
            "\n",
            "94/94 - 1s - loss: 1.8521 - accuracy: 0.5043 - val_loss: 1.7770 - val_accuracy: 0.5487 - 1s/epoch - 12ms/step\n",
            "\n",
            "Epoch 4/5\n",
            "\n",
            "94/94 - 1s - loss: 1.7132 - accuracy: 0.5809 - val_loss: 1.6506 - val_accuracy: 0.5939 - 1s/epoch - 12ms/step\n",
            "\n",
            "Epoch 5/5\n",
            "\n",
            "94/94 - 1s - loss: 1.5976 - accuracy: 0.6104 - val_loss: 1.5455 - val_accuracy: 0.6177 - 1s/epoch - 12ms/step\n",
            "\n",
            "Test accuracy:\n",
            "0.6176666617393494\n",
            "Epoch 1/5\n",
            "\n",
            "94/94 - 1s - loss: 0.7316 - accuracy: 0.7617 - val_loss: 0.4572 - val_accuracy: 0.8386 - 1s/epoch - 14ms/step\n",
            "\n",
            "Epoch 2/5\n",
            "\n",
            "94/94 - 1s - loss: 0.4183 - accuracy: 0.8530 - val_loss: 0.4108 - val_accuracy: 0.8552 - 771ms/epoch - 8ms/step\n",
            "\n",
            "Epoch 3/5\n",
            "\n",
            "94/94 - 1s - loss: 0.3851 - accuracy: 0.8627 - val_loss: 0.3865 - val_accuracy: 0.8648 - 764ms/epoch - 8ms/step\n",
            "\n",
            "Epoch 4/5\n",
            "\n",
            "94/94 - 1s - loss: 0.3525 - accuracy: 0.8737 - val_loss: 0.3821 - val_accuracy: 0.8652 - 767ms/epoch - 8ms/step\n",
            "\n",
            "Epoch 5/5\n",
            "\n",
            "94/94 - 1s - loss: 0.3413 - accuracy: 0.8765 - val_loss: 0.3889 - val_accuracy: 0.8574 - 763ms/epoch - 8ms/step\n",
            "\n",
            "Test accuracy:\n",
            "0.8574166893959045\n",
            "Epoch 1/5\n",
            "\n",
            "188/188 - 5s - loss: 10.8714 - accuracy: 0.6271 - val_loss: 0.7153 - val_accuracy: 0.7331 - 5s/epoch - 25ms/step\n",
            "\n",
            "Epoch 2/5\n",
            "\n",
            "188/188 - 4s - loss: 0.7032 - accuracy: 0.7389 - val_loss: 0.6794 - val_accuracy: 0.7352 - 4s/epoch - 22ms/step\n",
            "\n",
            "Epoch 3/5\n",
            "\n",
            "188/188 - 5s - loss: 0.6882 - accuracy: 0.7463 - val_loss: 0.6899 - val_accuracy: 0.7260 - 5s/epoch - 27ms/step\n",
            "\n",
            "Epoch 4/5\n",
            "\n",
            "188/188 - 4s - loss: 0.7018 - accuracy: 0.7464 - val_loss: 0.6816 - val_accuracy: 0.7603 - 4s/epoch - 22ms/step\n",
            "\n",
            "Epoch 5/5\n",
            "\n",
            "188/188 - 4s - loss: 0.6656 - accuracy: 0.7588 - val_loss: 0.8282 - val_accuracy: 0.7491 - 4s/epoch - 22ms/step\n",
            "\n",
            "Test accuracy:\n",
            "0.7490833401679993\n",
            "Epoch 1/5\n",
            "\n",
            "188/188 - 3s - loss: 0.7143 - accuracy: 0.7518 - val_loss: 0.5092 - val_accuracy: 0.8164 - 3s/epoch - 17ms/step\n",
            "\n",
            "Epoch 2/5\n",
            "\n",
            "188/188 - 3s - loss: 0.4797 - accuracy: 0.8269 - val_loss: 0.4761 - val_accuracy: 0.8282 - 3s/epoch - 14ms/step\n",
            "\n",
            "Epoch 3/5\n",
            "\n",
            "188/188 - 3s - loss: 0.4334 - accuracy: 0.8429 - val_loss: 0.4851 - val_accuracy: 0.8170 - 3s/epoch - 14ms/step\n",
            "\n",
            "Epoch 4/5\n",
            "\n",
            "188/188 - 3s - loss: 0.4059 - accuracy: 0.8530 - val_loss: 0.4202 - val_accuracy: 0.8471 - 3s/epoch - 14ms/step\n",
            "\n",
            "Epoch 5/5\n",
            "\n",
            "188/188 - 3s - loss: 0.3841 - accuracy: 0.8605 - val_loss: 0.4404 - val_accuracy: 0.8344 - 3s/epoch - 14ms/step\n",
            "\n",
            "Test accuracy:\n",
            "0.8344166874885559\n",
            "Epoch 1/5\n",
            "\n",
            "188/188 - 2s - loss: 4.0443 - accuracy: 0.5588 - val_loss: 0.8498 - val_accuracy: 0.6532 - 2s/epoch - 11ms/step\n",
            "\n",
            "Epoch 2/5\n",
            "\n",
            "188/188 - 1s - loss: 0.7988 - accuracy: 0.6708 - val_loss: 0.7672 - val_accuracy: 0.6973 - 1s/epoch - 8ms/step\n",
            "\n",
            "Epoch 3/5\n",
            "\n",
            "188/188 - 1s - loss: 0.7431 - accuracy: 0.6967 - val_loss: 0.7294 - val_accuracy: 0.7039 - 1s/epoch - 8ms/step\n",
            "\n",
            "Epoch 4/5\n",
            "\n",
            "188/188 - 2s - loss: 0.7029 - accuracy: 0.7206 - val_loss: 0.7311 - val_accuracy: 0.7225 - 2s/epoch - 8ms/step\n",
            "\n",
            "Epoch 5/5\n",
            "\n",
            "188/188 - 1s - loss: 0.7417 - accuracy: 0.7203 - val_loss: 0.7595 - val_accuracy: 0.7289 - 1s/epoch - 8ms/step\n",
            "\n",
            "Test accuracy:\n",
            "0.7289166450500488\n",
            "Epoch 1/5\n",
            "\n",
            "94/94 - 2s - loss: 2.3290 - accuracy: 0.1056 - val_loss: 2.2646 - val_accuracy: 0.1353 - 2s/epoch - 24ms/step\n",
            "\n",
            "Epoch 2/5\n",
            "\n",
            "94/94 - 2s - loss: 2.2385 - accuracy: 0.2197 - val_loss: 2.2164 - val_accuracy: 0.3211 - 2s/epoch - 20ms/step\n",
            "\n",
            "Epoch 3/5\n",
            "\n",
            "94/94 - 2s - loss: 2.1984 - accuracy: 0.3773 - val_loss: 2.1810 - val_accuracy: 0.4243 - 2s/epoch - 20ms/step\n",
            "\n",
            "Epoch 4/5\n",
            "\n",
            "94/94 - 2s - loss: 2.1639 - accuracy: 0.4432 - val_loss: 2.1476 - val_accuracy: 0.4672 - 2s/epoch - 20ms/step\n",
            "\n",
            "Epoch 5/5\n",
            "\n",
            "94/94 - 2s - loss: 2.1309 - accuracy: 0.4811 - val_loss: 2.1153 - val_accuracy: 0.4942 - 2s/epoch - 20ms/step\n",
            "\n",
            "Test accuracy:\n",
            "0.49424999952316284\n",
            "Epoch 1/5\n",
            "\n",
            "188/188 - 2s - loss: 1.3531 - accuracy: 0.6136 - val_loss: 0.9663 - val_accuracy: 0.7082 - 2s/epoch - 10ms/step\n",
            "\n",
            "Epoch 2/5\n",
            "\n",
            "188/188 - 1s - loss: 0.8577 - accuracy: 0.7352 - val_loss: 0.7851 - val_accuracy: 0.7517 - 1s/epoch - 8ms/step\n",
            "\n",
            "Epoch 3/5\n",
            "\n",
            "188/188 - 2s - loss: 0.7380 - accuracy: 0.7655 - val_loss: 0.7051 - val_accuracy: 0.7760 - 2s/epoch - 8ms/step\n",
            "\n",
            "Epoch 4/5\n",
            "\n",
            "188/188 - 1s - loss: 0.6750 - accuracy: 0.7850 - val_loss: 0.6586 - val_accuracy: 0.7845 - 1s/epoch - 8ms/step\n",
            "\n",
            "Epoch 5/5\n",
            "\n",
            "188/188 - 1s - loss: 0.6334 - accuracy: 0.7968 - val_loss: 0.6216 - val_accuracy: 0.7943 - 1s/epoch - 8ms/step\n",
            "\n",
            "Test accuracy:\n",
            "0.7943333387374878\n",
            "Epoch 1/5\n",
            "\n",
            "375/375 - 3s - loss: 1.1310 - accuracy: 0.6461 - val_loss: 0.8113 - val_accuracy: 0.7329 - 3s/epoch - 8ms/step\n",
            "\n",
            "Epoch 2/5\n",
            "\n",
            "375/375 - 2s - loss: 0.7275 - accuracy: 0.7637 - val_loss: 0.6783 - val_accuracy: 0.7773 - 2s/epoch - 6ms/step\n",
            "\n",
            "Epoch 3/5\n",
            "\n",
            "375/375 - 2s - loss: 0.6339 - accuracy: 0.7942 - val_loss: 0.6102 - val_accuracy: 0.7993 - 2s/epoch - 5ms/step\n",
            "\n",
            "Epoch 4/5\n",
            "\n",
            "375/375 - 2s - loss: 0.5836 - accuracy: 0.8109 - val_loss: 0.5726 - val_accuracy: 0.8082 - 2s/epoch - 5ms/step\n",
            "\n",
            "Epoch 5/5\n",
            "\n",
            "375/375 - 2s - loss: 0.5508 - accuracy: 0.8191 - val_loss: 0.5470 - val_accuracy: 0.8149 - 2s/epoch - 5ms/step\n",
            "\n",
            "Test accuracy:\n",
            "0.8149166703224182\n",
            "Epoch 1/5\n",
            "\n",
            "375/375 - 2s - loss: 1.9095 - accuracy: 0.5389 - val_loss: 1.5829 - val_accuracy: 0.6692 - 2s/epoch - 5ms/step\n",
            "\n",
            "Epoch 2/5\n",
            "\n",
            "375/375 - 2s - loss: 1.3842 - accuracy: 0.6908 - val_loss: 1.2289 - val_accuracy: 0.7015 - 2s/epoch - 4ms/step\n",
            "\n",
            "Epoch 3/5\n",
            "\n",
            "375/375 - 2s - loss: 1.1260 - accuracy: 0.7180 - val_loss: 1.0447 - val_accuracy: 0.7197 - 2s/epoch - 5ms/step\n",
            "\n",
            "Epoch 4/5\n",
            "\n",
            "375/375 - 1s - loss: 0.9827 - accuracy: 0.7303 - val_loss: 0.9351 - val_accuracy: 0.7291 - 1s/epoch - 4ms/step\n",
            "\n",
            "Epoch 5/5\n",
            "\n",
            "375/375 - 2s - loss: 0.8926 - accuracy: 0.7396 - val_loss: 0.8628 - val_accuracy: 0.7384 - 2s/epoch - 4ms/step\n",
            "\n",
            "Test accuracy:\n",
            "0.7384166717529297\n",
            "Epoch 1/5\n",
            "\n",
            "188/188 - 2s - loss: 0.8112 - accuracy: 0.7510 - val_loss: 0.5547 - val_accuracy: 0.8016 - 2s/epoch - 9ms/step\n",
            "\n",
            "Epoch 2/5\n",
            "\n",
            "188/188 - 1s - loss: 0.4887 - accuracy: 0.8310 - val_loss: 0.4697 - val_accuracy: 0.8280 - 1s/epoch - 6ms/step\n",
            "\n",
            "Epoch 3/5\n",
            "\n",
            "188/188 - 1s - loss: 0.4345 - accuracy: 0.8461 - val_loss: 0.4908 - val_accuracy: 0.8129 - 1s/epoch - 6ms/step\n",
            "\n",
            "Epoch 4/5\n",
            "\n",
            "188/188 - 1s - loss: 0.4070 - accuracy: 0.8546 - val_loss: 0.4163 - val_accuracy: 0.8502 - 1s/epoch - 6ms/step\n",
            "\n",
            "Epoch 5/5\n",
            "\n",
            "188/188 - 1s - loss: 0.3882 - accuracy: 0.8610 - val_loss: 0.3999 - val_accuracy: 0.8568 - 1s/epoch - 7ms/step\n",
            "\n",
            "Test accuracy:\n",
            "0.8567500114440918\n",
            "Epoch 1/5\n",
            "\n",
            "94/94 - 2s - loss: 2.4870 - accuracy: 0.0967 - val_loss: 2.3641 - val_accuracy: 0.1029 - 2s/epoch - 17ms/step\n",
            "\n",
            "Epoch 2/5\n",
            "\n",
            "94/94 - 1s - loss: 2.3182 - accuracy: 0.1219 - val_loss: 2.2816 - val_accuracy: 0.1502 - 1s/epoch - 12ms/step\n",
            "\n",
            "Epoch 3/5\n",
            "\n",
            "94/94 - 1s - loss: 2.2592 - accuracy: 0.1743 - val_loss: 2.2394 - val_accuracy: 0.2085 - 1s/epoch - 12ms/step\n",
            "\n",
            "Epoch 4/5\n",
            "\n",
            "94/94 - 1s - loss: 2.2227 - accuracy: 0.2293 - val_loss: 2.2077 - val_accuracy: 0.2558 - 1s/epoch - 12ms/step\n",
            "\n",
            "Epoch 5/5\n",
            "\n",
            "94/94 - 1s - loss: 2.1928 - accuracy: 0.2799 - val_loss: 2.1794 - val_accuracy: 0.3030 - 1s/epoch - 12ms/step\n",
            "\n",
            "Test accuracy:\n",
            "0.30300000309944153\n",
            "Epoch 1/5\n",
            "\n",
            "188/188 - 3s - loss: 0.6864 - accuracy: 0.7740 - val_loss: 0.5033 - val_accuracy: 0.8191 - 3s/epoch - 15ms/step\n",
            "\n",
            "Epoch 2/5\n",
            "\n",
            "188/188 - 2s - loss: 0.4622 - accuracy: 0.8375 - val_loss: 0.4540 - val_accuracy: 0.8382 - 2s/epoch - 12ms/step\n",
            "\n",
            "Epoch 3/5\n",
            "\n",
            "188/188 - 2s - loss: 0.4226 - accuracy: 0.8519 - val_loss: 0.4269 - val_accuracy: 0.8451 - 2s/epoch - 12ms/step\n",
            "\n",
            "Epoch 4/5\n",
            "\n",
            "188/188 - 2s - loss: 0.3973 - accuracy: 0.8585 - val_loss: 0.4118 - val_accuracy: 0.8504 - 2s/epoch - 12ms/step\n",
            "\n",
            "Epoch 5/5\n",
            "\n",
            "188/188 - 2s - loss: 0.3805 - accuracy: 0.8633 - val_loss: 0.3976 - val_accuracy: 0.8557 - 2s/epoch - 12ms/step\n",
            "\n",
            "Test accuracy:\n",
            "0.8556666374206543\n",
            "Epoch 1/5\n",
            "\n",
            "94/94 - 2s - loss: 0.6786 - accuracy: 0.7715 - val_loss: 0.4890 - val_accuracy: 0.8328 - 2s/epoch - 18ms/step\n",
            "\n",
            "Epoch 2/5\n",
            "\n",
            "94/94 - 1s - loss: 0.4529 - accuracy: 0.8453 - val_loss: 0.4582 - val_accuracy: 0.8378 - 1s/epoch - 12ms/step\n",
            "\n",
            "Epoch 3/5\n",
            "\n",
            "94/94 - 1s - loss: 0.4071 - accuracy: 0.8585 - val_loss: 0.4047 - val_accuracy: 0.8602 - 1s/epoch - 12ms/step\n",
            "\n",
            "Epoch 4/5\n",
            "\n",
            "94/94 - 1s - loss: 0.3792 - accuracy: 0.8664 - val_loss: 0.3893 - val_accuracy: 0.8657 - 1s/epoch - 12ms/step\n",
            "\n",
            "Epoch 5/5\n",
            "\n",
            "94/94 - 1s - loss: 0.3595 - accuracy: 0.8733 - val_loss: 0.3804 - val_accuracy: 0.8635 - 1s/epoch - 12ms/step\n",
            "\n",
            "Test accuracy:\n",
            "0.8634999990463257\n",
            "Epoch 1/5\n",
            "\n",
            "188/188 - 2s - loss: 0.7131 - accuracy: 0.7456 - val_loss: 0.6237 - val_accuracy: 0.7708 - 2s/epoch - 12ms/step\n",
            "\n",
            "Epoch 2/5\n",
            "\n",
            "188/188 - 2s - loss: 0.4509 - accuracy: 0.8308 - val_loss: 0.4594 - val_accuracy: 0.8249 - 2s/epoch - 9ms/step\n",
            "\n",
            "Epoch 3/5\n",
            "\n",
            "188/188 - 2s - loss: 0.3986 - accuracy: 0.8511 - val_loss: 0.4326 - val_accuracy: 0.8407 - 2s/epoch - 9ms/step\n",
            "\n",
            "Epoch 4/5\n",
            "\n",
            "188/188 - 2s - loss: 0.3679 - accuracy: 0.8631 - val_loss: 0.4431 - val_accuracy: 0.8341 - 2s/epoch - 9ms/step\n",
            "\n",
            "Epoch 5/5\n",
            "\n",
            "188/188 - 2s - loss: 0.3459 - accuracy: 0.8719 - val_loss: 0.4930 - val_accuracy: 0.8220 - 2s/epoch - 9ms/step\n",
            "\n",
            "Test accuracy:\n",
            "0.8220000267028809\n",
            "Epoch 1/5\n",
            "\n",
            "188/188 - 2s - loss: 1.1255 - accuracy: 0.7209 - val_loss: 0.6944 - val_accuracy: 0.7408 - 2s/epoch - 12ms/step\n",
            "\n",
            "Epoch 2/5\n",
            "\n",
            "188/188 - 2s - loss: 0.4999 - accuracy: 0.8175 - val_loss: 0.4494 - val_accuracy: 0.8319 - 2s/epoch - 9ms/step\n",
            "\n",
            "Epoch 3/5\n",
            "\n",
            "188/188 - 2s - loss: 0.4381 - accuracy: 0.8407 - val_loss: 0.4578 - val_accuracy: 0.8403 - 2s/epoch - 9ms/step\n",
            "\n",
            "Epoch 4/5\n",
            "\n",
            "188/188 - 2s - loss: 0.3985 - accuracy: 0.8558 - val_loss: 0.5184 - val_accuracy: 0.8232 - 2s/epoch - 9ms/step\n",
            "\n",
            "Epoch 5/5\n",
            "\n",
            "188/188 - 2s - loss: 0.3797 - accuracy: 0.8635 - val_loss: 0.4117 - val_accuracy: 0.8480 - 2s/epoch - 9ms/step\n",
            "\n",
            "Test accuracy:\n",
            "0.8479999899864197\n",
            "Epoch 1/5\n",
            "\n",
            "94/94 - 2s - loss: 0.6884 - accuracy: 0.7578 - val_loss: 0.4534 - val_accuracy: 0.8335 - 2s/epoch - 18ms/step\n",
            "\n",
            "Epoch 2/5\n",
            "\n",
            "94/94 - 1s - loss: 0.4086 - accuracy: 0.8518 - val_loss: 0.3998 - val_accuracy: 0.8536 - 1s/epoch - 12ms/step\n",
            "\n",
            "Epoch 3/5\n",
            "\n",
            "94/94 - 1s - loss: 0.3649 - accuracy: 0.8666 - val_loss: 0.4006 - val_accuracy: 0.8518 - 1s/epoch - 12ms/step\n",
            "\n",
            "Epoch 4/5\n",
            "\n",
            "94/94 - 1s - loss: 0.3459 - accuracy: 0.8737 - val_loss: 0.3676 - val_accuracy: 0.8640 - 1s/epoch - 12ms/step\n",
            "\n",
            "Epoch 5/5\n",
            "\n",
            "94/94 - 1s - loss: 0.3158 - accuracy: 0.8839 - val_loss: 0.3473 - val_accuracy: 0.8752 - 1s/epoch - 12ms/step\n",
            "\n",
            "Test accuracy:\n",
            "0.875166654586792\n",
            "Epoch 1/5\n",
            "\n",
            "94/94 - 2s - loss: 0.8439 - accuracy: 0.7463 - val_loss: 0.4972 - val_accuracy: 0.8248 - 2s/epoch - 18ms/step\n",
            "\n",
            "Epoch 2/5\n",
            "\n",
            "94/94 - 1s - loss: 0.4285 - accuracy: 0.8493 - val_loss: 0.4024 - val_accuracy: 0.8591 - 1s/epoch - 12ms/step\n",
            "\n",
            "Epoch 3/5\n",
            "\n",
            "94/94 - 1s - loss: 0.3733 - accuracy: 0.8680 - val_loss: 0.3947 - val_accuracy: 0.8590 - 1s/epoch - 12ms/step\n",
            "\n",
            "Epoch 4/5\n",
            "\n",
            "94/94 - 1s - loss: 0.3508 - accuracy: 0.8744 - val_loss: 0.3667 - val_accuracy: 0.8713 - 1s/epoch - 12ms/step\n",
            "\n",
            "Epoch 5/5\n",
            "\n",
            "94/94 - 1s - loss: 0.3283 - accuracy: 0.8804 - val_loss: 0.3675 - val_accuracy: 0.8684 - 1s/epoch - 12ms/step\n",
            "\n",
            "Test accuracy:\n",
            "0.8684166669845581\n",
            "Epoch 1/5\n",
            "\n",
            "94/94 - 2s - loss: 0.8463 - accuracy: 0.7385 - val_loss: 0.4620 - val_accuracy: 0.8288 - 2s/epoch - 26ms/step\n",
            "\n",
            "Epoch 2/5\n",
            "\n",
            "94/94 - 2s - loss: 0.4125 - accuracy: 0.8497 - val_loss: 0.4079 - val_accuracy: 0.8484 - 2s/epoch - 20ms/step\n",
            "\n",
            "Epoch 3/5\n",
            "\n",
            "94/94 - 2s - loss: 0.3702 - accuracy: 0.8645 - val_loss: 0.3773 - val_accuracy: 0.8652 - 2s/epoch - 21ms/step\n",
            "\n",
            "Epoch 4/5\n",
            "\n",
            "94/94 - 2s - loss: 0.3346 - accuracy: 0.8788 - val_loss: 0.3577 - val_accuracy: 0.8697 - 2s/epoch - 20ms/step\n",
            "\n",
            "Epoch 5/5\n",
            "\n",
            "94/94 - 2s - loss: 0.3124 - accuracy: 0.8848 - val_loss: 0.3471 - val_accuracy: 0.8752 - 2s/epoch - 20ms/step\n",
            "\n",
            "Test accuracy:\n",
            "0.875249981880188\n",
            "Epoch 1/5\n",
            "\n",
            "94/94 - 2s - loss: 0.8970 - accuracy: 0.7578 - val_loss: 0.4682 - val_accuracy: 0.8303 - 2s/epoch - 26ms/step\n",
            "\n",
            "Epoch 2/5\n",
            "\n",
            "94/94 - 2s - loss: 0.3976 - accuracy: 0.8543 - val_loss: 0.4448 - val_accuracy: 0.8426 - 2s/epoch - 20ms/step\n",
            "\n",
            "Epoch 3/5\n",
            "\n",
            "94/94 - 2s - loss: 0.3594 - accuracy: 0.8678 - val_loss: 0.4005 - val_accuracy: 0.8560 - 2s/epoch - 20ms/step\n",
            "\n",
            "Epoch 4/5\n",
            "\n",
            "94/94 - 2s - loss: 0.3278 - accuracy: 0.8789 - val_loss: 0.3478 - val_accuracy: 0.8755 - 2s/epoch - 20ms/step\n",
            "\n",
            "Epoch 5/5\n",
            "\n",
            "94/94 - 2s - loss: 0.3091 - accuracy: 0.8862 - val_loss: 0.3579 - val_accuracy: 0.8676 - 2s/epoch - 20ms/step\n",
            "\n",
            "Test accuracy:\n",
            "0.8675833344459534\n",
            "Epoch 1/5\n",
            "\n",
            "94/94 - 2s - loss: 0.8184 - accuracy: 0.7359 - val_loss: 0.4574 - val_accuracy: 0.8342 - 2s/epoch - 26ms/step\n",
            "\n",
            "Epoch 2/5\n",
            "\n",
            "94/94 - 2s - loss: 0.4083 - accuracy: 0.8525 - val_loss: 0.3856 - val_accuracy: 0.8568 - 2s/epoch - 20ms/step\n",
            "\n",
            "Epoch 3/5\n",
            "\n",
            "94/94 - 2s - loss: 0.3645 - accuracy: 0.8671 - val_loss: 0.3679 - val_accuracy: 0.8698 - 2s/epoch - 20ms/step\n",
            "\n",
            "Epoch 4/5\n",
            "\n",
            "94/94 - 2s - loss: 0.3376 - accuracy: 0.8757 - val_loss: 0.3604 - val_accuracy: 0.8690 - 2s/epoch - 20ms/step\n",
            "\n",
            "Epoch 5/5\n",
            "\n",
            "94/94 - 2s - loss: 0.3132 - accuracy: 0.8854 - val_loss: 0.3384 - val_accuracy: 0.8767 - 2s/epoch - 20ms/step\n",
            "\n",
            "Test accuracy:\n",
            "0.8766666650772095\n",
            "Epoch 1/5\n",
            "\n",
            "94/94 - 2s - loss: 0.7504 - accuracy: 0.7469 - val_loss: 0.4459 - val_accuracy: 0.8355 - 2s/epoch - 26ms/step\n",
            "\n",
            "Epoch 2/5\n",
            "\n",
            "94/94 - 2s - loss: 0.4042 - accuracy: 0.8529 - val_loss: 0.4001 - val_accuracy: 0.8547 - 2s/epoch - 21ms/step\n",
            "\n",
            "Epoch 3/5\n",
            "\n",
            "94/94 - 2s - loss: 0.3592 - accuracy: 0.8683 - val_loss: 0.3614 - val_accuracy: 0.8701 - 2s/epoch - 20ms/step\n",
            "\n",
            "Epoch 4/5\n",
            "\n",
            "94/94 - 2s - loss: 0.3323 - accuracy: 0.8774 - val_loss: 0.3515 - val_accuracy: 0.8739 - 2s/epoch - 20ms/step\n",
            "\n",
            "Epoch 5/5\n",
            "\n",
            "94/94 - 2s - loss: 0.3092 - accuracy: 0.8855 - val_loss: 0.3341 - val_accuracy: 0.8783 - 2s/epoch - 20ms/step\n",
            "\n",
            "Test accuracy:\n",
            "0.878333330154419\n",
            "Epoch 1/5\n",
            "\n",
            "94/94 - 2s - loss: 0.9463 - accuracy: 0.7459 - val_loss: 0.4465 - val_accuracy: 0.8403 - 2s/epoch - 26ms/step\n",
            "\n",
            "Epoch 2/5\n",
            "\n",
            "94/94 - 2s - loss: 0.3966 - accuracy: 0.8594 - val_loss: 0.4038 - val_accuracy: 0.8518 - 2s/epoch - 20ms/step\n",
            "\n",
            "Epoch 3/5\n",
            "\n",
            "94/94 - 2s - loss: 0.3665 - accuracy: 0.8654 - val_loss: 0.4151 - val_accuracy: 0.8490 - 2s/epoch - 20ms/step\n",
            "\n",
            "Epoch 4/5\n",
            "\n",
            "94/94 - 2s - loss: 0.3382 - accuracy: 0.8756 - val_loss: 0.3726 - val_accuracy: 0.8645 - 2s/epoch - 20ms/step\n",
            "\n",
            "Epoch 5/5\n",
            "\n",
            "94/94 - 2s - loss: 0.3147 - accuracy: 0.8852 - val_loss: 0.3480 - val_accuracy: 0.8767 - 2s/epoch - 20ms/step\n",
            "\n",
            "Test accuracy:\n",
            "0.8766666650772095\n",
            "100%|██████████| 30/30 [07:14<00:00, 14.50s/it, best loss: -0.8806666731834412]\n"
          ]
        }
      ]
    },
    {
      "cell_type": "code",
      "source": [
        "print(best_run)"
      ],
      "metadata": {
        "colab": {
          "base_uri": "https://localhost:8080/"
        },
        "id": "IjFSROCY92tJ",
        "outputId": "3b08abc4-740a-4c9b-ec52-770e32dfa0b6"
      },
      "execution_count": null,
      "outputs": [
        {
          "output_type": "stream",
          "name": "stdout",
          "text": [
            "{'Activation': 0, 'Dense': 1, 'batch_size': 2, 'choiceval': 0, 'lr': 1, 'lr_1': 2, 'lr_2': 0}\n"
          ]
        }
      ]
    },
    {
      "cell_type": "code",
      "source": [
        "X_test.shape"
      ],
      "metadata": {
        "colab": {
          "base_uri": "https://localhost:8080/"
        },
        "id": "leM4mMy2-V8v",
        "outputId": "87ad0d60-fd72-4aef-c8d8-58fa82941692"
      },
      "execution_count": null,
      "outputs": [
        {
          "output_type": "execute_result",
          "data": {
            "text/plain": [
              "(10000, 28, 28)"
            ]
          },
          "metadata": {},
          "execution_count": 169
        }
      ]
    },
    {
      "cell_type": "code",
      "source": [
        ""
      ],
      "metadata": {
        "id": "IVBp50pf-kQm"
      },
      "execution_count": null,
      "outputs": []
    },
    {
      "cell_type": "code",
      "source": [
        "X_test = X_test.reshape(-1, 784)\n",
        "y_test = keras.utils.to_categorical(y_test)\n",
        "print(best_model.evaluate(X_test, y_test))"
      ],
      "metadata": {
        "colab": {
          "base_uri": "https://localhost:8080/"
        },
        "id": "8AkM_AlM93ov",
        "outputId": "ba7aa97f-f49e-4892-95a5-2a60b7bf4721"
      },
      "execution_count": null,
      "outputs": [
        {
          "output_type": "stream",
          "name": "stdout",
          "text": [
            "313/313 [==============================] - 1s 4ms/step - loss: 0.3327 - accuracy: 0.8778\n",
            "[0.3326897919178009, 0.8777999877929688]\n"
          ]
        }
      ]
    },
    {
      "cell_type": "code",
      "source": [
        ""
      ],
      "metadata": {
        "id": "_CU0pe0q-Az_"
      },
      "execution_count": null,
      "outputs": []
    }
  ]
}